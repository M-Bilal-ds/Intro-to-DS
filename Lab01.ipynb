{
 "cells": [
  {
   "cell_type": "markdown",
   "id": "e325acac-df62-4058-a2c7-d7e4ec8a228c",
   "metadata": {},
   "source": [
    "# **Lab 01**"
   ]
  },
  {
   "cell_type": "markdown",
   "id": "7a93ca5a-a175-4f53-8cb0-ec889a65a595",
   "metadata": {},
   "source": [
    "### *Task 01*"
   ]
  },
  {
   "cell_type": "code",
   "execution_count": 1,
   "id": "4d461a47-e4c4-4c6c-b94e-36e8e0905f51",
   "metadata": {},
   "outputs": [],
   "source": [
    "import numpy as np"
   ]
  },
  {
   "cell_type": "code",
   "execution_count": 18,
   "id": "43e2d484-b8c7-4732-bee1-ceeb534eb4c9",
   "metadata": {},
   "outputs": [
    {
     "data": {
      "text/plain": [
       "array([ 1,  2,  3,  4,  5,  6,  7,  8,  9, 10, 11, 12, 13, 14, 15, 16, 17,\n",
       "       18, 19, 20])"
      ]
     },
     "execution_count": 18,
     "metadata": {},
     "output_type": "execute_result"
    }
   ],
   "source": [
    "arr = np.arange(1,21)\n",
    "arr"
   ]
  },
  {
   "cell_type": "code",
   "execution_count": 19,
   "id": "97ad44c0-db78-47bf-8d2d-eed6fe81da2d",
   "metadata": {},
   "outputs": [
    {
     "data": {
      "text/plain": [
       "array([[ 1,  2,  3,  4,  5],\n",
       "       [ 6,  7,  8,  9, 10],\n",
       "       [11, 12, 13, 14, 15],\n",
       "       [16, 17, 18, 19, 20]])"
      ]
     },
     "execution_count": 19,
     "metadata": {},
     "output_type": "execute_result"
    }
   ],
   "source": [
    "arr2 = arr.reshape(4,5)\n",
    "arr2"
   ]
  },
  {
   "cell_type": "code",
   "execution_count": 20,
   "id": "c78e332c-3ece-408e-a2ec-71502a78224b",
   "metadata": {},
   "outputs": [
    {
     "data": {
      "text/plain": [
       "array([[ 1,  2,  3,  4,  0],\n",
       "       [ 6,  7,  8,  9,  0],\n",
       "       [11, 12, 13, 14,  0],\n",
       "       [16, 17, 18, 19,  0]])"
      ]
     },
     "execution_count": 20,
     "metadata": {},
     "output_type": "execute_result"
    }
   ],
   "source": [
    "arr2[:,-1] = 0 \n",
    "arr2"
   ]
  },
  {
   "cell_type": "code",
   "execution_count": 21,
   "id": "c05af192-ccb1-48c8-97d5-34d8a4e926c8",
   "metadata": {},
   "outputs": [
    {
     "data": {
      "text/plain": [
       "array([ 1,  2,  3,  4,  0,  6,  7,  8,  9,  0, 11, 12, 13, 14,  0, 16, 17,\n",
       "       18, 19,  0])"
      ]
     },
     "execution_count": 21,
     "metadata": {},
     "output_type": "execute_result"
    }
   ],
   "source": [
    "flat = arr2.flatten()\n",
    "flat"
   ]
  },
  {
   "cell_type": "markdown",
   "id": "71cdf3a0-9711-4dc6-933b-b65966baa7f6",
   "metadata": {},
   "source": [
    "### *Task 02*"
   ]
  },
  {
   "cell_type": "code",
   "execution_count": 22,
   "id": "ba4f80f5-3fbb-4f1f-9c4b-e8a79c21e617",
   "metadata": {},
   "outputs": [
    {
     "data": {
      "text/plain": [
       "array([[23, 24, 50, 29, 19],\n",
       "       [24, 42, 43, 32, 17],\n",
       "       [19, 31, 43, 34, 18],\n",
       "       [24, 48, 46, 49, 35],\n",
       "       [43, 11, 18, 45, 17]], dtype=int32)"
      ]
     },
     "execution_count": 22,
     "metadata": {},
     "output_type": "execute_result"
    }
   ],
   "source": [
    "array = np.random.randint(10,51,(5,5))\n",
    "array"
   ]
  },
  {
   "cell_type": "code",
   "execution_count": 23,
   "id": "a7e025cc-2632-47c6-ae3e-febd7005c015",
   "metadata": {},
   "outputs": [
    {
     "name": "stdout",
     "output_type": "stream",
     "text": [
      "[29.  31.6 29.  40.4 26.8] [145 158 145 202 134] [50 43 43 49 45] [19 17 18 24 11]\n"
     ]
    }
   ],
   "source": [
    "meanr = np.mean(array, axis = 1)\n",
    "sumr = np.sum(array, axis = 1)\n",
    "maxr = np.max(array, axis = 1)\n",
    "minr = np.min(array, axis = 1)\n",
    "print(meanr, sumr, maxr, minr)"
   ]
  },
  {
   "cell_type": "code",
   "execution_count": 24,
   "id": "2d43379e-94f1-4119-80fc-870c07aafc85",
   "metadata": {},
   "outputs": [
    {
     "name": "stdout",
     "output_type": "stream",
     "text": [
      "[26.6 31.2 40.  37.8 21.2] [133 156 200 189 106] [43 48 50 49 35] [19 11 18 29 17]\n"
     ]
    }
   ],
   "source": [
    "meanr = np.mean(array, axis = 0)\n",
    "sumr = np.sum(array, axis = 0)\n",
    "maxr = np.max(array, axis = 0)\n",
    "minr = np.min(array, axis = 0)\n",
    "print(meanr, sumr, maxr, minr)"
   ]
  },
  {
   "cell_type": "markdown",
   "id": "ca8b2850-0fd1-4bb2-a9a9-652ccf8dac51",
   "metadata": {},
   "source": [
    "### *Task 03*"
   ]
  },
  {
   "cell_type": "code",
   "execution_count": 25,
   "id": "abca6aba-68fc-4073-91c9-eeafce4ee6b5",
   "metadata": {},
   "outputs": [
    {
     "data": {
      "text/plain": [
       "array([[1., 0., 0., 0.],\n",
       "       [0., 1., 0., 0.],\n",
       "       [0., 0., 1., 0.],\n",
       "       [0., 0., 0., 1.]])"
      ]
     },
     "execution_count": 25,
     "metadata": {},
     "output_type": "execute_result"
    }
   ],
   "source": [
    "mat = np.eye(4)\n",
    "mat"
   ]
  },
  {
   "cell_type": "code",
   "execution_count": 26,
   "id": "dce224ef-ff2c-463c-b9e2-b9135754a380",
   "metadata": {},
   "outputs": [
    {
     "data": {
      "text/plain": [
       "array([[6., 0., 0., 0.],\n",
       "       [0., 6., 0., 0.],\n",
       "       [0., 0., 6., 0.],\n",
       "       [0., 0., 0., 6.]])"
      ]
     },
     "execution_count": 26,
     "metadata": {},
     "output_type": "execute_result"
    }
   ],
   "source": [
    "mat[np.diag_indices_from(mat)] += 5\n",
    "mat"
   ]
  },
  {
   "cell_type": "code",
   "execution_count": 27,
   "id": "0fda0625-0369-4b69-8de4-81038c8a418e",
   "metadata": {},
   "outputs": [
    {
     "data": {
      "text/plain": [
       "array([[6., 0., 0., 0.],\n",
       "       [0., 6., 0., 0.],\n",
       "       [0., 0., 6., 0.],\n",
       "       [1., 1., 1., 1.]])"
      ]
     },
     "execution_count": 27,
     "metadata": {},
     "output_type": "execute_result"
    }
   ],
   "source": [
    "mat[-1,:] = 1\n",
    "mat"
   ]
  },
  {
   "cell_type": "markdown",
   "id": "92d474ee-e024-454e-9491-a756a12d309b",
   "metadata": {},
   "source": [
    "### *Task 04*"
   ]
  },
  {
   "cell_type": "code",
   "execution_count": 28,
   "id": "58668d57-39b3-4ff0-a892-13ebdfd75b03",
   "metadata": {},
   "outputs": [
    {
     "data": {
      "text/plain": [
       "array([16, 17,  3,  5,  6,  8, 14, 17, 16, 13,  1, 20,  1, 12, 10],\n",
       "      dtype=int32)"
      ]
     },
     "execution_count": 28,
     "metadata": {},
     "output_type": "execute_result"
    }
   ],
   "source": [
    "four = np.random.randint(0, 21, 15)\n",
    "four"
   ]
  },
  {
   "cell_type": "code",
   "execution_count": 29,
   "id": "a3edc18a-5467-4f87-80d4-41cb9212192a",
   "metadata": {},
   "outputs": [
    {
     "data": {
      "text/plain": [
       "(array([ 1,  3,  5,  6,  8, 10, 12, 13, 14, 16, 17, 20], dtype=int32),\n",
       " array([2, 1, 1, 1, 1, 1, 1, 1, 1, 2, 2, 1]))"
      ]
     },
     "execution_count": 29,
     "metadata": {},
     "output_type": "execute_result"
    }
   ],
   "source": [
    "uniq = np.unique(four, return_counts = True)\n",
    "uniq"
   ]
  },
  {
   "cell_type": "code",
   "execution_count": 30,
   "id": "b2675dd4-8734-4452-b9c0-4fd45c097228",
   "metadata": {},
   "outputs": [
    {
     "data": {
      "text/plain": [
       "array([ 0,  1,  6,  7,  8,  9, 11, 13])"
      ]
     },
     "execution_count": 30,
     "metadata": {},
     "output_type": "execute_result"
    }
   ],
   "source": [
    "gr = np.where(four > 10)[0]\n",
    "gr"
   ]
  },
  {
   "cell_type": "markdown",
   "id": "d662cdb5-fe64-43ed-abbd-2227511d479b",
   "metadata": {},
   "source": [
    "### *Task 05*"
   ]
  },
  {
   "cell_type": "code",
   "execution_count": 31,
   "id": "4eb2b57a-ebd3-4a17-bec2-db2873907583",
   "metadata": {},
   "outputs": [
    {
     "data": {
      "text/plain": [
       "array([[0.62823054, 0.57481061, 0.61586157, 0.23872191],\n",
       "       [0.73315458, 0.07929288, 0.19803528, 0.29375038],\n",
       "       [0.2246351 , 0.30222842, 0.78171307, 0.18273431]])"
      ]
     },
     "execution_count": 31,
     "metadata": {},
     "output_type": "execute_result"
    }
   ],
   "source": [
    "fif = np.random.rand(3,4)\n",
    "fif"
   ]
  },
  {
   "cell_type": "code",
   "execution_count": 32,
   "id": "b42572a3-eb0a-470e-85cf-434020a4fe8e",
   "metadata": {},
   "outputs": [
    {
     "data": {
      "text/plain": [
       "array([[0.63, 0.57, 0.62, 0.24],\n",
       "       [0.73, 0.08, 0.2 , 0.29],\n",
       "       [0.22, 0.3 , 0.78, 0.18]])"
      ]
     },
     "execution_count": 32,
     "metadata": {},
     "output_type": "execute_result"
    }
   ],
   "source": [
    "rou = np.round(fif, 2)\n",
    "rou"
   ]
  },
  {
   "cell_type": "code",
   "execution_count": 33,
   "id": "dd097fac-0246-4b61-a848-27ff1e771fc3",
   "metadata": {},
   "outputs": [],
   "source": [
    "rou[:,1] = 0.5\n"
   ]
  },
  {
   "cell_type": "code",
   "execution_count": null,
   "id": "c8012b21-4ef7-41a7-8ed5-7ff55baeb3af",
   "metadata": {},
   "outputs": [],
   "source": []
  },
  {
   "cell_type": "code",
   "execution_count": null,
   "id": "5ef8ebc5-7ed5-411d-8fa5-594a2ef35e8c",
   "metadata": {},
   "outputs": [],
   "source": []
  },
  {
   "cell_type": "code",
   "execution_count": null,
   "id": "3a3d6498-5ce1-4e7a-b0bd-77f5588c6844",
   "metadata": {},
   "outputs": [],
   "source": []
  },
  {
   "cell_type": "code",
   "execution_count": null,
   "id": "450b7085-fcbc-41a2-9d93-1cc6d35f9e30",
   "metadata": {},
   "outputs": [],
   "source": []
  }
 ],
 "metadata": {
  "kernelspec": {
   "display_name": "Python 3 (ipykernel)",
   "language": "python",
   "name": "python3"
  },
  "language_info": {
   "codemirror_mode": {
    "name": "ipython",
    "version": 3
   },
   "file_extension": ".py",
   "mimetype": "text/x-python",
   "name": "python",
   "nbconvert_exporter": "python",
   "pygments_lexer": "ipython3",
   "version": "3.12.4"
  }
 },
 "nbformat": 4,
 "nbformat_minor": 5
}
