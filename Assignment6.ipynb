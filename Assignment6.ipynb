{
 "cells": [
  {
   "cell_type": "markdown",
   "id": "37fc5c6f-6b04-4735-bd81-4da450c688c8",
   "metadata": {},
   "source": [
    "# **Assignment 6**"
   ]
  },
  {
   "cell_type": "markdown",
   "id": "517f3d72-97bb-471d-9974-f4380d0bd46a",
   "metadata": {},
   "source": [
    "### *Task 1*"
   ]
  },
  {
   "cell_type": "code",
   "execution_count": 1,
   "id": "117aedcb-1d45-44f9-92dd-84bb43d756a5",
   "metadata": {},
   "outputs": [],
   "source": [
    "import pandas as pd\n",
    "import numpy as np\n",
    "import time"
   ]
  },
  {
   "cell_type": "code",
   "execution_count": 2,
   "id": "2561d816-9a07-4eca-8914-31fdb4cea301",
   "metadata": {},
   "outputs": [],
   "source": [
    "customers = pd.read_csv(\"customers.csv\")\n",
    "sales = pd.read_excel(\"Sales.xlsx\")"
   ]
  },
  {
   "cell_type": "code",
   "execution_count": 3,
   "id": "22f15386-774f-4b9d-9816-4e68e54a834d",
   "metadata": {},
   "outputs": [
    {
     "name": "stdout",
     "output_type": "stream",
     "text": [
      "Customers:\n",
      "    CustomerID  Age         City\n",
      "0           1   22     New York\n",
      "1           2   23  Los Angeles\n",
      "2           3   24      Chicago\n",
      "3           4   25      Houston\n",
      "4           5   26      Phoenix \n",
      "\n",
      "Sales:\n",
      "    SaleID  CustomerID     Product  Amount\n",
      "0     101           1      Laptop     200\n",
      "1     102           2  Smartphone     500\n",
      "2     103           3      Tablet     800\n",
      "3     104           4  Headphones    1100\n",
      "4     105           5     Monitor    1400\n"
     ]
    }
   ],
   "source": [
    "#Displaying first few rows\n",
    "print(\"Customers:\\n\", customers.head(),\"\\n\")\n",
    "print(\"Sales:\\n\", sales.head())"
   ]
  },
  {
   "cell_type": "code",
   "execution_count": 4,
   "id": "1f433e31-d89c-4ce1-b96c-61da26cb3cfc",
   "metadata": {},
   "outputs": [
    {
     "name": "stdout",
     "output_type": "stream",
     "text": [
      "\n",
      "Customers (100, 3) \n",
      "\n",
      "Sales: (400, 4)\n"
     ]
    }
   ],
   "source": [
    "#Total Rows and Columns\n",
    "print(\"\\nCustomers\", customers.shape,\"\\n\")\n",
    "print(\"Sales:\", sales.shape)"
   ]
  },
  {
   "cell_type": "code",
   "execution_count": 5,
   "id": "bed1791b-ce4c-448f-84dc-c7abd88841c1",
   "metadata": {},
   "outputs": [
    {
     "name": "stdout",
     "output_type": "stream",
     "text": [
      "Customers:\n",
      " CustomerID    0\n",
      "Age           0\n",
      "City          0\n",
      "dtype: int64\n",
      "Sales:\n",
      " SaleID        0\n",
      "CustomerID    0\n",
      "Product       0\n",
      "Amount        0\n",
      "dtype: int64\n"
     ]
    }
   ],
   "source": [
    "#Checking missing values\n",
    "print(\"Customers:\\n\", customers.isnull().sum())\n",
    "print(\"Sales:\\n\", sales.isnull().sum())"
   ]
  },
  {
   "cell_type": "code",
   "execution_count": 6,
   "id": "c73d090f-2287-4f2b-94af-5023b95ec6e7",
   "metadata": {},
   "outputs": [],
   "source": [
    "#No missing values so moving to next task"
   ]
  },
  {
   "cell_type": "markdown",
   "id": "cf61b45e-b554-4119-b046-8f2a8bc0f165",
   "metadata": {},
   "source": [
    "### *Task 2*"
   ]
  },
  {
   "cell_type": "code",
   "execution_count": 7,
   "id": "1ea69e3a-afc4-40dc-beb0-2b0d1108fc1b",
   "metadata": {},
   "outputs": [
    {
     "data": {
      "text/plain": [
       "{1: {'Age': 22, 'City': 'New York'},\n",
       " 2: {'Age': 23, 'City': 'Los Angeles'},\n",
       " 3: {'Age': 24, 'City': 'Chicago'},\n",
       " 4: {'Age': 25, 'City': 'Houston'},\n",
       " 5: {'Age': 26, 'City': 'Phoenix'},\n",
       " 6: {'Age': 27, 'City': 'New York'},\n",
       " 7: {'Age': 28, 'City': 'Los Angeles'},\n",
       " 8: {'Age': 29, 'City': 'Chicago'},\n",
       " 9: {'Age': 30, 'City': 'Houston'},\n",
       " 10: {'Age': 31, 'City': 'Phoenix'},\n",
       " 11: {'Age': 32, 'City': 'New York'},\n",
       " 12: {'Age': 33, 'City': 'Los Angeles'},\n",
       " 13: {'Age': 34, 'City': 'Chicago'},\n",
       " 14: {'Age': 35, 'City': 'Houston'},\n",
       " 15: {'Age': 36, 'City': 'Phoenix'},\n",
       " 16: {'Age': 37, 'City': 'New York'},\n",
       " 17: {'Age': 38, 'City': 'Los Angeles'},\n",
       " 18: {'Age': 39, 'City': 'Chicago'},\n",
       " 19: {'Age': 40, 'City': 'Houston'},\n",
       " 20: {'Age': 41, 'City': 'Phoenix'},\n",
       " 21: {'Age': 42, 'City': 'New York'},\n",
       " 22: {'Age': 43, 'City': 'Los Angeles'},\n",
       " 23: {'Age': 44, 'City': 'Chicago'},\n",
       " 24: {'Age': 45, 'City': 'Houston'},\n",
       " 25: {'Age': 46, 'City': 'Phoenix'},\n",
       " 26: {'Age': 47, 'City': 'New York'},\n",
       " 27: {'Age': 48, 'City': 'Los Angeles'},\n",
       " 28: {'Age': 49, 'City': 'Chicago'},\n",
       " 29: {'Age': 50, 'City': 'Houston'},\n",
       " 30: {'Age': 51, 'City': 'Phoenix'},\n",
       " 31: {'Age': 22, 'City': 'New York'},\n",
       " 32: {'Age': 23, 'City': 'Los Angeles'},\n",
       " 33: {'Age': 24, 'City': 'Chicago'},\n",
       " 34: {'Age': 25, 'City': 'Houston'},\n",
       " 35: {'Age': 26, 'City': 'Phoenix'},\n",
       " 36: {'Age': 27, 'City': 'New York'},\n",
       " 37: {'Age': 28, 'City': 'Los Angeles'},\n",
       " 38: {'Age': 29, 'City': 'Chicago'},\n",
       " 39: {'Age': 30, 'City': 'Houston'},\n",
       " 40: {'Age': 31, 'City': 'Phoenix'},\n",
       " 41: {'Age': 32, 'City': 'New York'},\n",
       " 42: {'Age': 33, 'City': 'Los Angeles'},\n",
       " 43: {'Age': 34, 'City': 'Chicago'},\n",
       " 44: {'Age': 35, 'City': 'Houston'},\n",
       " 45: {'Age': 36, 'City': 'Phoenix'},\n",
       " 46: {'Age': 37, 'City': 'New York'},\n",
       " 47: {'Age': 38, 'City': 'Los Angeles'},\n",
       " 48: {'Age': 39, 'City': 'Chicago'},\n",
       " 49: {'Age': 40, 'City': 'Houston'},\n",
       " 50: {'Age': 41, 'City': 'Phoenix'},\n",
       " 51: {'Age': 42, 'City': 'New York'},\n",
       " 52: {'Age': 43, 'City': 'Los Angeles'},\n",
       " 53: {'Age': 44, 'City': 'Chicago'},\n",
       " 54: {'Age': 45, 'City': 'Houston'},\n",
       " 55: {'Age': 46, 'City': 'Phoenix'},\n",
       " 56: {'Age': 47, 'City': 'New York'},\n",
       " 57: {'Age': 48, 'City': 'Los Angeles'},\n",
       " 58: {'Age': 49, 'City': 'Chicago'},\n",
       " 59: {'Age': 50, 'City': 'Houston'},\n",
       " 60: {'Age': 51, 'City': 'Phoenix'},\n",
       " 61: {'Age': 22, 'City': 'New York'},\n",
       " 62: {'Age': 23, 'City': 'Los Angeles'},\n",
       " 63: {'Age': 24, 'City': 'Chicago'},\n",
       " 64: {'Age': 25, 'City': 'Houston'},\n",
       " 65: {'Age': 26, 'City': 'Phoenix'},\n",
       " 66: {'Age': 27, 'City': 'New York'},\n",
       " 67: {'Age': 28, 'City': 'Los Angeles'},\n",
       " 68: {'Age': 29, 'City': 'Chicago'},\n",
       " 69: {'Age': 30, 'City': 'Houston'},\n",
       " 70: {'Age': 31, 'City': 'Phoenix'},\n",
       " 71: {'Age': 32, 'City': 'New York'},\n",
       " 72: {'Age': 33, 'City': 'Los Angeles'},\n",
       " 73: {'Age': 34, 'City': 'Chicago'},\n",
       " 74: {'Age': 35, 'City': 'Houston'},\n",
       " 75: {'Age': 36, 'City': 'Phoenix'},\n",
       " 76: {'Age': 37, 'City': 'New York'},\n",
       " 77: {'Age': 38, 'City': 'Los Angeles'},\n",
       " 78: {'Age': 39, 'City': 'Chicago'},\n",
       " 79: {'Age': 40, 'City': 'Houston'},\n",
       " 80: {'Age': 41, 'City': 'Phoenix'},\n",
       " 81: {'Age': 42, 'City': 'New York'},\n",
       " 82: {'Age': 43, 'City': 'Los Angeles'},\n",
       " 83: {'Age': 44, 'City': 'Chicago'},\n",
       " 84: {'Age': 45, 'City': 'Houston'},\n",
       " 85: {'Age': 46, 'City': 'Phoenix'},\n",
       " 86: {'Age': 47, 'City': 'New York'},\n",
       " 87: {'Age': 48, 'City': 'Los Angeles'},\n",
       " 88: {'Age': 49, 'City': 'Chicago'},\n",
       " 89: {'Age': 50, 'City': 'Houston'},\n",
       " 90: {'Age': 51, 'City': 'Phoenix'},\n",
       " 91: {'Age': 22, 'City': 'New York'},\n",
       " 92: {'Age': 23, 'City': 'Los Angeles'},\n",
       " 93: {'Age': 24, 'City': 'Chicago'},\n",
       " 94: {'Age': 25, 'City': 'Houston'},\n",
       " 95: {'Age': 26, 'City': 'Phoenix'},\n",
       " 96: {'Age': 27, 'City': 'New York'},\n",
       " 97: {'Age': 28, 'City': 'Los Angeles'},\n",
       " 98: {'Age': 29, 'City': 'Chicago'},\n",
       " 99: {'Age': 30, 'City': 'Houston'},\n",
       " 100: {'Age': 31, 'City': 'Phoenix'}}"
      ]
     },
     "execution_count": 7,
     "metadata": {},
     "output_type": "execute_result"
    }
   ],
   "source": [
    "#Making Dictionary\n",
    "startdic = time.time()\n",
    "dic = customers.set_index(\"CustomerID\").to_dict(orient=\"index\")\n",
    "enddic = time.time()\n",
    "dic"
   ]
  },
  {
   "cell_type": "code",
   "execution_count": 8,
   "id": "c8345b1e-67b1-4102-9569-66adf867bfca",
   "metadata": {},
   "outputs": [
    {
     "data": {
      "text/plain": [
       "{1: {'Age': 22, 'City': 'New York'},\n",
       " 6: {'Age': 27, 'City': 'New York'},\n",
       " 11: {'Age': 32, 'City': 'New York'},\n",
       " 16: {'Age': 37, 'City': 'New York'},\n",
       " 21: {'Age': 42, 'City': 'New York'},\n",
       " 26: {'Age': 47, 'City': 'New York'},\n",
       " 31: {'Age': 22, 'City': 'New York'},\n",
       " 36: {'Age': 27, 'City': 'New York'},\n",
       " 41: {'Age': 32, 'City': 'New York'},\n",
       " 46: {'Age': 37, 'City': 'New York'},\n",
       " 51: {'Age': 42, 'City': 'New York'},\n",
       " 56: {'Age': 47, 'City': 'New York'},\n",
       " 61: {'Age': 22, 'City': 'New York'},\n",
       " 66: {'Age': 27, 'City': 'New York'},\n",
       " 71: {'Age': 32, 'City': 'New York'},\n",
       " 76: {'Age': 37, 'City': 'New York'},\n",
       " 81: {'Age': 42, 'City': 'New York'},\n",
       " 86: {'Age': 47, 'City': 'New York'},\n",
       " 91: {'Age': 22, 'City': 'New York'},\n",
       " 96: {'Age': 27, 'City': 'New York'}}"
      ]
     },
     "execution_count": 8,
     "metadata": {},
     "output_type": "execute_result"
    }
   ],
   "source": [
    "#Filtering by city\n",
    "filtered = {i: j for i, j in dic.items() if j[\"City\"] == \"New York\"}\n",
    "filtered"
   ]
  },
  {
   "cell_type": "code",
   "execution_count": 9,
   "id": "d8973f2d-ca84-4054-ae5f-76f0607e10eb",
   "metadata": {},
   "outputs": [
    {
     "data": {
      "text/html": [
       "<div>\n",
       "<style scoped>\n",
       "    .dataframe tbody tr th:only-of-type {\n",
       "        vertical-align: middle;\n",
       "    }\n",
       "\n",
       "    .dataframe tbody tr th {\n",
       "        vertical-align: top;\n",
       "    }\n",
       "\n",
       "    .dataframe thead th {\n",
       "        text-align: right;\n",
       "    }\n",
       "</style>\n",
       "<table border=\"1\" class=\"dataframe\">\n",
       "  <thead>\n",
       "    <tr style=\"text-align: right;\">\n",
       "      <th></th>\n",
       "      <th>CustomerID</th>\n",
       "      <th>Age</th>\n",
       "      <th>City</th>\n",
       "    </tr>\n",
       "  </thead>\n",
       "  <tbody>\n",
       "    <tr>\n",
       "      <th>0</th>\n",
       "      <td>1</td>\n",
       "      <td>22</td>\n",
       "      <td>New York</td>\n",
       "    </tr>\n",
       "    <tr>\n",
       "      <th>5</th>\n",
       "      <td>6</td>\n",
       "      <td>27</td>\n",
       "      <td>New York</td>\n",
       "    </tr>\n",
       "    <tr>\n",
       "      <th>10</th>\n",
       "      <td>11</td>\n",
       "      <td>32</td>\n",
       "      <td>New York</td>\n",
       "    </tr>\n",
       "    <tr>\n",
       "      <th>15</th>\n",
       "      <td>16</td>\n",
       "      <td>37</td>\n",
       "      <td>New York</td>\n",
       "    </tr>\n",
       "    <tr>\n",
       "      <th>20</th>\n",
       "      <td>21</td>\n",
       "      <td>42</td>\n",
       "      <td>New York</td>\n",
       "    </tr>\n",
       "    <tr>\n",
       "      <th>25</th>\n",
       "      <td>26</td>\n",
       "      <td>47</td>\n",
       "      <td>New York</td>\n",
       "    </tr>\n",
       "    <tr>\n",
       "      <th>30</th>\n",
       "      <td>31</td>\n",
       "      <td>22</td>\n",
       "      <td>New York</td>\n",
       "    </tr>\n",
       "    <tr>\n",
       "      <th>35</th>\n",
       "      <td>36</td>\n",
       "      <td>27</td>\n",
       "      <td>New York</td>\n",
       "    </tr>\n",
       "    <tr>\n",
       "      <th>40</th>\n",
       "      <td>41</td>\n",
       "      <td>32</td>\n",
       "      <td>New York</td>\n",
       "    </tr>\n",
       "    <tr>\n",
       "      <th>45</th>\n",
       "      <td>46</td>\n",
       "      <td>37</td>\n",
       "      <td>New York</td>\n",
       "    </tr>\n",
       "    <tr>\n",
       "      <th>50</th>\n",
       "      <td>51</td>\n",
       "      <td>42</td>\n",
       "      <td>New York</td>\n",
       "    </tr>\n",
       "    <tr>\n",
       "      <th>55</th>\n",
       "      <td>56</td>\n",
       "      <td>47</td>\n",
       "      <td>New York</td>\n",
       "    </tr>\n",
       "    <tr>\n",
       "      <th>60</th>\n",
       "      <td>61</td>\n",
       "      <td>22</td>\n",
       "      <td>New York</td>\n",
       "    </tr>\n",
       "    <tr>\n",
       "      <th>65</th>\n",
       "      <td>66</td>\n",
       "      <td>27</td>\n",
       "      <td>New York</td>\n",
       "    </tr>\n",
       "    <tr>\n",
       "      <th>70</th>\n",
       "      <td>71</td>\n",
       "      <td>32</td>\n",
       "      <td>New York</td>\n",
       "    </tr>\n",
       "    <tr>\n",
       "      <th>75</th>\n",
       "      <td>76</td>\n",
       "      <td>37</td>\n",
       "      <td>New York</td>\n",
       "    </tr>\n",
       "    <tr>\n",
       "      <th>80</th>\n",
       "      <td>81</td>\n",
       "      <td>42</td>\n",
       "      <td>New York</td>\n",
       "    </tr>\n",
       "    <tr>\n",
       "      <th>85</th>\n",
       "      <td>86</td>\n",
       "      <td>47</td>\n",
       "      <td>New York</td>\n",
       "    </tr>\n",
       "    <tr>\n",
       "      <th>90</th>\n",
       "      <td>91</td>\n",
       "      <td>22</td>\n",
       "      <td>New York</td>\n",
       "    </tr>\n",
       "    <tr>\n",
       "      <th>95</th>\n",
       "      <td>96</td>\n",
       "      <td>27</td>\n",
       "      <td>New York</td>\n",
       "    </tr>\n",
       "  </tbody>\n",
       "</table>\n",
       "</div>"
      ],
      "text/plain": [
       "    CustomerID  Age      City\n",
       "0            1   22  New York\n",
       "5            6   27  New York\n",
       "10          11   32  New York\n",
       "15          16   37  New York\n",
       "20          21   42  New York\n",
       "25          26   47  New York\n",
       "30          31   22  New York\n",
       "35          36   27  New York\n",
       "40          41   32  New York\n",
       "45          46   37  New York\n",
       "50          51   42  New York\n",
       "55          56   47  New York\n",
       "60          61   22  New York\n",
       "65          66   27  New York\n",
       "70          71   32  New York\n",
       "75          76   37  New York\n",
       "80          81   42  New York\n",
       "85          86   47  New York\n",
       "90          91   22  New York\n",
       "95          96   27  New York"
      ]
     },
     "execution_count": 9,
     "metadata": {},
     "output_type": "execute_result"
    }
   ],
   "source": [
    "#Filtering using dataframe\n",
    "startdf = time.time()\n",
    "filtered_df = customers[customers[\"City\"] == \"New York\"]\n",
    "enddf = time.time()\n",
    "filtered_df"
   ]
  },
  {
   "cell_type": "code",
   "execution_count": 10,
   "id": "6136937e-6591-47a8-b5d7-b619686250dc",
   "metadata": {},
   "outputs": [
    {
     "name": "stdout",
     "output_type": "stream",
     "text": [
      "Dictionary time:  0.0 \n",
      "DataFrame Time:  0.0\n"
     ]
    }
   ],
   "source": [
    "#Checking efficiency\n",
    "print(\"Dictionary time: \", enddic - startdic, \"\\nDataFrame Time: \", enddf - startdf)"
   ]
  },
  {
   "cell_type": "markdown",
   "id": "fb9cb58f-037e-4dea-85d9-64b5fe34d9ee",
   "metadata": {},
   "source": [
    "### *Task 3*"
   ]
  },
  {
   "cell_type": "code",
   "execution_count": 11,
   "id": "61b524f6-ba9d-41a3-b396-659b710d2c1c",
   "metadata": {},
   "outputs": [
    {
     "name": "stdout",
     "output_type": "stream",
     "text": [
      "Customers: 0 \n",
      "\n",
      "Sales: 0\n"
     ]
    }
   ],
   "source": [
    "#Verifying duplicates\n",
    "print(\"Customers:\", customers.duplicated().sum(), \"\\n\")\n",
    "print(\"Sales:\", sales.duplicated().sum())"
   ]
  },
  {
   "cell_type": "code",
   "execution_count": 12,
   "id": "d8e73af8-9ff1-46fc-8844-bc5c92177004",
   "metadata": {},
   "outputs": [],
   "source": [
    "# No duplicates so moving to next task"
   ]
  },
  {
   "cell_type": "markdown",
   "id": "6b0b00be-10ba-4a09-877f-5fb9884c22b2",
   "metadata": {},
   "source": [
    "### Task 4"
   ]
  },
  {
   "cell_type": "code",
   "execution_count": 13,
   "id": "05a460d6-e856-4e1a-a36c-81d8e9661952",
   "metadata": {},
   "outputs": [
    {
     "data": {
      "text/html": [
       "<div>\n",
       "<style scoped>\n",
       "    .dataframe tbody tr th:only-of-type {\n",
       "        vertical-align: middle;\n",
       "    }\n",
       "\n",
       "    .dataframe tbody tr th {\n",
       "        vertical-align: top;\n",
       "    }\n",
       "\n",
       "    .dataframe thead th {\n",
       "        text-align: right;\n",
       "    }\n",
       "</style>\n",
       "<table border=\"1\" class=\"dataframe\">\n",
       "  <thead>\n",
       "    <tr style=\"text-align: right;\">\n",
       "      <th></th>\n",
       "      <th>SaleID</th>\n",
       "      <th>CustomerID</th>\n",
       "      <th>Product</th>\n",
       "      <th>Amount</th>\n",
       "      <th>AfterDiscount</th>\n",
       "    </tr>\n",
       "  </thead>\n",
       "  <tbody>\n",
       "    <tr>\n",
       "      <th>0</th>\n",
       "      <td>101</td>\n",
       "      <td>1</td>\n",
       "      <td>Laptop</td>\n",
       "      <td>200</td>\n",
       "      <td>180.0</td>\n",
       "    </tr>\n",
       "    <tr>\n",
       "      <th>1</th>\n",
       "      <td>102</td>\n",
       "      <td>2</td>\n",
       "      <td>Smartphone</td>\n",
       "      <td>500</td>\n",
       "      <td>450.0</td>\n",
       "    </tr>\n",
       "    <tr>\n",
       "      <th>2</th>\n",
       "      <td>103</td>\n",
       "      <td>3</td>\n",
       "      <td>Tablet</td>\n",
       "      <td>800</td>\n",
       "      <td>720.0</td>\n",
       "    </tr>\n",
       "    <tr>\n",
       "      <th>3</th>\n",
       "      <td>104</td>\n",
       "      <td>4</td>\n",
       "      <td>Headphones</td>\n",
       "      <td>1100</td>\n",
       "      <td>990.0</td>\n",
       "    </tr>\n",
       "    <tr>\n",
       "      <th>4</th>\n",
       "      <td>105</td>\n",
       "      <td>5</td>\n",
       "      <td>Monitor</td>\n",
       "      <td>1400</td>\n",
       "      <td>1260.0</td>\n",
       "    </tr>\n",
       "  </tbody>\n",
       "</table>\n",
       "</div>"
      ],
      "text/plain": [
       "   SaleID  CustomerID     Product  Amount  AfterDiscount\n",
       "0     101           1      Laptop     200          180.0\n",
       "1     102           2  Smartphone     500          450.0\n",
       "2     103           3      Tablet     800          720.0\n",
       "3     104           4  Headphones    1100          990.0\n",
       "4     105           5     Monitor    1400         1260.0"
      ]
     },
     "execution_count": 13,
     "metadata": {},
     "output_type": "execute_result"
    }
   ],
   "source": [
    "# Add discounted amount column\n",
    "sales[\"AfterDiscount\"] = sales[\"Amount\"] * 0.9\n",
    "sales.head()"
   ]
  },
  {
   "cell_type": "code",
   "execution_count": 14,
   "id": "c0171324-af30-4f36-8773-0817f3ed21eb",
   "metadata": {},
   "outputs": [
    {
     "name": "stdout",
     "output_type": "stream",
     "text": [
      "Total Sales:\n",
      "       Product  AfterDiscount\n",
      "0  Headphones        79200.0\n",
      "1      Laptop        14400.0\n",
      "2     Monitor       100800.0\n",
      "3  Smartphone        36000.0\n",
      "4      Tablet        57600.0\n"
     ]
    }
   ],
   "source": [
    "#Total Sales by Product\n",
    "total = sales.groupby(\"Product\")[\"AfterDiscount\"].sum().reset_index()\n",
    "print(\"Total Sales:\\n\", total)"
   ]
  },
  {
   "cell_type": "markdown",
   "id": "b8a39bad-fb79-4d8d-ab4d-b72da7ed7258",
   "metadata": {},
   "source": [
    "### *Task 5*"
   ]
  },
  {
   "cell_type": "code",
   "execution_count": 15,
   "id": "6c1c7e14-998c-485d-87de-b5abd968290e",
   "metadata": {},
   "outputs": [
    {
     "data": {
      "text/html": [
       "<div>\n",
       "<style scoped>\n",
       "    .dataframe tbody tr th:only-of-type {\n",
       "        vertical-align: middle;\n",
       "    }\n",
       "\n",
       "    .dataframe tbody tr th {\n",
       "        vertical-align: top;\n",
       "    }\n",
       "\n",
       "    .dataframe thead th {\n",
       "        text-align: right;\n",
       "    }\n",
       "</style>\n",
       "<table border=\"1\" class=\"dataframe\">\n",
       "  <thead>\n",
       "    <tr style=\"text-align: right;\">\n",
       "      <th></th>\n",
       "      <th>CustomerID</th>\n",
       "      <th>Age</th>\n",
       "      <th>City</th>\n",
       "    </tr>\n",
       "  </thead>\n",
       "  <tbody>\n",
       "    <tr>\n",
       "      <th>3</th>\n",
       "      <td>4</td>\n",
       "      <td>25</td>\n",
       "      <td>Houston</td>\n",
       "    </tr>\n",
       "    <tr>\n",
       "      <th>4</th>\n",
       "      <td>5</td>\n",
       "      <td>26</td>\n",
       "      <td>Phoenix</td>\n",
       "    </tr>\n",
       "    <tr>\n",
       "      <th>5</th>\n",
       "      <td>6</td>\n",
       "      <td>27</td>\n",
       "      <td>New York</td>\n",
       "    </tr>\n",
       "    <tr>\n",
       "      <th>6</th>\n",
       "      <td>7</td>\n",
       "      <td>28</td>\n",
       "      <td>Los Angeles</td>\n",
       "    </tr>\n",
       "    <tr>\n",
       "      <th>7</th>\n",
       "      <td>8</td>\n",
       "      <td>29</td>\n",
       "      <td>Chicago</td>\n",
       "    </tr>\n",
       "  </tbody>\n",
       "</table>\n",
       "</div>"
      ],
      "text/plain": [
       "   CustomerID  Age         City\n",
       "3           4   25      Houston\n",
       "4           5   26      Phoenix\n",
       "5           6   27     New York\n",
       "6           7   28  Los Angeles\n",
       "7           8   29      Chicago"
      ]
     },
     "execution_count": 15,
     "metadata": {},
     "output_type": "execute_result"
    }
   ],
   "source": [
    "#Filtering by Age\n",
    "age = customers[(customers[\"Age\"] >= 25) & (customers[\"Age\"] <= 35)]\n",
    "age.head()"
   ]
  },
  {
   "cell_type": "code",
   "execution_count": 16,
   "id": "0224d20a-b400-4c4e-a09c-8ead57787719",
   "metadata": {},
   "outputs": [],
   "source": [
    "#Saving to new structure\n",
    "age.to_csv(\"filtered_customers.csv\", index=False)"
   ]
  },
  {
   "cell_type": "code",
   "execution_count": 17,
   "id": "98171ef8-c9e4-4852-ba6c-16fd32499d08",
   "metadata": {},
   "outputs": [
    {
     "data": {
      "text/html": [
       "<div>\n",
       "<style scoped>\n",
       "    .dataframe tbody tr th:only-of-type {\n",
       "        vertical-align: middle;\n",
       "    }\n",
       "\n",
       "    .dataframe tbody tr th {\n",
       "        vertical-align: top;\n",
       "    }\n",
       "\n",
       "    .dataframe thead th {\n",
       "        text-align: right;\n",
       "    }\n",
       "</style>\n",
       "<table border=\"1\" class=\"dataframe\">\n",
       "  <thead>\n",
       "    <tr style=\"text-align: right;\">\n",
       "      <th></th>\n",
       "      <th>CustomerID</th>\n",
       "      <th>Age</th>\n",
       "      <th>City</th>\n",
       "    </tr>\n",
       "  </thead>\n",
       "  <tbody>\n",
       "    <tr>\n",
       "      <th>0</th>\n",
       "      <td>4</td>\n",
       "      <td>25</td>\n",
       "      <td>Houston</td>\n",
       "    </tr>\n",
       "    <tr>\n",
       "      <th>1</th>\n",
       "      <td>5</td>\n",
       "      <td>26</td>\n",
       "      <td>Phoenix</td>\n",
       "    </tr>\n",
       "    <tr>\n",
       "      <th>2</th>\n",
       "      <td>6</td>\n",
       "      <td>27</td>\n",
       "      <td>New York</td>\n",
       "    </tr>\n",
       "    <tr>\n",
       "      <th>3</th>\n",
       "      <td>7</td>\n",
       "      <td>28</td>\n",
       "      <td>Los Angeles</td>\n",
       "    </tr>\n",
       "    <tr>\n",
       "      <th>4</th>\n",
       "      <td>8</td>\n",
       "      <td>29</td>\n",
       "      <td>Chicago</td>\n",
       "    </tr>\n",
       "  </tbody>\n",
       "</table>\n",
       "</div>"
      ],
      "text/plain": [
       "   CustomerID  Age         City\n",
       "0           4   25      Houston\n",
       "1           5   26      Phoenix\n",
       "2           6   27     New York\n",
       "3           7   28  Los Angeles\n",
       "4           8   29      Chicago"
      ]
     },
     "execution_count": 17,
     "metadata": {},
     "output_type": "execute_result"
    }
   ],
   "source": [
    "filtered = pd.read_csv(\"filtered_customers.csv\")\n",
    "filtered.head()"
   ]
  },
  {
   "cell_type": "code",
   "execution_count": 18,
   "id": "b4bfe4e7-7d43-452d-800e-27d3c6b42f9a",
   "metadata": {},
   "outputs": [
    {
     "name": "stdout",
     "output_type": "stream",
     "text": [
      "City Counts City\n",
      "Houston        11\n",
      "Phoenix         8\n",
      "New York        7\n",
      "Los Angeles     7\n",
      "Chicago         7\n",
      "Name: count, dtype: int64\n"
     ]
    }
   ],
   "source": [
    "#Counting customers by city\n",
    "counts = age[\"City\"].value_counts()\n",
    "print(\"City Counts\", counts)"
   ]
  },
  {
   "cell_type": "markdown",
   "id": "5fc5738f-eae0-4b46-9cd6-fcc97b85dedb",
   "metadata": {},
   "source": [
    "### *Task 6*"
   ]
  },
  {
   "cell_type": "code",
   "execution_count": 19,
   "id": "fca7fccb-1d4b-499e-9beb-7a6a13cc7814",
   "metadata": {},
   "outputs": [
    {
     "data": {
      "text/html": [
       "<div>\n",
       "<style scoped>\n",
       "    .dataframe tbody tr th:only-of-type {\n",
       "        vertical-align: middle;\n",
       "    }\n",
       "\n",
       "    .dataframe tbody tr th {\n",
       "        vertical-align: top;\n",
       "    }\n",
       "\n",
       "    .dataframe thead th {\n",
       "        text-align: right;\n",
       "    }\n",
       "</style>\n",
       "<table border=\"1\" class=\"dataframe\">\n",
       "  <thead>\n",
       "    <tr style=\"text-align: right;\">\n",
       "      <th></th>\n",
       "      <th>SaleID</th>\n",
       "      <th>CustomerID</th>\n",
       "      <th>Product</th>\n",
       "      <th>Amount</th>\n",
       "      <th>AfterDiscount</th>\n",
       "      <th>Age</th>\n",
       "      <th>City</th>\n",
       "    </tr>\n",
       "  </thead>\n",
       "  <tbody>\n",
       "    <tr>\n",
       "      <th>0</th>\n",
       "      <td>101</td>\n",
       "      <td>1</td>\n",
       "      <td>Laptop</td>\n",
       "      <td>200</td>\n",
       "      <td>180.0</td>\n",
       "      <td>22</td>\n",
       "      <td>New York</td>\n",
       "    </tr>\n",
       "    <tr>\n",
       "      <th>1</th>\n",
       "      <td>102</td>\n",
       "      <td>2</td>\n",
       "      <td>Smartphone</td>\n",
       "      <td>500</td>\n",
       "      <td>450.0</td>\n",
       "      <td>23</td>\n",
       "      <td>Los Angeles</td>\n",
       "    </tr>\n",
       "    <tr>\n",
       "      <th>2</th>\n",
       "      <td>103</td>\n",
       "      <td>3</td>\n",
       "      <td>Tablet</td>\n",
       "      <td>800</td>\n",
       "      <td>720.0</td>\n",
       "      <td>24</td>\n",
       "      <td>Chicago</td>\n",
       "    </tr>\n",
       "    <tr>\n",
       "      <th>3</th>\n",
       "      <td>104</td>\n",
       "      <td>4</td>\n",
       "      <td>Headphones</td>\n",
       "      <td>1100</td>\n",
       "      <td>990.0</td>\n",
       "      <td>25</td>\n",
       "      <td>Houston</td>\n",
       "    </tr>\n",
       "    <tr>\n",
       "      <th>4</th>\n",
       "      <td>105</td>\n",
       "      <td>5</td>\n",
       "      <td>Monitor</td>\n",
       "      <td>1400</td>\n",
       "      <td>1260.0</td>\n",
       "      <td>26</td>\n",
       "      <td>Phoenix</td>\n",
       "    </tr>\n",
       "  </tbody>\n",
       "</table>\n",
       "</div>"
      ],
      "text/plain": [
       "   SaleID  CustomerID     Product  Amount  AfterDiscount  Age         City\n",
       "0     101           1      Laptop     200          180.0   22     New York\n",
       "1     102           2  Smartphone     500          450.0   23  Los Angeles\n",
       "2     103           3      Tablet     800          720.0   24      Chicago\n",
       "3     104           4  Headphones    1100          990.0   25      Houston\n",
       "4     105           5     Monitor    1400         1260.0   26      Phoenix"
      ]
     },
     "execution_count": 19,
     "metadata": {},
     "output_type": "execute_result"
    }
   ],
   "source": [
    "# Merge datasets\n",
    "merged_data = pd.merge(sales, customers, on=\"CustomerID\", how=\"inner\")\n",
    "merged_data.head()"
   ]
  },
  {
   "cell_type": "code",
   "execution_count": 20,
   "id": "0ce0bb92-2e63-4a22-8d78-6a9184d0e023",
   "metadata": {},
   "outputs": [
    {
     "data": {
      "text/plain": [
       "'Phoenix'"
      ]
     },
     "execution_count": 20,
     "metadata": {},
     "output_type": "execute_result"
    }
   ],
   "source": [
    "#Ciry with most sales\n",
    "city = merged_data.groupby(\"City\")[\"Amount\"].sum().idxmax()\n",
    "city"
   ]
  },
  {
   "cell_type": "code",
   "execution_count": 21,
   "id": "91fd03c3-bcf0-43d1-bdf6-442b1e41e3c1",
   "metadata": {},
   "outputs": [
    {
     "data": {
      "text/plain": [
       "'Laptop'"
      ]
     },
     "execution_count": 21,
     "metadata": {},
     "output_type": "execute_result"
    }
   ],
   "source": [
    "# Count occurrences of each product (number of units sold)\n",
    "most = merged_data[\"Product\"].value_counts().idxmax()\n",
    "most"
   ]
  },
  {
   "cell_type": "markdown",
   "id": "5a48f9f3-ab21-45f4-8393-361361388762",
   "metadata": {},
   "source": [
    "### *Task 7*"
   ]
  },
  {
   "cell_type": "code",
   "execution_count": 22,
   "id": "85772701-ab1c-4765-a7ab-d59f3ca37f5b",
   "metadata": {},
   "outputs": [
    {
     "name": "stdout",
     "output_type": "stream",
     "text": [
      "Unique Cities: ['New York' 'Los Angeles' 'Chicago' 'Houston' 'Phoenix']\n",
      "Unique Products: ['Laptop' 'Smartphone' 'Tablet' 'Headphones' 'Monitor']\n"
     ]
    }
   ],
   "source": [
    "# Unique values\n",
    "ucities = merged_data[\"City\"].unique()\n",
    "uproducts = merged_data[\"Product\"].unique()\n",
    "print(\"Unique Cities:\", ucities)\n",
    "print(\"Unique Products:\", uproducts)"
   ]
  },
  {
   "cell_type": "code",
   "execution_count": 23,
   "id": "24917ed5-faa7-4849-afdd-3818c6435fcf",
   "metadata": {},
   "outputs": [
    {
     "name": "stdout",
     "output_type": "stream",
     "text": [
      "Mean of Amount: 800.0\n",
      "Median of Amount: 800.0\n"
     ]
    }
   ],
   "source": [
    "# Mean and median\n",
    "mean = merged_data[\"Amount\"].mean()\n",
    "median = merged_data[\"Amount\"].median()\n",
    "print(\"Mean of Amount:\", mean)\n",
    "print(\"Median of Amount:\", median)"
   ]
  },
  {
   "cell_type": "code",
   "execution_count": null,
   "id": "ee7e5067-0a34-42c3-bb07-953f29b98e7f",
   "metadata": {},
   "outputs": [],
   "source": []
  }
 ],
 "metadata": {
  "kernelspec": {
   "display_name": "Python 3 (ipykernel)",
   "language": "python",
   "name": "python3"
  },
  "language_info": {
   "codemirror_mode": {
    "name": "ipython",
    "version": 3
   },
   "file_extension": ".py",
   "mimetype": "text/x-python",
   "name": "python",
   "nbconvert_exporter": "python",
   "pygments_lexer": "ipython3",
   "version": "3.12.4"
  }
 },
 "nbformat": 4,
 "nbformat_minor": 5
}
