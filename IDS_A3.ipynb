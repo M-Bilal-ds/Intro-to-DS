{
 "cells": [
  {
   "cell_type": "markdown",
   "id": "fe2a33d2-0fde-4df0-a5f9-77a7a2e20a31",
   "metadata": {},
   "source": [
    "# **Python Programming Concepts**"
   ]
  },
  {
   "cell_type": "markdown",
   "id": "9250168a-fb60-4a8d-8e19-37f0080b0bef",
   "metadata": {},
   "source": [
    "## Assignment 3"
   ]
  },
  {
   "cell_type": "markdown",
   "id": "bfe2fd83-25e2-4bdd-91c1-2eb14d45fe3c",
   "metadata": {},
   "source": [
    "### **Task 1:** E-commerce Data Processing"
   ]
  },
  {
   "cell_type": "code",
   "execution_count": 1,
   "id": "60843646-32ad-4059-b742-f2fbb2e7a1d3",
   "metadata": {},
   "outputs": [],
   "source": [
    "orders = [\n",
    "{\"customer\": \"Alice\", \"total\": 250.5},\n",
    "{\"customer\": \"Bob\", \"total\": \"invalid_data\"},\n",
    "{\"customer\": \"Charlie\", \"total\": 450},\n",
    "{\"customer\": \"Daisy\", \"total\": 100.0},\n",
    "{\"customer\": \"Eve\", \"total\": -30}, # Invalid total\n",
    "]\n",
    "# Provided Orders list"
   ]
  },
  {
   "cell_type": "markdown",
   "id": "17db71bb-3457-477f-96ee-35a31d22cd18",
   "metadata": {},
   "source": [
    "#### **Part A:** Data Validation"
   ]
  },
  {
   "cell_type": "code",
   "execution_count": 2,
   "id": "886e6b66-3f47-46df-b99e-578df30ab6c9",
   "metadata": {},
   "outputs": [
    {
     "name": "stdout",
     "output_type": "stream",
     "text": [
      "[{'customer': 'Alice', 'total': 250.5}, {'customer': 'Charlie', 'total': 450}, {'customer': 'Daisy', 'total': 100.0}]\n"
     ]
    }
   ],
   "source": [
    "def valid(val):\n",
    "    try: \n",
    "        return  isinstance(val[\"total\"],(int, float)) and val[\"total\"]>=0 \n",
    "    except: \n",
    "        print(TypeError(\"Invalid DataType\"))\n",
    "        \n",
    "filtered = list(filter(lambda i: valid(i), orders))\n",
    "print(filtered)\n",
    "\n",
    "#valid() function checks the validity of total and return True accordingly if there raises no error\n",
    "#filter function uses valid() function and lambda over it as function parameter and orders list as iterable parameter\n",
    "#filtered variable contains list of object resulted from filter() function"
   ]
  },
  {
   "cell_type": "markdown",
   "id": "d34d11c5-fe71-4e56-90df-ab77a0b16cef",
   "metadata": {},
   "source": [
    "#### **Part B:** Discount Application"
   ]
  },
  {
   "cell_type": "code",
   "execution_count": 3,
   "id": "073c3bcb-97b8-477b-be71-10f32fbc539e",
   "metadata": {},
   "outputs": [
    {
     "name": "stdout",
     "output_type": "stream",
     "text": [
      "[{'customer': 'Alice', 'total': 250.5}, {'customer': 'Charlie', 'total': 405.0}, {'customer': 'Daisy', 'total': 100.0}]\n"
     ]
    }
   ],
   "source": [
    "def discount(val):\n",
    "    if val[\"total\"] > 300:\n",
    "        val[\"total\"] -= (val[\"total\"]*0.10)\n",
    "    return val\n",
    "discounted = list(map(lambda i: discount(i), filtered))\n",
    "print(discounted)\n",
    "\n",
    "#Discount function applies discount on total\n",
    "#map takes this discount function as 1st parameter of lambda\n",
    "#filtered iterable from previous code cell and provides updates list of values"
   ]
  },
  {
   "cell_type": "markdown",
   "id": "f1e8a15c-eee3-4321-8bdb-6aa8cebcc66b",
   "metadata": {},
   "source": [
    "#### **Part C:** Total Sales Calculation"
   ]
  },
  {
   "cell_type": "code",
   "execution_count": 4,
   "id": "9c97bf31-8944-4dc0-b599-5905f578de69",
   "metadata": {},
   "outputs": [
    {
     "name": "stdout",
     "output_type": "stream",
     "text": [
      "Total =  755.5\n"
     ]
    }
   ],
   "source": [
    "import functools\n",
    "\n",
    "total = functools.reduce(lambda s, i: s + i[\"total\"], discounted, 0)\n",
    "print(\"Total = \", total)\n",
    "\n",
    "#Reduce functions iterates over discounted list and sums all the values"
   ]
  },
  {
   "cell_type": "markdown",
   "id": "0e3755a9-09ad-4a1a-9136-9e99a327a950",
   "metadata": {},
   "source": [
    "### **Task 2:** Iterator and Generator"
   ]
  },
  {
   "cell_type": "markdown",
   "id": "57dc8147-f047-4066-8709-b05c5a509ee9",
   "metadata": {},
   "source": [
    "#### **Part A:** Custom Iterator"
   ]
  },
  {
   "cell_type": "code",
   "execution_count": 5,
   "id": "642961e6-d7e3-4c19-b8ba-9095c2df4a37",
   "metadata": {},
   "outputs": [
    {
     "name": "stdin",
     "output_type": "stream",
     "text": [
      "Enter Integer:  10\n"
     ]
    },
    {
     "name": "stdout",
     "output_type": "stream",
     "text": [
      "Squares:  [1, 4, 9, 16, 25, 36, 49, 64, 81, 100]\n"
     ]
    }
   ],
   "source": [
    "class SquareIterator:\n",
    "    def __init__(self, n):\n",
    "        self.n = n\n",
    "        self.current = 1\n",
    "    \n",
    "    def __iter__(self):\n",
    "        return self\n",
    "    \n",
    "    def __next__(self):\n",
    "        if self.current <= self.n:\n",
    "            result = self.current **2\n",
    "            self.current += 1\n",
    "            return result\n",
    "        else:\n",
    "            raise StopIteration\n",
    "\n",
    "n = int(input(\"Enter Integer: \"))\n",
    "sq = SquareIterator(n)\n",
    "print(\"Squares: \", ([i for i in sq]))\n",
    "\n",
    "#Iterator SquareIterator class iterates a given range and computes square of each value in __next__ function."
   ]
  },
  {
   "cell_type": "markdown",
   "id": "bff4ef93-1d11-4d84-aa8e-f117de88341f",
   "metadata": {},
   "source": [
    "#### **Part B:** Fibonacci Generator"
   ]
  },
  {
   "cell_type": "code",
   "execution_count": 6,
   "id": "cec8dcc9-894c-46ad-893f-3a6a47b6774a",
   "metadata": {},
   "outputs": [
    {
     "name": "stdin",
     "output_type": "stream",
     "text": [
      "Enter Integer:  10\n"
     ]
    },
    {
     "name": "stdout",
     "output_type": "stream",
     "text": [
      "Fibonacci sequence:  [0, 1, 1, 2, 3, 5, 8]\n"
     ]
    }
   ],
   "source": [
    "def fibonacci_generator(n):\n",
    "    a = 0; b = 1\n",
    "    while a < n: \n",
    "        yield a \n",
    "        a, b = b, a + b\n",
    "\n",
    "n = int(input(\"Enter Integer: \"))\n",
    "print(\"Fibonacci sequence: \", list(i for i in fibonacci_generator(n)))\n",
    "\n",
    "#Fibonacci generator function generates a fibonacci seq object"
   ]
  },
  {
   "cell_type": "markdown",
   "id": "e413eb71-75d3-4e95-a14b-b71e17a1fc86",
   "metadata": {},
   "source": [
    "### **Task 3:** Exception Handling and Function Decorator"
   ]
  },
  {
   "cell_type": "markdown",
   "id": "05bd48bf-91f4-4031-a36d-faf443e6750d",
   "metadata": {},
   "source": [
    "#### **Part A:** Chained Exceptions"
   ]
  },
  {
   "cell_type": "code",
   "execution_count": 7,
   "id": "bae17886-13c1-4375-a009-f144556a42d2",
   "metadata": {},
   "outputs": [
    {
     "name": "stdout",
     "output_type": "stream",
     "text": [
      "Error occurred while dividing. Check values.\n"
     ]
    }
   ],
   "source": [
    "class DivisionError(Exception):\n",
    "    def __init__(self, text):\n",
    "        super().__init__(text)\n",
    "        \n",
    "def division(lis, divisor):\n",
    "    divided = []\n",
    "    if divisor == 0:\n",
    "        raise DivisionError(\"Zero can't be Divisor\")\n",
    "    \n",
    "    for i in lis:\n",
    "        try:\n",
    "            divided.append(i/divisor)\n",
    "        except Exception as exc:\n",
    "            raise DivisionError(\"Error occurred while dividing. Check values.\") from exc\n",
    "    return divided\n",
    "\n",
    "lis = [10, 20, 30, \"Check\"]\n",
    "divisor = 2\n",
    "\n",
    "try:\n",
    "    result = division(lis, divisor)\n",
    "    print(result)\n",
    "except DivisionError as exc:\n",
    "    print(exc)\n",
    "\n",
    "#Class Division error is made for chaining\n",
    "#division function performs divion on list elements if possible handling exceptions"
   ]
  },
  {
   "cell_type": "markdown",
   "id": "61a48181-047f-448d-a4bf-0f1a8293638c",
   "metadata": {},
   "source": [
    "#### **Part B:** Exception Logging Decorator"
   ]
  },
  {
   "cell_type": "code",
   "execution_count": 9,
   "id": "3e8c8853-a296-4398-b126-9d3fcdbb4d7b",
   "metadata": {},
   "outputs": [
    {
     "name": "stdout",
     "output_type": "stream",
     "text": [
      "Exception occurred in 'divide':\n",
      "Type: ZeroDivisionError\n",
      "Message: division by zero\n",
      "Result: 5.0\n"
     ]
    }
   ],
   "source": [
    "import functools\n",
    "\n",
    "def log_exceptions(func):\n",
    "    @functools.wraps(func)\n",
    "    def wrapper(*args, **kwargs):\n",
    "        try:\n",
    "            return func(*args, **kwargs)\n",
    "        except Exception as e:\n",
    "            print(f\"Exception occurred in '{func.__name__}':\")\n",
    "            print(f\"Type: {type(e).__name__}\")\n",
    "            print(f\"Message: {e}\")\n",
    "            raise\n",
    "    return wrapper\n",
    "\n",
    "@log_exceptions\n",
    "def divide(a, b):\n",
    "    return a/b\n",
    "\n",
    "try:\n",
    "    res = divide(10, 0)\n",
    "except ZeroDivisionError:\n",
    "    pass\n",
    "\n",
    "try:\n",
    "    res = divide(10, 2)\n",
    "    print(f\"Result: {res}\")\n",
    "except ZeroDivisionError:\n",
    "    pass\n",
    "\n",
    "#Exceptions are logged in wrapper    \n",
    "#divide is example function using decorator\n",
    "#There are two cases tested for demonstration"
   ]
  },
  {
   "cell_type": "code",
   "execution_count": null,
   "id": "4803c029-7cd1-4df0-b676-983361381a7f",
   "metadata": {},
   "outputs": [],
   "source": []
  }
 ],
 "metadata": {
  "kernelspec": {
   "display_name": "Python 3 (ipykernel)",
   "language": "python",
   "name": "python3"
  },
  "language_info": {
   "codemirror_mode": {
    "name": "ipython",
    "version": 3
   },
   "file_extension": ".py",
   "mimetype": "text/x-python",
   "name": "python",
   "nbconvert_exporter": "python",
   "pygments_lexer": "ipython3",
   "version": "3.12.4"
  }
 },
 "nbformat": 4,
 "nbformat_minor": 5
}
