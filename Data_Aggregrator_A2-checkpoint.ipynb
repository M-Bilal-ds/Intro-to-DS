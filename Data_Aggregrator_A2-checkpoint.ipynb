{
 "cells": [
  {
   "cell_type": "markdown",
   "id": "f46e4d9e-19be-4ce7-b152-d057da3ab773",
   "metadata": {},
   "source": [
    "# **Building a Smart Data Aggregator**"
   ]
  },
  {
   "cell_type": "markdown",
   "id": "d5c6bc18-92b9-42ec-8506-1d514b69035c",
   "metadata": {},
   "source": [
    "## *Assignment 2*"
   ]
  },
  {
   "cell_type": "markdown",
   "id": "c569433b-d52d-437c-9543-247ffce7d1a6",
   "metadata": {},
   "source": [
    "#### **Part 1:** User Data Processing with Lists"
   ]
  },
  {
   "cell_type": "markdown",
   "id": "0d15203b-199b-4e0e-8314-2d0758615023",
   "metadata": {},
   "source": [
    "##### **-->** Filtering Users and Extracting their names"
   ]
  },
  {
   "cell_type": "code",
   "execution_count": 1,
   "id": "0bbab4f6-8b2e-4c5c-92ad-92dfc264fdad",
   "metadata": {},
   "outputs": [],
   "source": [
    "def filter_users(data):\n",
    "    names = [i[1] for i in data if i[2]>30 and (i[3]=='Canada' or i[3]=='USA')]\n",
    "    return names"
   ]
  },
  {
   "cell_type": "markdown",
   "id": "dc7e0eb1-cc48-4bdd-a457-a57f9530eced",
   "metadata": {},
   "source": [
    "##### --> Returning top 10 oldest users"
   ]
  },
  {
   "cell_type": "code",
   "execution_count": 2,
   "id": "c4481bca-9c0f-48ad-88f8-5365df4e3431",
   "metadata": {},
   "outputs": [],
   "source": [
    "def top_oldest(data):\n",
    "    top = sorted(data, key = lambda i: i[2], reverse = True)[:10]\n",
    "    return top"
   ]
  },
  {
   "cell_type": "markdown",
   "id": "8ab17f77-76d5-4023-b864-4928cacdbb5c",
   "metadata": {},
   "source": [
    "##### **-->** Returning Duplicate names"
   ]
  },
  {
   "cell_type": "code",
   "execution_count": 3,
   "id": "1bdfee3b-6f60-48de-928e-f994f0bf1782",
   "metadata": {},
   "outputs": [],
   "source": [
    "def duplicates(data):\n",
    "    setcheck = set(); listdup = []\n",
    "    for i in data:\n",
    "        if i[1] not in setcheck:\n",
    "            setcheck.add(i[1])\n",
    "        else:\n",
    "            listdup.append(i[1])\n",
    "    return set(listdup)\n",
    "    "
   ]
  },
  {
   "cell_type": "markdown",
   "id": "8773e5f9-23b9-4118-bce2-e885fee9ed09",
   "metadata": {},
   "source": [
    "### **Implementation 1**"
   ]
  },
  {
   "cell_type": "code",
   "execution_count": 4,
   "id": "6508e44c-f373-4bdb-9c16-736c4faca970",
   "metadata": {},
   "outputs": [
    {
     "name": "stdout",
     "output_type": "stream",
     "text": [
      "Top 10 oldest users:  [(6, 'Esha', 50, 'Pakistan'), (4, 'Asma', 40, 'Korea'), (1, 'Ali', 35, 'Pakistan'), (3, 'Amna', 32, 'Bangladesh'), (2, 'Babar', 28, 'India'), (5, 'Esha', 22, 'Japan')]\n",
      "\n",
      "Duplicate names:  {'Esha'}\n"
     ]
    }
   ],
   "source": [
    "data = [(1, 'Ali', 35, 'Pakistan'),\n",
    "    (2, 'Babar', 28, 'India'),\n",
    "    (3, 'Amna', 32, 'Bangladesh'),\n",
    "    (4, 'Asma', 40, 'Korea'),\n",
    "    (5, 'Esha', 22, 'Japan'),\n",
    "    (6, 'Esha', 50, 'Pakistan'),]\n",
    "\n",
    "top = top_oldest(data)\n",
    "print(\"Top 10 oldest users: \", top)\n",
    "\n",
    "dup = duplicates(data)\n",
    "print(\"\\nDuplicate names: \", dup)\n"
   ]
  },
  {
   "cell_type": "markdown",
   "id": "a4048d63-00ce-4912-b281-9f10d2b21255",
   "metadata": {},
   "source": [
    "#### **Part 2:** Immutable Data Management with Tuples"
   ]
  },
  {
   "cell_type": "markdown",
   "id": "0de93ecd-e061-4389-90d6-5f5f87e3be47",
   "metadata": {},
   "source": [
    "##### **-->** Unique users and integrity"
   ]
  },
  {
   "cell_type": "code",
   "execution_count": 5,
   "id": "b0cb9ac0-595d-4792-8410-3c6d293ced73",
   "metadata": {},
   "outputs": [],
   "source": [
    "def unique(data2):\n",
    "    users = [i[1] for i in data2]\n",
    "    return len(set(users))\n",
    "\n",
    "#Tuples are immutable, so python itself won't allow any modification. Also we ain't modifying anything in our function so data will remain integrated"
   ]
  },
  {
   "cell_type": "markdown",
   "id": "67c1ac74-2fcd-4d5e-9323-ca20f829c47c",
   "metadata": {},
   "source": [
    "##### **-->** Returning Transaction with highest amout"
   ]
  },
  {
   "cell_type": "code",
   "execution_count": 6,
   "id": "d97dcc71-9db9-4c82-99d5-74d53e237098",
   "metadata": {},
   "outputs": [],
   "source": [
    "def highest(data2):\n",
    "    h = sorted(data2, key = lambda i: i[2], reverse = True)[0]\n",
    "    return h"
   ]
  },
  {
   "cell_type": "markdown",
   "id": "6496fa39-8050-43d4-abee-2615b10f7f3f",
   "metadata": {},
   "source": [
    "##### **-->** Returning transaction ids and user ids"
   ]
  },
  {
   "cell_type": "code",
   "execution_count": 7,
   "id": "371b13a4-811d-4177-90c1-5aca4cf19edd",
   "metadata": {},
   "outputs": [],
   "source": [
    "def ids(data2):\n",
    "    trans = [i[0] for i in data2]\n",
    "    users = [i[1] for i in data2]\n",
    "    return trans, users\n",
    "\n",
    "#If tuple size varies, it might cause error because I we using indexing to extract data"
   ]
  },
  {
   "cell_type": "markdown",
   "id": "238e306d-b9a9-4fa2-a856-ef1aab285f10",
   "metadata": {},
   "source": [
    "### **Implementation 2**"
   ]
  },
  {
   "cell_type": "code",
   "execution_count": 8,
   "id": "c7e4d99a-a6c2-4c6c-bf8c-9108e5b9d3df",
   "metadata": {},
   "outputs": [
    {
     "name": "stdout",
     "output_type": "stream",
     "text": [
      "Transaction with highest amount:  (104, 3, 800, '01:15')\n",
      "Transaction IDs: [101, 102, 103, 104]\n",
      "User IDs: [1, 2, 1, 3]\n"
     ]
    }
   ],
   "source": [
    "t = [(101, 1, 250, '10:00'),\n",
    "    (102, 2, 450, '05:00'),\n",
    "    (103, 1, 120, '10:10'),\n",
    "    (104, 3, 800, '01:15'),]\n",
    "\n",
    "high = highest(t)\n",
    "print(\"Transaction with highest amount: \", high)\n",
    "\n",
    "t_ids, u_ids = ids(t)\n",
    "print(\"Transaction IDs:\", t_ids)\n",
    "print(\"User IDs:\", u_ids)"
   ]
  },
  {
   "cell_type": "markdown",
   "id": "576873fc-ffdf-4d52-ae35-ac85ba62180b",
   "metadata": {},
   "source": [
    "#### **Part 3:** Unique Data Handling with Sets"
   ]
  },
  {
   "cell_type": "markdown",
   "id": "953d6514-a9cb-4a5b-be1f-ccbb3bb58ccf",
   "metadata": {},
   "source": [
    "##### **-->** Return who Visited A and B"
   ]
  },
  {
   "cell_type": "code",
   "execution_count": 9,
   "id": "1cf829c4-1115-40d1-8b2b-89df078fe76d",
   "metadata": {},
   "outputs": [],
   "source": [
    "def AandB(data3a, data3b):\n",
    "    return data3a.intersection(data3b)"
   ]
  },
  {
   "cell_type": "markdown",
   "id": "8247cf90-e7de-40be-8acd-0214b75d9fc8",
   "metadata": {},
   "source": [
    "##### **-->** Returning who visited either A or C"
   ]
  },
  {
   "cell_type": "code",
   "execution_count": 10,
   "id": "2d994fda-15c6-4a62-b6a1-85d3a370759b",
   "metadata": {},
   "outputs": [],
   "source": [
    "def AorC(data3a, data3c):\n",
    "    return data3a.symmetric_difference(data3c)"
   ]
  },
  {
   "cell_type": "markdown",
   "id": "83549e8e-ee68-4787-affb-3fccc730d489",
   "metadata": {},
   "source": [
    "##### **-->** Updating Page a"
   ]
  },
  {
   "cell_type": "code",
   "execution_count": 11,
   "id": "e195a9fb-e0ff-428e-af27-713ea440a207",
   "metadata": {},
   "outputs": [],
   "source": [
    "def update(data3a, new):\n",
    "    data3a.update(new)"
   ]
  },
  {
   "cell_type": "markdown",
   "id": "1f60d379-0eca-4b45-8c15-fe78fda5108f",
   "metadata": {},
   "source": [
    "##### **-->** Removing list of user ids"
   ]
  },
  {
   "cell_type": "code",
   "execution_count": 12,
   "id": "588ecf6d-2bf6-4ec9-bf52-85c981f37aa8",
   "metadata": {},
   "outputs": [],
   "source": [
    "def remove(data3b, list):\n",
    "    data3b.difference_update(list)"
   ]
  },
  {
   "cell_type": "markdown",
   "id": "7928969b-9174-4cc3-901f-5e00dbfebfe2",
   "metadata": {},
   "source": [
    "### **Implementation 3**"
   ]
  },
  {
   "cell_type": "code",
   "execution_count": 13,
   "id": "d495b0dc-4056-4fe2-8c91-ac884b6b8339",
   "metadata": {},
   "outputs": [
    {
     "name": "stdout",
     "output_type": "stream",
     "text": [
      "Updated Page:  {1, 2, 3, 4, 5, 6, 7, 10}\n",
      "After Removal:  {3, 6, 7}\n"
     ]
    }
   ],
   "source": [
    "a = {1, 2, 3, 4, 5}\n",
    "b = {3, 4, 5, 6, 7}\n",
    "c = {5, 6, 8, 9}\n",
    "new = {6, 7, 10}\n",
    "rem = [4, 5]\n",
    "\n",
    "update(a, new)\n",
    "print(\"Updated Page: \", a)\n",
    "\n",
    "remove(b, rem)\n",
    "print(\"After Removal: \", b)"
   ]
  },
  {
   "cell_type": "markdown",
   "id": "896e65a8-6d55-44c0-b50f-995fefd33169",
   "metadata": {},
   "source": [
    "#### **Part 4:** Data Aggregation with Dictionaries"
   ]
  },
  {
   "cell_type": "markdown",
   "id": "d1f152e7-954e-488d-af32-7b3bc4d8c409",
   "metadata": {},
   "source": [
    "##### **-->** Filtering with rating 4+"
   ]
  },
  {
   "cell_type": "code",
   "execution_count": 14,
   "id": "320ab7f7-ae55-4004-8942-ae43574be42e",
   "metadata": {},
   "outputs": [],
   "source": [
    "def filter(data4):\n",
    "    new = {}\n",
    "    for i,j in data4.items():\n",
    "        if j['rating'] >= 4:\n",
    "            new[i] = j['ratings']\n",
    "    return new"
   ]
  },
  {
   "cell_type": "markdown",
   "id": "0eea2287-5d15-4f25-92ce-e389d2125f3a",
   "metadata": {},
   "source": [
    "##### **-->** Sort by ratings"
   ]
  },
  {
   "cell_type": "code",
   "execution_count": 15,
   "id": "cd11a567-0c39-4754-a57e-8c906fbfbc46",
   "metadata": {},
   "outputs": [],
   "source": [
    "def sorting(new):\n",
    "    top = sorted(new.items(), lambda i: i[1], reverse = True)[:5]\n",
    "    return top"
   ]
  },
  {
   "cell_type": "markdown",
   "id": "9cc39ed9-b984-4bc1-af78-9a7bff316a3a",
   "metadata": {},
   "source": [
    "##### **-->** Combining Multiple Dictionaries"
   ]
  },
  {
   "cell_type": "code",
   "execution_count": 16,
   "id": "8c87d59f-c9bf-4f91-867f-38f214c0e9bd",
   "metadata": {},
   "outputs": [],
   "source": [
    "def combine(data4_list):\n",
    "    combined = {}\n",
    "    for i in data4_list:\n",
    "        for j,k in i.items():\n",
    "            if j in combined:\n",
    "                combined[j]['rating'] = max(combined[j]['rating'], k['rating'])\n",
    "                combined[j]['comments'].append(k['comments'])\n",
    "            else:\n",
    "                combined[j] = {'rating': k['rating'],\n",
    "                              'comments': [k['comments']]}\n",
    "    return combined\n",
    "        "
   ]
  },
  {
   "cell_type": "markdown",
   "id": "50845916-716b-42cc-a3be-77f7ce3c4bdb",
   "metadata": {},
   "source": [
    "##### **-->** Getting ratings > 3 by Dict comprehension"
   ]
  },
  {
   "cell_type": "code",
   "execution_count": 17,
   "id": "a90bc8ae-8ee3-4b4e-ac6c-cca84d8f5cbf",
   "metadata": {},
   "outputs": [],
   "source": [
    "def greater3(combined):\n",
    "    greater = {i: j['rating'] for i,j in combined.items() if j['rating'] > 3}\n",
    "    return greater"
   ]
  },
  {
   "cell_type": "markdown",
   "id": "16077df8-babb-4dc0-9865-4b8ec41571ad",
   "metadata": {},
   "source": [
    "#### **Implementation 4**"
   ]
  },
  {
   "cell_type": "code",
   "execution_count": 18,
   "id": "22e96ac9-5681-45f4-9d99-def073353207",
   "metadata": {},
   "outputs": [
    {
     "name": "stdout",
     "output_type": "stream",
     "text": [
      "Combined Feedback:  {1: {'rating': 5, 'comments': [['comment 1'], ['comment 4']]}, 2: {'rating': 3, 'comments': [['comment 2']]}, 3: {'rating': 4, 'comments': [['comment 3'], ['comment 5']]}, 4: {'rating': 5, 'comments': [['comment 6']]}}\n",
      "\n",
      "Feedback with 3+ ratings:  {1: 5, 3: 4, 4: 5}\n"
     ]
    }
   ],
   "source": [
    "f1 = {1: {'rating': 5, 'comments': ['comment 1']},\n",
    "    2: {'rating': 3, 'comments': ['comment 2']},\n",
    "    3: {'rating': 4, 'comments': ['comment 3']}}\n",
    "\n",
    "f2 = {1: {'rating': 4, 'comments': ['comment 4']},\n",
    "    3: {'rating': 2, 'comments': ['comment 5']},\n",
    "    4: {'rating': 5, 'comments': ['comment 6']}}\n",
    "\n",
    "comb = combine([f1, f2])\n",
    "print(\"Combined Feedback: \", comb)\n",
    "\n",
    "gr = greater3(comb)\n",
    "print(\"\\nFeedback with 3+ ratings: \", gr)\n"
   ]
  },
  {
   "cell_type": "code",
   "execution_count": null,
   "id": "bb3ae6ed-0b7f-4f91-8e37-18d2e946cb11",
   "metadata": {},
   "outputs": [],
   "source": []
  }
 ],
 "metadata": {
  "kernelspec": {
   "display_name": "Python 3 (ipykernel)",
   "language": "python",
   "name": "python3"
  },
  "language_info": {
   "codemirror_mode": {
    "name": "ipython",
    "version": 3
   },
   "file_extension": ".py",
   "mimetype": "text/x-python",
   "name": "python",
   "nbconvert_exporter": "python",
   "pygments_lexer": "ipython3",
   "version": "3.12.4"
  }
 },
 "nbformat": 4,
 "nbformat_minor": 5
}
