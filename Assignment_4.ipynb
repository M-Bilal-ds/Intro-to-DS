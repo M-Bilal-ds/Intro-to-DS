{
 "cells": [
  {
   "cell_type": "markdown",
   "id": "839b1c87-6196-4019-9747-7948634993ad",
   "metadata": {},
   "source": [
    "# **Assignment 4**"
   ]
  },
  {
   "cell_type": "code",
   "execution_count": 1,
   "id": "f1ce7502-928f-4dfc-a1c0-9a2fcfd0d85a",
   "metadata": {},
   "outputs": [],
   "source": [
    "import numpy as np"
   ]
  },
  {
   "cell_type": "markdown",
   "id": "62bc7650-e652-410a-9647-b7f4a2d96d3b",
   "metadata": {},
   "source": [
    "### *Task 1*"
   ]
  },
  {
   "cell_type": "code",
   "execution_count": 6,
   "id": "c92aeb03-dc26-4a18-8c27-49e308a1acd9",
   "metadata": {},
   "outputs": [
    {
     "data": {
      "text/plain": [
       "array([[-7, -9, 32, ..., -4, 35, 23],\n",
       "       [13, 19, -1, ..., 28,  7, 27],\n",
       "       [29, 25, 22, ..., 12, 39, 37],\n",
       "       ...,\n",
       "       [28, 36, -2, ..., 15, -8, 14],\n",
       "       [-1, 29, 24, ...,  1,  0, 38],\n",
       "       [34,  2, -4, ..., 33, 20, 17]], dtype=int32)"
      ]
     },
     "execution_count": 6,
     "metadata": {},
     "output_type": "execute_result"
    }
   ],
   "source": [
    "temprature_data = np.random.randint(low = -10, high = 41, size = (500, 365))\n",
    "temprature_data"
   ]
  },
  {
   "cell_type": "raw",
   "id": "85eb4889-aa76-4a0a-8a92-10f2aa660574",
   "metadata": {},
   "source": [
    "humidity_data = np.random.uniform(low = 0, high = 101, size = (500, 365))\n",
    "humidity_data"
   ]
  },
  {
   "cell_type": "markdown",
   "id": "8e2e9f80-05ef-4fb1-bb4e-bd84b214783a",
   "metadata": {},
   "source": [
    "### *Task 2*"
   ]
  },
  {
   "cell_type": "code",
   "execution_count": 3,
   "id": "a2f6cd5e-c96a-4b3b-a1b0-7bb58cba7edf",
   "metadata": {},
   "outputs": [],
   "source": [
    "missing = int(0.05 * 500 * 365)\n",
    "missing_temp = (np.random.randint(0, 500, missing),\n",
    "                        np.random.randint(0, 365, missing))\n",
    "missing_hum = (np.random.randint(0, 500, missing),\n",
    "                       np.random.randint(0, 365, missing))"
   ]
  },
  {
   "cell_type": "code",
   "execution_count": 4,
   "id": "af5843b6-b68a-4f06-ab41-4849023541d1",
   "metadata": {},
   "outputs": [
    {
     "data": {
      "text/plain": [
       "12305"
      ]
     },
     "execution_count": 4,
     "metadata": {},
     "output_type": "execute_result"
    }
   ],
   "source": [
    "temprature_data[missing_temp] = 0\n",
    "total_temp = np.where(temprature_data == 0)\n",
    "len(total_temp[0])"
   ]
  },
  {
   "cell_type": "code",
   "execution_count": 5,
   "id": "3e57c99a-3f1f-41dd-a70a-fda3919676ac",
   "metadata": {},
   "outputs": [
    {
     "ename": "NameError",
     "evalue": "name 'humidity_data' is not defined",
     "output_type": "error",
     "traceback": [
      "\u001b[1;31m---------------------------------------------------------------------------\u001b[0m",
      "\u001b[1;31mNameError\u001b[0m                                 Traceback (most recent call last)",
      "Cell \u001b[1;32mIn[5], line 1\u001b[0m\n\u001b[1;32m----> 1\u001b[0m \u001b[43mhumidity_data\u001b[49m[missing_hum] \u001b[38;5;241m=\u001b[39m \u001b[38;5;241m0\u001b[39m\n\u001b[0;32m      2\u001b[0m total_hum \u001b[38;5;241m=\u001b[39m np\u001b[38;5;241m.\u001b[39mwhere(humidity_data \u001b[38;5;241m==\u001b[39m \u001b[38;5;241m0.0\u001b[39m)\n\u001b[0;32m      3\u001b[0m \u001b[38;5;28mlen\u001b[39m(total_hum[\u001b[38;5;241m0\u001b[39m])\n",
      "\u001b[1;31mNameError\u001b[0m: name 'humidity_data' is not defined"
     ]
    }
   ],
   "source": [
    "humidity_data[missing_hum] = 0\n",
    "total_hum = np.where(humidity_data == 0.0)\n",
    "len(total_hum[0])"
   ]
  },
  {
   "cell_type": "markdown",
   "id": "37b01b16-5610-45bc-950b-95411f84c4f9",
   "metadata": {},
   "source": [
    "### *Task 3*"
   ]
  },
  {
   "cell_type": "code",
   "execution_count": null,
   "id": "67722c85-35fb-48fc-a4c6-1878cbe67d05",
   "metadata": {},
   "outputs": [],
   "source": [
    "temprature_f = (temprature_data * 9/5) + 32\n",
    "discomf = temprature_f + (0.1 * humidity_data)\n",
    "discomf = np.where(discomf > 80, 80, discomf)\n",
    "discomf"
   ]
  },
  {
   "cell_type": "markdown",
   "id": "f2812cd0-e345-4d55-9358-e5e69ccaadff",
   "metadata": {},
   "source": [
    "### *Task 4*"
   ]
  },
  {
   "cell_type": "code",
   "execution_count": null,
   "id": "dc0dde96-0436-4932-9c17-f5dfe7f59f06",
   "metadata": {},
   "outputs": [],
   "source": [
    "January = np.average(temprature_data[:,:31])\n",
    "January"
   ]
  },
  {
   "cell_type": "markdown",
   "id": "8cec90cb-1db9-411f-aee6-6ded6d1ffdd4",
   "metadata": {},
   "source": [
    "### *Task 5*"
   ]
  },
  {
   "cell_type": "code",
   "execution_count": null,
   "id": "304c4811-a1f8-4606-9e90-ed075c524399",
   "metadata": {},
   "outputs": [],
   "source": [
    "np.where(temprature_data > 35, 0, temprature_data)\n",
    "nulls = (temprature_data == 0).sum(axis = 1)\n",
    "nulls"
   ]
  },
  {
   "cell_type": "markdown",
   "id": "126133d7-ffbc-44c3-8eba-eb558d2ae314",
   "metadata": {},
   "source": [
    "### *Task 6*"
   ]
  },
  {
   "cell_type": "code",
   "execution_count": null,
   "id": "716a47e6-649f-441b-8899-acb7e2471472",
   "metadata": {},
   "outputs": [],
   "source": [
    "q1 = temprature_data[:, :91]\n",
    "q2 = temprature_data[:, 91:183]\n",
    "q3 = temprature_data[:, 183:275]\n",
    "q4 = temprature_data[:, 175:366]\n",
    "print(np.mean(q1), np.mean(q2), np.mean(q3), np.mean(q4))\n"
   ]
  },
  {
   "cell_type": "markdown",
   "id": "66819f16-a328-4387-8ab1-e618f4fac8e9",
   "metadata": {},
   "source": [
    "### *Task 7*"
   ]
  },
  {
   "cell_type": "code",
   "execution_count": null,
   "id": "1a7993c8-43c9-4df9-8067-a0a547d38d34",
   "metadata": {},
   "outputs": [],
   "source": [
    "dry = np.where(humidity_data < 30.0, \"Dry\", humidity_data)\n",
    "humid = np.where(humidity_data > 70.0, \"Humid\", humidity_data)\n",
    "dry_d = np.sum(dry == \"Dry\", axis=1)\n",
    "humid_d = np.sum(humid == \"Humid\", axis=1)\n",
    "print(dry_d, '\\n\\n', humid_d)"
   ]
  },
  {
   "cell_type": "markdown",
   "id": "85822dcf-af44-4503-84f2-d2e1cfd3f540",
   "metadata": {},
   "source": [
    "### *Task 8*"
   ]
  },
  {
   "cell_type": "code",
   "execution_count": null,
   "id": "cfb9ed29-3d8a-44f0-a0a6-b770c96d49e9",
   "metadata": {},
   "outputs": [],
   "source": [
    "trend = np.random.normal(0, 0.5, 365)\n",
    "adjusted = temprature_data + trend\n",
    "adjusted"
   ]
  },
  {
   "cell_type": "code",
   "execution_count": null,
   "id": "b0e1014a-dc61-44d4-b9d1-7bcf568f5d70",
   "metadata": {},
   "outputs": [],
   "source": []
  },
  {
   "cell_type": "code",
   "execution_count": null,
   "id": "34003d9c-46ad-46ba-9b9a-4135741435cf",
   "metadata": {},
   "outputs": [],
   "source": []
  }
 ],
 "metadata": {
  "kernelspec": {
   "display_name": "Python 3 (ipykernel)",
   "language": "python",
   "name": "python3"
  },
  "language_info": {
   "codemirror_mode": {
    "name": "ipython",
    "version": 3
   },
   "file_extension": ".py",
   "mimetype": "text/x-python",
   "name": "python",
   "nbconvert_exporter": "python",
   "pygments_lexer": "ipython3",
   "version": "3.12.4"
  }
 },
 "nbformat": 4,
 "nbformat_minor": 5
}
