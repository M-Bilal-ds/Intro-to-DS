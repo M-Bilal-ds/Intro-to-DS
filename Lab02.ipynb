{
 "cells": [
  {
   "cell_type": "markdown",
   "id": "2dacc6a1-fa3c-45c2-921f-0d7b51e4595c",
   "metadata": {},
   "source": [
    "# **Task 1**"
   ]
  },
  {
   "cell_type": "code",
   "execution_count": 1,
   "id": "5736b8ea-7514-45d7-be8c-f7e86ed71543",
   "metadata": {},
   "outputs": [],
   "source": [
    "import numpy as np"
   ]
  },
  {
   "cell_type": "code",
   "execution_count": 2,
   "id": "2dbb1e76-a28b-47fc-b84c-8f6f95153bed",
   "metadata": {},
   "outputs": [
    {
     "data": {
      "text/plain": [
       "array([[180,  75,  30],\n",
       "       [175,  68,  45],\n",
       "       [190,  82,  25],\n",
       "       [165,  60,  50],\n",
       "       [160,  78,  55]])"
      ]
     },
     "execution_count": 2,
     "metadata": {},
     "output_type": "execute_result"
    }
   ],
   "source": [
    "stats = np.array([[180, 75, 30], [175, 68, 45], [190, 82, 25], [165, 60, 50], [160, 78, 55]])\n",
    "stats"
   ]
  },
  {
   "cell_type": "code",
   "execution_count": 3,
   "id": "e685ba60-3b36-4194-b931-d66fd308cdc4",
   "metadata": {},
   "outputs": [
    {
     "data": {
      "text/plain": [
       "np.int64(4)"
      ]
     },
     "execution_count": 3,
     "metadata": {},
     "output_type": "execute_result"
    }
   ],
   "source": [
    "maxi = np.argmax(stats[:,2])\n",
    "maxi"
   ]
  },
  {
   "cell_type": "code",
   "execution_count": 4,
   "id": "4120b801-c3d0-48f9-adc3-6ec67bf4fdef",
   "metadata": {},
   "outputs": [
    {
     "data": {
      "text/plain": [
       "array([[180,  75,  30],\n",
       "       [175,  68,  45],\n",
       "       [190,  82,  25],\n",
       "       [165,  60,  50],\n",
       "       [160,  60,  55]])"
      ]
     },
     "execution_count": 4,
     "metadata": {},
     "output_type": "execute_result"
    }
   ],
   "source": [
    "stats[maxi][1] = 60\n",
    "stats"
   ]
  },
  {
   "cell_type": "code",
   "execution_count": 5,
   "id": "5eaa27bc-42bc-4382-a009-d665083ab668",
   "metadata": {},
   "outputs": [
    {
     "data": {
      "text/plain": [
       "array([[180,  75,  30],\n",
       "       [175,  68,  45],\n",
       "       [190,  82,  25],\n",
       "       [165,  60,  50],\n",
       "       [160,  60,  55],\n",
       "       [150,  40,  40]])"
      ]
     },
     "execution_count": 5,
     "metadata": {},
     "output_type": "execute_result"
    }
   ],
   "source": [
    "stats = np.append(stats, [[150, 40,40]], axis = 0)\n",
    "stats"
   ]
  },
  {
   "cell_type": "code",
   "execution_count": 6,
   "id": "a63731fb-7cdc-4c1a-ab72-726ce34f6f56",
   "metadata": {},
   "outputs": [
    {
     "data": {
      "text/plain": [
       "array([[180,  75,  30],\n",
       "       [175,  68,  45],\n",
       "       [160,  50,  50],\n",
       "       [190,  82,  25],\n",
       "       [165,  60,  50],\n",
       "       [160,  60,  55],\n",
       "       [150,  40,  40]])"
      ]
     },
     "execution_count": 6,
     "metadata": {},
     "output_type": "execute_result"
    }
   ],
   "source": [
    "i = 2\n",
    "stats = np.insert(stats, i, [[160, 50,50]], axis = 0)\n",
    "stats"
   ]
  },
  {
   "cell_type": "code",
   "execution_count": 7,
   "id": "56c9503f-7839-4fd8-9bde-ae8cd48fa598",
   "metadata": {},
   "outputs": [
    {
     "data": {
      "text/plain": [
       "np.int64(3)"
      ]
     },
     "execution_count": 7,
     "metadata": {},
     "output_type": "execute_result"
    }
   ],
   "source": [
    "mini = np.argmin(stats[:,2])\n",
    "mini"
   ]
  },
  {
   "cell_type": "code",
   "execution_count": 8,
   "id": "a61e71c8-b80d-4590-ae47-fecaa81f20bf",
   "metadata": {},
   "outputs": [
    {
     "data": {
      "text/plain": [
       "array([[180,  75,  30],\n",
       "       [175,  68,  45],\n",
       "       [160,  50,  50],\n",
       "       [165,  60,  50],\n",
       "       [160,  60,  55],\n",
       "       [150,  40,  40]])"
      ]
     },
     "execution_count": 8,
     "metadata": {},
     "output_type": "execute_result"
    }
   ],
   "source": [
    "stats = np.delete(stats, mini, axis = 0)\n",
    "stats"
   ]
  },
  {
   "cell_type": "markdown",
   "id": "8490809c-6036-4806-a41e-6f4c298530ee",
   "metadata": {},
   "source": [
    "# **Task 2**"
   ]
  },
  {
   "cell_type": "code",
   "execution_count": 9,
   "id": "51a11e53-eab4-41b1-9dcd-095e259c0f50",
   "metadata": {},
   "outputs": [],
   "source": [
    "purchase = np.random.randint(10,100,5)\n",
    "counts = np.random.randint(1,10,5)"
   ]
  },
  {
   "cell_type": "code",
   "execution_count": 10,
   "id": "aa6ec722-c617-4dd1-bfa6-de7c467e9b10",
   "metadata": {},
   "outputs": [],
   "source": [
    "pshallow = purchase.view()\n",
    "cdeep = counts.copy()"
   ]
  },
  {
   "cell_type": "code",
   "execution_count": 11,
   "id": "ae6e640a-0883-49bb-9a04-87fd6d8a442c",
   "metadata": {},
   "outputs": [
    {
     "data": {
      "text/plain": [
       "array([72, 68, 28, 57, 37,  1,  2,  2,  6,  1], dtype=int32)"
      ]
     },
     "execution_count": 11,
     "metadata": {},
     "output_type": "execute_result"
    }
   ],
   "source": [
    "combined = np.concatenate([pshallow, cdeep])\n",
    "combined"
   ]
  },
  {
   "cell_type": "code",
   "execution_count": 12,
   "id": "58b8b554-1410-4d83-9592-caf9e47442a4",
   "metadata": {},
   "outputs": [
    {
     "name": "stdout",
     "output_type": "stream",
     "text": [
      "[1 2 2 6 1] [72 68 28 57 37]\n"
     ]
    }
   ],
   "source": [
    "lesser = combined[combined < 20]\n",
    "greater = combined[combined >= 20]\n",
    "print(lesser, greater)"
   ]
  },
  {
   "cell_type": "code",
   "execution_count": 13,
   "id": "f9ac2b94-23d4-479b-b87c-c9b882a81936",
   "metadata": {},
   "outputs": [
    {
     "name": "stdout",
     "output_type": "stream",
     "text": [
      "[ 5 68 28 57 37] [ 5 68 28 57 37] \n",
      " [50  2  2  6  1] [1 2 2 6 1]\n"
     ]
    }
   ],
   "source": [
    "purchase[0] = 5\n",
    "counts[0] = 50\n",
    "print(purchase, pshallow, '\\n', counts, cdeep)"
   ]
  },
  {
   "cell_type": "markdown",
   "id": "6a542b52-d666-4bd1-b55f-27ccc2b53cbf",
   "metadata": {},
   "source": [
    "# **Bonus Task:** Advanced Git Commands\n",
    "\n",
    "1. *git stash* - This command would be useful if we want to switch between branches but we don't want to yet commit changes of branch we're in.\n",
    "2. *git stash list*\n",
    "3. *git stash apply* - Stashed changes are applied on current branch\n",
    "4. *git stash drop @stash{n}* - Before executing this command, keep it in mind that it is irreversible and make sure you use corrent stash id."
   ]
  },
  {
   "cell_type": "code",
   "execution_count": null,
   "id": "59d58406-295e-44f2-9b16-064d9c5e425d",
   "metadata": {},
   "outputs": [],
   "source": []
  }
 ],
 "metadata": {
  "kernelspec": {
   "display_name": "Python 3 (ipykernel)",
   "language": "python",
   "name": "python3"
  },
  "language_info": {
   "codemirror_mode": {
    "name": "ipython",
    "version": 3
   },
   "file_extension": ".py",
   "mimetype": "text/x-python",
   "name": "python",
   "nbconvert_exporter": "python",
   "pygments_lexer": "ipython3",
   "version": "3.12.4"
  }
 },
 "nbformat": 4,
 "nbformat_minor": 5
}
