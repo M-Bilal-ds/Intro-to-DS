{
 "cells": [
  {
   "cell_type": "code",
   "execution_count": 1,
   "id": "1556878f",
   "metadata": {
    "_cell_guid": "b1076dfc-b9ad-4769-8c92-a6c4dae69d19",
    "_uuid": "8f2839f25d086af736a60e9eeb907d3b93b6e0e5",
    "execution": {
     "iopub.execute_input": "2024-12-15T12:14:21.383808Z",
     "iopub.status.busy": "2024-12-15T12:14:21.383402Z",
     "iopub.status.idle": "2024-12-15T12:14:22.377477Z",
     "shell.execute_reply": "2024-12-15T12:14:22.376144Z"
    },
    "papermill": {
     "duration": 1.016087,
     "end_time": "2024-12-15T12:14:22.379908",
     "exception": false,
     "start_time": "2024-12-15T12:14:21.363821",
     "status": "completed"
    },
    "tags": []
   },
   "outputs": [
    {
     "name": "stdout",
     "output_type": "stream",
     "text": [
      "/kaggle/input/employee-performance-and-salary-dataset/50_Tasks_to_perform_on_dataset.pdf\n",
      "/kaggle/input/employee-performance-and-salary-dataset/Employe_Performance_dataset.csv\n"
     ]
    }
   ],
   "source": [
    "# This Python 3 environment comes with many helpful analytics libraries installed\n",
    "# It is defined by the kaggle/python Docker image: https://github.com/kaggle/docker-python\n",
    "# For example, here's several helpful packages to load\n",
    "\n",
    "import numpy as np # linear algebra\n",
    "import pandas as pd # data processing, CSV file I/O (e.g. pd.read_csv)\n",
    "\n",
    "# Input data files are available in the read-only \"../input/\" directory\n",
    "# For example, running this (by clicking run or pressing Shift+Enter) will list all files under the input directory\n",
    "\n",
    "import os\n",
    "for dirname, _, filenames in os.walk('/kaggle/input'):\n",
    "    for filename in filenames:\n",
    "        print(os.path.join(dirname, filename))\n",
    "\n",
    "import warnings\n",
    "\n",
    "# Suppress the FutureWarning\n",
    "warnings.simplefilter(action='ignore', category=FutureWarning)\n",
    "\n",
    "# You can write up to 20GB to the current directory (/kaggle/working/) that gets preserved as output when you create a version using \"Save & Run All\" \n",
    "# You can also write temporary files to /kaggle/temp/, but they won't be saved outside of the current session"
   ]
  },
  {
   "cell_type": "markdown",
   "id": "aabebec6",
   "metadata": {
    "papermill": {
     "duration": 0.014672,
     "end_time": "2024-12-15T12:14:22.410330",
     "exception": false,
     "start_time": "2024-12-15T12:14:22.395658",
     "status": "completed"
    },
    "tags": []
   },
   "source": [
    "## **Step 1:** *Load and Display Dataset*"
   ]
  },
  {
   "cell_type": "code",
   "execution_count": 2,
   "id": "d628e3aa",
   "metadata": {
    "execution": {
     "iopub.execute_input": "2024-12-15T12:14:22.442667Z",
     "iopub.status.busy": "2024-12-15T12:14:22.442140Z",
     "iopub.status.idle": "2024-12-15T12:14:22.463936Z",
     "shell.execute_reply": "2024-12-15T12:14:22.462802Z"
    },
    "papermill": {
     "duration": 0.040564,
     "end_time": "2024-12-15T12:14:22.466519",
     "exception": false,
     "start_time": "2024-12-15T12:14:22.425955",
     "status": "completed"
    },
    "tags": []
   },
   "outputs": [],
   "source": [
    "# Load the dataset using the correct path\n",
    "df = pd.read_csv('/kaggle/input/employee-performance-and-salary-dataset/Employe_Performance_dataset.csv')"
   ]
  },
  {
   "cell_type": "code",
   "execution_count": 3,
   "id": "5e7876ea",
   "metadata": {
    "execution": {
     "iopub.execute_input": "2024-12-15T12:14:22.498035Z",
     "iopub.status.busy": "2024-12-15T12:14:22.497643Z",
     "iopub.status.idle": "2024-12-15T12:14:22.516341Z",
     "shell.execute_reply": "2024-12-15T12:14:22.514913Z"
    },
    "papermill": {
     "duration": 0.036934,
     "end_time": "2024-12-15T12:14:22.518660",
     "exception": false,
     "start_time": "2024-12-15T12:14:22.481726",
     "status": "completed"
    },
    "tags": []
   },
   "outputs": [
    {
     "name": "stdout",
     "output_type": "stream",
     "text": [
      "   ID                Name  Age  Gender Department  Salary Joining Date  \\\n",
      "0   1        Cory Escobar   48  Female         HR    5641   2015-05-03   \n",
      "1   2     Timothy Sanchez   25   Other      Sales    4249   2020-11-09   \n",
      "2   3        Chad Nichols   57   Other      Sales    3058   2019-02-12   \n",
      "3   4  Christine Williams   58  Female         IT    5895   2017-09-08   \n",
      "4   5        Amber Harris   35   Other         IT    4317   2020-02-15   \n",
      "5   6         Ashley Howe   29  Female         HR    2591   2016-06-24   \n",
      "6   7         David Olson   39  Female      Sales    6826   2023-05-11   \n",
      "7   8        Amanda Baker   52   Other         HR    6285   2015-04-01   \n",
      "8   9       Jeremy Wright   63  Female      Sales    9862   2024-02-07   \n",
      "9  10      Brian Faulkner   30    Male         IT    8202   2018-05-26   \n",
      "\n",
      "   Performance Score  Experience    Status     Location  Session  \n",
      "0                2.0          16    Active     New York    Night  \n",
      "1                2.0          11  Inactive  Los Angeles  Evening  \n",
      "2                NaN           1  Inactive     New York  Morning  \n",
      "3                2.0          13  Inactive  Los Angeles  Evening  \n",
      "4                5.0          16  Inactive     New York  Evening  \n",
      "5                1.0           6    Active      Chicago  Evening  \n",
      "6                NaN           4    Active     New York    Night  \n",
      "7                NaN           8  Inactive      Chicago  Evening  \n",
      "8                NaN           3  Inactive     New York    Night  \n",
      "9                1.0           9    Active  Los Angeles  Morning  \n"
     ]
    }
   ],
   "source": [
    "# Display the first 10 rows\n",
    "print(df.head(10))"
   ]
  },
  {
   "cell_type": "markdown",
   "id": "a4610100",
   "metadata": {
    "papermill": {
     "duration": 0.015183,
     "end_time": "2024-12-15T12:14:22.549188",
     "exception": false,
     "start_time": "2024-12-15T12:14:22.534005",
     "status": "completed"
    },
    "tags": []
   },
   "source": [
    "## **Step 2:** *Columns and their Data Types*"
   ]
  },
  {
   "cell_type": "code",
   "execution_count": 4,
   "id": "fc99f111",
   "metadata": {
    "execution": {
     "iopub.execute_input": "2024-12-15T12:14:22.581953Z",
     "iopub.status.busy": "2024-12-15T12:14:22.581207Z",
     "iopub.status.idle": "2024-12-15T12:14:22.588817Z",
     "shell.execute_reply": "2024-12-15T12:14:22.587647Z"
    },
    "papermill": {
     "duration": 0.026223,
     "end_time": "2024-12-15T12:14:22.591056",
     "exception": false,
     "start_time": "2024-12-15T12:14:22.564833",
     "status": "completed"
    },
    "tags": []
   },
   "outputs": [
    {
     "name": "stdout",
     "output_type": "stream",
     "text": [
      "Column Names and Data Types:\n",
      "ID                     int64\n",
      "Name                  object\n",
      "Age                    int64\n",
      "Gender                object\n",
      "Department            object\n",
      "Salary                 int64\n",
      "Joining Date          object\n",
      "Performance Score    float64\n",
      "Experience             int64\n",
      "Status                object\n",
      "Location              object\n",
      "Session               object\n",
      "dtype: object\n"
     ]
    }
   ],
   "source": [
    "# Get column names and data types\n",
    "print(\"Column Names and Data Types:\")\n",
    "print(df.dtypes)"
   ]
  },
  {
   "cell_type": "markdown",
   "id": "33dd0504",
   "metadata": {
    "papermill": {
     "duration": 0.014709,
     "end_time": "2024-12-15T12:14:22.620717",
     "exception": false,
     "start_time": "2024-12-15T12:14:22.606008",
     "status": "completed"
    },
    "tags": []
   },
   "source": [
    "## **Step 3:** *Number of Rows and Columns*"
   ]
  },
  {
   "cell_type": "code",
   "execution_count": 5,
   "id": "2ba5a913",
   "metadata": {
    "execution": {
     "iopub.execute_input": "2024-12-15T12:14:22.652413Z",
     "iopub.status.busy": "2024-12-15T12:14:22.651556Z",
     "iopub.status.idle": "2024-12-15T12:14:22.658017Z",
     "shell.execute_reply": "2024-12-15T12:14:22.656844Z"
    },
    "papermill": {
     "duration": 0.024944,
     "end_time": "2024-12-15T12:14:22.660291",
     "exception": false,
     "start_time": "2024-12-15T12:14:22.635347",
     "status": "completed"
    },
    "tags": []
   },
   "outputs": [
    {
     "name": "stdout",
     "output_type": "stream",
     "text": [
      "Rows: 1000\n",
      "Columns: 12\n"
     ]
    }
   ],
   "source": [
    "# Get the shape of the DataFrame\n",
    "rows, columns = df.shape\n",
    "print(f\"Rows: {rows}\\nColumns: {columns}\")"
   ]
  },
  {
   "cell_type": "markdown",
   "id": "4bbda5d4",
   "metadata": {
    "papermill": {
     "duration": 0.015326,
     "end_time": "2024-12-15T12:14:22.690672",
     "exception": false,
     "start_time": "2024-12-15T12:14:22.675346",
     "status": "completed"
    },
    "tags": []
   },
   "source": [
    "## **Step 4:** *Select the Name, Age, and Salary Columns*"
   ]
  },
  {
   "cell_type": "code",
   "execution_count": 6,
   "id": "fc7a0fb5",
   "metadata": {
    "execution": {
     "iopub.execute_input": "2024-12-15T12:14:22.722818Z",
     "iopub.status.busy": "2024-12-15T12:14:22.722402Z",
     "iopub.status.idle": "2024-12-15T12:14:22.738934Z",
     "shell.execute_reply": "2024-12-15T12:14:22.737534Z"
    },
    "papermill": {
     "duration": 0.034857,
     "end_time": "2024-12-15T12:14:22.741147",
     "exception": false,
     "start_time": "2024-12-15T12:14:22.706290",
     "status": "completed"
    },
    "tags": []
   },
   "outputs": [
    {
     "name": "stdout",
     "output_type": "stream",
     "text": [
      "                 Name  Age  Salary\n",
      "0        Cory Escobar   48    5641\n",
      "1     Timothy Sanchez   25    4249\n",
      "2        Chad Nichols   57    3058\n",
      "3  Christine Williams   58    5895\n",
      "4        Amber Harris   35    4317\n"
     ]
    }
   ],
   "source": [
    "# Select specific columns\n",
    "selected_columns = df[['Name', 'Age', 'Salary']]\n",
    "print(selected_columns.head())\n"
   ]
  },
  {
   "cell_type": "markdown",
   "id": "5416d45e",
   "metadata": {
    "papermill": {
     "duration": 0.014657,
     "end_time": "2024-12-15T12:14:22.771045",
     "exception": false,
     "start_time": "2024-12-15T12:14:22.756388",
     "status": "completed"
    },
    "tags": []
   },
   "source": [
    "## **Step 5:** *Select the First 5 Rows Using iloc*"
   ]
  },
  {
   "cell_type": "code",
   "execution_count": 7,
   "id": "dc60a20e",
   "metadata": {
    "execution": {
     "iopub.execute_input": "2024-12-15T12:14:22.802587Z",
     "iopub.status.busy": "2024-12-15T12:14:22.802195Z",
     "iopub.status.idle": "2024-12-15T12:14:22.812568Z",
     "shell.execute_reply": "2024-12-15T12:14:22.811336Z"
    },
    "papermill": {
     "duration": 0.028767,
     "end_time": "2024-12-15T12:14:22.814654",
     "exception": false,
     "start_time": "2024-12-15T12:14:22.785887",
     "status": "completed"
    },
    "tags": []
   },
   "outputs": [
    {
     "name": "stdout",
     "output_type": "stream",
     "text": [
      "   ID                Name  Age  Gender Department  Salary Joining Date  \\\n",
      "0   1        Cory Escobar   48  Female         HR    5641   2015-05-03   \n",
      "1   2     Timothy Sanchez   25   Other      Sales    4249   2020-11-09   \n",
      "2   3        Chad Nichols   57   Other      Sales    3058   2019-02-12   \n",
      "3   4  Christine Williams   58  Female         IT    5895   2017-09-08   \n",
      "4   5        Amber Harris   35   Other         IT    4317   2020-02-15   \n",
      "\n",
      "   Performance Score  Experience    Status     Location  Session  \n",
      "0                2.0          16    Active     New York    Night  \n",
      "1                2.0          11  Inactive  Los Angeles  Evening  \n",
      "2                NaN           1  Inactive     New York  Morning  \n",
      "3                2.0          13  Inactive  Los Angeles  Evening  \n",
      "4                5.0          16  Inactive     New York  Evening  \n"
     ]
    }
   ],
   "source": [
    "# Select the first 5 rows\n",
    "five_rows = df.iloc[:5]\n",
    "print(five_rows)"
   ]
  },
  {
   "cell_type": "markdown",
   "id": "28a1e4bc",
   "metadata": {
    "papermill": {
     "duration": 0.015191,
     "end_time": "2024-12-15T12:14:22.845306",
     "exception": false,
     "start_time": "2024-12-15T12:14:22.830115",
     "status": "completed"
    },
    "tags": []
   },
   "source": [
    "## **Step 6:** *Rows Where Department is \"Sales\" Using loc*"
   ]
  },
  {
   "cell_type": "code",
   "execution_count": 8,
   "id": "96902f63",
   "metadata": {
    "execution": {
     "iopub.execute_input": "2024-12-15T12:14:22.877616Z",
     "iopub.status.busy": "2024-12-15T12:14:22.877148Z",
     "iopub.status.idle": "2024-12-15T12:14:22.892889Z",
     "shell.execute_reply": "2024-12-15T12:14:22.891746Z"
    },
    "papermill": {
     "duration": 0.034774,
     "end_time": "2024-12-15T12:14:22.895189",
     "exception": false,
     "start_time": "2024-12-15T12:14:22.860415",
     "status": "completed"
    },
    "tags": []
   },
   "outputs": [
    {
     "name": "stdout",
     "output_type": "stream",
     "text": [
      "    ID             Name  Age  Gender Department  Salary Joining Date  \\\n",
      "1    2  Timothy Sanchez   25   Other      Sales    4249   2020-11-09   \n",
      "2    3     Chad Nichols   57   Other      Sales    3058   2019-02-12   \n",
      "6    7      David Olson   39  Female      Sales    6826   2023-05-11   \n",
      "8    9    Jeremy Wright   63  Female      Sales    9862   2024-02-07   \n",
      "10  11      Nicole Bell   42  Female      Sales    5336   2015-01-28   \n",
      "\n",
      "    Performance Score  Experience    Status     Location  Session  \n",
      "1                 2.0          11  Inactive  Los Angeles  Evening  \n",
      "2                 NaN           1  Inactive     New York  Morning  \n",
      "6                 NaN           4    Active     New York    Night  \n",
      "8                 NaN           3  Inactive     New York    Night  \n",
      "10                3.0           7    Active  Los Angeles  Evening  \n"
     ]
    }
   ],
   "source": [
    "# Select rows where Department is \"Sales\"\n",
    "sales_department = df.loc[df['Department'] == 'Sales']\n",
    "print(sales_department.head())"
   ]
  },
  {
   "cell_type": "markdown",
   "id": "790ef535",
   "metadata": {
    "papermill": {
     "duration": 0.014946,
     "end_time": "2024-12-15T12:14:22.925563",
     "exception": false,
     "start_time": "2024-12-15T12:14:22.910617",
     "status": "completed"
    },
    "tags": []
   },
   "source": [
    "## **Step 7:** *Rows Where Salary > 8000 and Status is \"Active\"*"
   ]
  },
  {
   "cell_type": "code",
   "execution_count": 9,
   "id": "e722de8b",
   "metadata": {
    "execution": {
     "iopub.execute_input": "2024-12-15T12:14:22.957761Z",
     "iopub.status.busy": "2024-12-15T12:14:22.957364Z",
     "iopub.status.idle": "2024-12-15T12:14:22.968508Z",
     "shell.execute_reply": "2024-12-15T12:14:22.967234Z"
    },
    "papermill": {
     "duration": 0.030019,
     "end_time": "2024-12-15T12:14:22.970991",
     "exception": false,
     "start_time": "2024-12-15T12:14:22.940972",
     "status": "completed"
    },
    "tags": []
   },
   "outputs": [
    {
     "name": "stdout",
     "output_type": "stream",
     "text": [
      "    ID            Name  Age Gender Department  Salary Joining Date  \\\n",
      "9   10  Brian Faulkner   30   Male         IT    8202   2018-05-26   \n",
      "24  25   Tracy Carlson   21   Male         HR    9275   2022-04-09   \n",
      "38  39    Jordan Scott   33  Other      Sales    8678   2016-05-15   \n",
      "39  40     Lisa Wagner   36   Male         HR    8870   2024-08-12   \n",
      "60  61  Andrew Shannon   51  Other      Sales    8544   2020-02-08   \n",
      "\n",
      "    Performance Score  Experience  Status     Location  Session  \n",
      "9                 1.0           9  Active  Los Angeles  Morning  \n",
      "24                4.0          12  Active     New York  Morning  \n",
      "38                5.0           9  Active  Los Angeles  Evening  \n",
      "39                4.0          17  Active  Los Angeles  Evening  \n",
      "60                NaN           6  Active     New York  Evening  \n"
     ]
    }
   ],
   "source": [
    "# Select rows based on conditions\n",
    "high_salary_active = df[(df['Salary'] > 8000) & (df['Status'] == 'Active')]\n",
    "print(high_salary_active.head())"
   ]
  },
  {
   "cell_type": "markdown",
   "id": "9a1cf5f5",
   "metadata": {
    "papermill": {
     "duration": 0.015989,
     "end_time": "2024-12-15T12:14:23.002402",
     "exception": false,
     "start_time": "2024-12-15T12:14:22.986413",
     "status": "completed"
    },
    "tags": []
   },
   "source": [
    "## **Step 8:** *Employees with >5 Years and Performance Score >= 4*"
   ]
  },
  {
   "cell_type": "code",
   "execution_count": 10,
   "id": "bf00cac4",
   "metadata": {
    "execution": {
     "iopub.execute_input": "2024-12-15T12:14:23.035223Z",
     "iopub.status.busy": "2024-12-15T12:14:23.034459Z",
     "iopub.status.idle": "2024-12-15T12:14:23.045668Z",
     "shell.execute_reply": "2024-12-15T12:14:23.044530Z"
    },
    "papermill": {
     "duration": 0.029692,
     "end_time": "2024-12-15T12:14:23.047715",
     "exception": false,
     "start_time": "2024-12-15T12:14:23.018023",
     "status": "completed"
    },
    "tags": []
   },
   "outputs": [
    {
     "name": "stdout",
     "output_type": "stream",
     "text": [
      "    ID                Name  Age  Gender Department  Salary Joining Date  \\\n",
      "4    5        Amber Harris   35   Other         IT    4317   2020-02-15   \n",
      "11  12   Rodney Richardson   60   Other         HR    6908   2015-03-14   \n",
      "17  18  Jacqueline Randall   31  Female         HR    3519   2018-05-18   \n",
      "18  19      Nancy Stephens   38    Male         HR    9061   2017-07-16   \n",
      "24  25       Tracy Carlson   21    Male         HR    9275   2022-04-09   \n",
      "\n",
      "    Performance Score  Experience    Status  Location  Session  \n",
      "4                 5.0          16  Inactive  New York  Evening  \n",
      "11                4.0          19    Active   Chicago    Night  \n",
      "17                4.0           6    Active  New York  Morning  \n",
      "18                5.0          16  Inactive   Chicago    Night  \n",
      "24                4.0          12    Active  New York  Morning  \n"
     ]
    }
   ],
   "source": [
    "# Filter rows based on experience and performance score\n",
    "experienced_high_performance = df[(df['Experience'] > 5) & (df['Performance Score'] >= 4)]\n",
    "print(experienced_high_performance.head())"
   ]
  },
  {
   "cell_type": "markdown",
   "id": "70e4c7e0",
   "metadata": {
    "papermill": {
     "duration": 0.069654,
     "end_time": "2024-12-15T12:14:23.132729",
     "exception": false,
     "start_time": "2024-12-15T12:14:23.063075",
     "status": "completed"
    },
    "tags": []
   },
   "source": [
    "## **Step 9:** *Every Alternate Row Using Slicing with iloc*"
   ]
  },
  {
   "cell_type": "code",
   "execution_count": 11,
   "id": "002e3260",
   "metadata": {
    "execution": {
     "iopub.execute_input": "2024-12-15T12:14:23.168476Z",
     "iopub.status.busy": "2024-12-15T12:14:23.168079Z",
     "iopub.status.idle": "2024-12-15T12:14:23.178044Z",
     "shell.execute_reply": "2024-12-15T12:14:23.176894Z"
    },
    "papermill": {
     "duration": 0.030479,
     "end_time": "2024-12-15T12:14:23.180601",
     "exception": false,
     "start_time": "2024-12-15T12:14:23.150122",
     "status": "completed"
    },
    "tags": []
   },
   "outputs": [
    {
     "name": "stdout",
     "output_type": "stream",
     "text": [
      "   ID           Name  Age  Gender Department  Salary Joining Date  \\\n",
      "0   1   Cory Escobar   48  Female         HR    5641   2015-05-03   \n",
      "2   3   Chad Nichols   57   Other      Sales    3058   2019-02-12   \n",
      "4   5   Amber Harris   35   Other         IT    4317   2020-02-15   \n",
      "6   7    David Olson   39  Female      Sales    6826   2023-05-11   \n",
      "8   9  Jeremy Wright   63  Female      Sales    9862   2024-02-07   \n",
      "\n",
      "   Performance Score  Experience    Status  Location  Session  \n",
      "0                2.0          16    Active  New York    Night  \n",
      "2                NaN           1  Inactive  New York  Morning  \n",
      "4                5.0          16  Inactive  New York  Evening  \n",
      "6                NaN           4    Active  New York    Night  \n",
      "8                NaN           3  Inactive  New York    Night  \n"
     ]
    }
   ],
   "source": [
    "# Select every alternate row\n",
    "alternate_rows = df.iloc[::2]\n",
    "print(alternate_rows.head())"
   ]
  },
  {
   "cell_type": "markdown",
   "id": "d87890da",
   "metadata": {
    "papermill": {
     "duration": 0.015213,
     "end_time": "2024-12-15T12:14:23.212748",
     "exception": false,
     "start_time": "2024-12-15T12:14:23.197535",
     "status": "completed"
    },
    "tags": []
   },
   "source": [
    "## **Step 10:** *Employees in \"Sales\" with Top 10% Salaries*"
   ]
  },
  {
   "cell_type": "code",
   "execution_count": 12,
   "id": "030f7091",
   "metadata": {
    "execution": {
     "iopub.execute_input": "2024-12-15T12:14:23.245569Z",
     "iopub.status.busy": "2024-12-15T12:14:23.245140Z",
     "iopub.status.idle": "2024-12-15T12:14:23.261934Z",
     "shell.execute_reply": "2024-12-15T12:14:23.260554Z"
    },
    "papermill": {
     "duration": 0.036421,
     "end_time": "2024-12-15T12:14:23.264574",
     "exception": false,
     "start_time": "2024-12-15T12:14:23.228153",
     "status": "completed"
    },
    "tags": []
   },
   "outputs": [
    {
     "name": "stdout",
     "output_type": "stream",
     "text": [
      "      ID             Name  Age  Gender Department  Salary Joining Date  \\\n",
      "8      9    Jeremy Wright   63  Female      Sales    9862   2024-02-07   \n",
      "22    23     Bryce Carter   35  Female      Sales    9598   2015-12-16   \n",
      "29    30    Rachel Ramsey   22    Male      Sales    9661   2016-08-18   \n",
      "215  216       Sara Jones   50  Female      Sales    9377   2019-10-16   \n",
      "228  229  Christie Warren   51  Female      Sales    9139   2020-08-16   \n",
      "\n",
      "     Performance Score  Experience    Status     Location  Session  \n",
      "8                  NaN           3  Inactive     New York    Night  \n",
      "22                 4.0           4  Inactive     New York    Night  \n",
      "29                 2.0          17  Inactive      Chicago    Night  \n",
      "215                NaN           3    Active  Los Angeles  Morning  \n",
      "228                5.0           1    Active      Chicago    Night  \n"
     ]
    }
   ],
   "source": [
    "# Calculate the salary threshold for the top 10%\n",
    "top_10_percent_salary = df['Salary'].quantile(0.9)\n",
    "\n",
    "# Filter rows based on Department and top salary threshold\n",
    "top_sales_employees = df[(df['Department'] == 'Sales') & (df['Salary'] >= top_10_percent_salary)]\n",
    "print(top_sales_employees.head())"
   ]
  },
  {
   "cell_type": "markdown",
   "id": "9ed53b2f",
   "metadata": {
    "papermill": {
     "duration": 0.01524,
     "end_time": "2024-12-15T12:14:23.297346",
     "exception": false,
     "start_time": "2024-12-15T12:14:23.282106",
     "status": "completed"
    },
    "tags": []
   },
   "source": [
    "## **Step 11:** *Replace all \"Inactive\" values in the Status column with \"Retired\"*"
   ]
  },
  {
   "cell_type": "code",
   "execution_count": 13,
   "id": "c750b520",
   "metadata": {
    "execution": {
     "iopub.execute_input": "2024-12-15T12:14:23.330626Z",
     "iopub.status.busy": "2024-12-15T12:14:23.330195Z",
     "iopub.status.idle": "2024-12-15T12:14:23.340846Z",
     "shell.execute_reply": "2024-12-15T12:14:23.339420Z"
    },
    "papermill": {
     "duration": 0.030229,
     "end_time": "2024-12-15T12:14:23.343216",
     "exception": false,
     "start_time": "2024-12-15T12:14:23.312987",
     "status": "completed"
    },
    "tags": []
   },
   "outputs": [
    {
     "name": "stdout",
     "output_type": "stream",
     "text": [
      "Replace 'Inactive' with 'Retired' in the Status column\n",
      "    Status\n",
      "0   Active\n",
      "1  Retired\n",
      "2  Retired\n",
      "3  Retired\n",
      "4  Retired\n"
     ]
    }
   ],
   "source": [
    "# Replace \"Inactive\" with \"Retired\" in the Status column\n",
    "df['Status'] = df['Status'].replace('Inactive', 'Retired')\n",
    "print(\"Replace 'Inactive' with 'Retired' in the Status column\")\n",
    "print(df[['Status']].head())  # Display first few rows of Status column to verify"
   ]
  },
  {
   "cell_type": "markdown",
   "id": "601986c6",
   "metadata": {
    "papermill": {
     "duration": 0.015654,
     "end_time": "2024-12-15T12:14:23.375643",
     "exception": false,
     "start_time": "2024-12-15T12:14:23.359989",
     "status": "completed"
    },
    "tags": []
   },
   "source": [
    "## **Step 12:** *Add a new column Bonus where values are 10% of the Salary column*"
   ]
  },
  {
   "cell_type": "code",
   "execution_count": 14,
   "id": "13852b98",
   "metadata": {
    "execution": {
     "iopub.execute_input": "2024-12-15T12:14:23.408968Z",
     "iopub.status.busy": "2024-12-15T12:14:23.408090Z",
     "iopub.status.idle": "2024-12-15T12:14:23.417787Z",
     "shell.execute_reply": "2024-12-15T12:14:23.416642Z"
    },
    "papermill": {
     "duration": 0.028833,
     "end_time": "2024-12-15T12:14:23.420168",
     "exception": false,
     "start_time": "2024-12-15T12:14:23.391335",
     "status": "completed"
    },
    "tags": []
   },
   "outputs": [
    {
     "name": "stdout",
     "output_type": "stream",
     "text": [
      "   Salary  Bonus\n",
      "0    5641  564.1\n",
      "1    4249  424.9\n",
      "2    3058  305.8\n",
      "3    5895  589.5\n",
      "4    4317  431.7\n"
     ]
    }
   ],
   "source": [
    "# Add a Bonus column that is 10% of the Salary column\n",
    "df['Bonus'] = df['Salary'] * 0.1\n",
    "\n",
    "# Print the first few rows to verify\n",
    "print(df[['Salary', 'Bonus']].head())"
   ]
  },
  {
   "cell_type": "markdown",
   "id": "f30c75b2",
   "metadata": {
    "papermill": {
     "duration": 0.015461,
     "end_time": "2024-12-15T12:14:23.451489",
     "exception": false,
     "start_time": "2024-12-15T12:14:23.436028",
     "status": "completed"
    },
    "tags": []
   },
   "source": [
    "## **Step :13** *Update the Performance Score of employees in the \"IT\" department to 5 if it is NaN*"
   ]
  },
  {
   "cell_type": "code",
   "execution_count": 15,
   "id": "93f35faa",
   "metadata": {
    "execution": {
     "iopub.execute_input": "2024-12-15T12:14:23.484646Z",
     "iopub.status.busy": "2024-12-15T12:14:23.484226Z",
     "iopub.status.idle": "2024-12-15T12:14:23.494782Z",
     "shell.execute_reply": "2024-12-15T12:14:23.493585Z"
    },
    "papermill": {
     "duration": 0.030174,
     "end_time": "2024-12-15T12:14:23.497295",
     "exception": false,
     "start_time": "2024-12-15T12:14:23.467121",
     "status": "completed"
    },
    "tags": []
   },
   "outputs": [
    {
     "name": "stdout",
     "output_type": "stream",
     "text": [
      "    ID  Performance Score\n",
      "3    4                2.0\n",
      "4    5                5.0\n",
      "9   10                1.0\n",
      "12  13                5.0\n",
      "13  14                5.0\n"
     ]
    }
   ],
   "source": [
    "# Update Performance Score to 5 for employees in the \"IT\" department if it is NaN\n",
    "df.loc[(df['Department'] == 'IT') & (df['Performance Score'].isna()), 'Performance Score'] = 5\n",
    "\n",
    "# Print rows where Performance Score was updated (using 'ID' instead of 'EmployeeID')\n",
    "print(df[df['Department'] == 'IT'][['ID', 'Performance Score']].head())"
   ]
  },
  {
   "cell_type": "markdown",
   "id": "9631ec39",
   "metadata": {
    "papermill": {
     "duration": 0.015307,
     "end_time": "2024-12-15T12:14:23.528563",
     "exception": false,
     "start_time": "2024-12-15T12:14:23.513256",
     "status": "completed"
    },
    "tags": []
   },
   "source": [
    "## **Step :14** *Modify the Experience of employees with less than 2 years to 2*"
   ]
  },
  {
   "cell_type": "code",
   "execution_count": 16,
   "id": "6b3adf13",
   "metadata": {
    "execution": {
     "iopub.execute_input": "2024-12-15T12:14:23.563237Z",
     "iopub.status.busy": "2024-12-15T12:14:23.562842Z",
     "iopub.status.idle": "2024-12-15T12:14:23.572677Z",
     "shell.execute_reply": "2024-12-15T12:14:23.571468Z"
    },
    "papermill": {
     "duration": 0.030192,
     "end_time": "2024-12-15T12:14:23.574959",
     "exception": false,
     "start_time": "2024-12-15T12:14:23.544767",
     "status": "completed"
    },
    "tags": []
   },
   "outputs": [
    {
     "name": "stdout",
     "output_type": "stream",
     "text": [
      "   ID  Experience\n",
      "0   1          16\n",
      "1   2          11\n",
      "2   3           2\n",
      "3   4          13\n",
      "4   5          16\n"
     ]
    }
   ],
   "source": [
    "# Set Experience to 2 for employees with less than 2 years of experience\n",
    "df.loc[df['Experience'] < 2, 'Experience'] = 2\n",
    "# Print the updated Experience column\n",
    "print(df[['ID', 'Experience']].head())"
   ]
  },
  {
   "cell_type": "markdown",
   "id": "7a7246c3",
   "metadata": {
    "papermill": {
     "duration": 0.015399,
     "end_time": "2024-12-15T12:14:23.606814",
     "exception": false,
     "start_time": "2024-12-15T12:14:23.591415",
     "status": "completed"
    },
    "tags": []
   },
   "source": [
    "## **Step :15** *Normalize the Salary column so that all values are between 0 and 1*"
   ]
  },
  {
   "cell_type": "code",
   "execution_count": 17,
   "id": "6116063e",
   "metadata": {
    "execution": {
     "iopub.execute_input": "2024-12-15T12:14:23.640337Z",
     "iopub.status.busy": "2024-12-15T12:14:23.639730Z",
     "iopub.status.idle": "2024-12-15T12:14:23.650027Z",
     "shell.execute_reply": "2024-12-15T12:14:23.648812Z"
    },
    "papermill": {
     "duration": 0.029478,
     "end_time": "2024-12-15T12:14:23.652146",
     "exception": false,
     "start_time": "2024-12-15T12:14:23.622668",
     "status": "completed"
    },
    "tags": []
   },
   "outputs": [
    {
     "name": "stdout",
     "output_type": "stream",
     "text": [
      "   ID    Salary\n",
      "0   1  0.454500\n",
      "1   2  0.280020\n",
      "2   3  0.130735\n",
      "3   4  0.486337\n",
      "4   5  0.288543\n"
     ]
    }
   ],
   "source": [
    "# Normalize the Salary column using Min-Max scaling\n",
    "df['Salary'] = (df['Salary'] - df['Salary'].min()) / (df['Salary'].max() - df['Salary'].min())\n",
    "\n",
    "# Print the normalized Salary column\n",
    "print(df[['ID', 'Salary']].head())"
   ]
  },
  {
   "cell_type": "markdown",
   "id": "ca893453",
   "metadata": {
    "papermill": {
     "duration": 0.016687,
     "end_time": "2024-12-15T12:14:23.685213",
     "exception": false,
     "start_time": "2024-12-15T12:14:23.668526",
     "status": "completed"
    },
    "tags": []
   },
   "source": [
    "## **Step :16** *Replace all Location values with \"Remote\" for employees with a Performance Score below 3*"
   ]
  },
  {
   "cell_type": "code",
   "execution_count": 18,
   "id": "27d20a6e",
   "metadata": {
    "execution": {
     "iopub.execute_input": "2024-12-15T12:14:23.718786Z",
     "iopub.status.busy": "2024-12-15T12:14:23.718310Z",
     "iopub.status.idle": "2024-12-15T12:14:23.727655Z",
     "shell.execute_reply": "2024-12-15T12:14:23.726455Z"
    },
    "papermill": {
     "duration": 0.029024,
     "end_time": "2024-12-15T12:14:23.730080",
     "exception": false,
     "start_time": "2024-12-15T12:14:23.701056",
     "status": "completed"
    },
    "tags": []
   },
   "outputs": [
    {
     "name": "stdout",
     "output_type": "stream",
     "text": [
      "   ID  Location\n",
      "0   1    Remote\n",
      "1   2    Remote\n",
      "2   3  New York\n",
      "3   4    Remote\n",
      "4   5  New York\n"
     ]
    }
   ],
   "source": [
    "# Replace Location with \"Remote\" for employees with Performance Score below 3\n",
    "df.loc[df['Performance Score'] < 3, 'Location'] = 'Remote'\n",
    "\n",
    "# Print the updated Location column\n",
    "print(df[['ID', 'Location']].head())"
   ]
  },
  {
   "cell_type": "markdown",
   "id": "437cc478",
   "metadata": {
    "papermill": {
     "duration": 0.016038,
     "end_time": "2024-12-15T12:14:23.762592",
     "exception": false,
     "start_time": "2024-12-15T12:14:23.746554",
     "status": "completed"
    },
    "tags": []
   },
   "source": [
    "## **Step :17** *Create a new column Experience Level with values \"Junior\", \"Mid\", or \"Senior\" based on the Experience*"
   ]
  },
  {
   "cell_type": "code",
   "execution_count": 19,
   "id": "a930df9f",
   "metadata": {
    "execution": {
     "iopub.execute_input": "2024-12-15T12:14:23.797020Z",
     "iopub.status.busy": "2024-12-15T12:14:23.796559Z",
     "iopub.status.idle": "2024-12-15T12:14:23.807476Z",
     "shell.execute_reply": "2024-12-15T12:14:23.806197Z"
    },
    "papermill": {
     "duration": 0.030431,
     "end_time": "2024-12-15T12:14:23.809834",
     "exception": false,
     "start_time": "2024-12-15T12:14:23.779403",
     "status": "completed"
    },
    "tags": []
   },
   "outputs": [
    {
     "name": "stdout",
     "output_type": "stream",
     "text": [
      "   ID Experience Level\n",
      "0   1           Senior\n",
      "1   2           Senior\n",
      "2   3           Junior\n",
      "3   4           Senior\n",
      "4   5           Senior\n"
     ]
    }
   ],
   "source": [
    "# Create Experience Level based on Experience\n",
    "def experience_level(experience):\n",
    "    if experience < 3:\n",
    "        return 'Junior'\n",
    "    elif 3 <= experience < 7:\n",
    "        return 'Mid'\n",
    "    else:\n",
    "        return 'Senior'\n",
    "\n",
    "df['Experience Level'] = df['Experience'].apply(experience_level)\n",
    "\n",
    "# Print the Experience Level column\n",
    "print(df[['ID', 'Experience Level']].head())\n"
   ]
  },
  {
   "cell_type": "markdown",
   "id": "08c5dde7",
   "metadata": {
    "papermill": {
     "duration": 0.015777,
     "end_time": "2024-12-15T12:14:23.842428",
     "exception": false,
     "start_time": "2024-12-15T12:14:23.826651",
     "status": "completed"
    },
    "tags": []
   },
   "source": [
    "## **Step :18** *Add a new row with specific values using the append() method*"
   ]
  },
  {
   "cell_type": "code",
   "execution_count": 20,
   "id": "eebd05be",
   "metadata": {
    "execution": {
     "iopub.execute_input": "2024-12-15T12:14:23.876565Z",
     "iopub.status.busy": "2024-12-15T12:14:23.876156Z",
     "iopub.status.idle": "2024-12-15T12:14:23.891981Z",
     "shell.execute_reply": "2024-12-15T12:14:23.890774Z"
    },
    "papermill": {
     "duration": 0.035783,
     "end_time": "2024-12-15T12:14:23.894632",
     "exception": false,
     "start_time": "2024-12-15T12:14:23.858849",
     "status": "completed"
    },
    "tags": []
   },
   "outputs": [
    {
     "name": "stdout",
     "output_type": "stream",
     "text": [
      "        ID             Name  Age  Gender Department        Salary  \\\n",
      "996    997     Todd Johnson   29  Female      Sales      0.594009   \n",
      "997    998  Michael Sanchez   18    Male      Sales      0.409000   \n",
      "998    999    Ashley Taylor   51  Female         IT      0.428930   \n",
      "999   1000      Shawn Scott   45    Male         IT      0.670469   \n",
      "1000   101         John Doe   30    Male         HR  50000.000000   \n",
      "\n",
      "     Joining Date  Performance Score  Experience   Status     Location  \\\n",
      "996    2018-07-20                NaN          12  Retired     New York   \n",
      "997    2023-07-05                5.0           3   Active     New York   \n",
      "998    2022-02-18                4.0           9  Retired  Los Angeles   \n",
      "999    2022-07-31                2.0           4   Active       Remote   \n",
      "1000   2023-12-01                4.0           5   Active       Office   \n",
      "\n",
      "      Session  Bonus Experience Level  \n",
      "996   Morning  675.4           Senior  \n",
      "997   Morning  527.8              Mid  \n",
      "998   Evening  543.7           Senior  \n",
      "999   Morning  736.4              Mid  \n",
      "1000  Morning    NaN              NaN  \n"
     ]
    }
   ],
   "source": [
    "# Create a new row to be added\n",
    "new_row = pd.DataFrame({\n",
    "    'ID': [101], \n",
    "    'Name': ['John Doe'], \n",
    "    'Age': [30], \n",
    "    'Gender': ['Male'], \n",
    "    'Department': ['HR'], \n",
    "    'Salary': [50000], \n",
    "    'Joining Date': ['2023-12-01'], \n",
    "    'Performance Score': [4.0], \n",
    "    'Experience': [5], \n",
    "    'Status': ['Active'], \n",
    "    'Location': ['Office'], \n",
    "    'Session': ['Morning']\n",
    "})\n",
    "\n",
    "# Concatenate the new row with the existing DataFrame\n",
    "df = pd.concat([df, new_row], ignore_index=True)\n",
    "\n",
    "# Print the last 5 rows to confirm the new row was added\n",
    "print(df.tail())"
   ]
  },
  {
   "cell_type": "markdown",
   "id": "8d181400",
   "metadata": {
    "papermill": {
     "duration": 0.015779,
     "end_time": "2024-12-15T12:14:23.927511",
     "exception": false,
     "start_time": "2024-12-15T12:14:23.911732",
     "status": "completed"
    },
    "tags": []
   },
   "source": [
    "## **Step :19** *Delete the column Session from the DataFrame*"
   ]
  },
  {
   "cell_type": "code",
   "execution_count": 21,
   "id": "7f2801ac",
   "metadata": {
    "execution": {
     "iopub.execute_input": "2024-12-15T12:14:23.961549Z",
     "iopub.status.busy": "2024-12-15T12:14:23.961155Z",
     "iopub.status.idle": "2024-12-15T12:14:23.972805Z",
     "shell.execute_reply": "2024-12-15T12:14:23.971532Z"
    },
    "papermill": {
     "duration": 0.031678,
     "end_time": "2024-12-15T12:14:23.975366",
     "exception": false,
     "start_time": "2024-12-15T12:14:23.943688",
     "status": "completed"
    },
    "tags": []
   },
   "outputs": [
    {
     "name": "stdout",
     "output_type": "stream",
     "text": [
      "   ID                Name  Age  Gender Department    Salary Joining Date  \\\n",
      "0   1        Cory Escobar   48  Female         HR  0.454500   2015-05-03   \n",
      "1   2     Timothy Sanchez   25   Other      Sales  0.280020   2020-11-09   \n",
      "2   3        Chad Nichols   57   Other      Sales  0.130735   2019-02-12   \n",
      "3   4  Christine Williams   58  Female         IT  0.486337   2017-09-08   \n",
      "4   5        Amber Harris   35   Other         IT  0.288543   2020-02-15   \n",
      "\n",
      "   Performance Score  Experience   Status  Location  Bonus Experience Level  \n",
      "0                2.0          16   Active    Remote  564.1           Senior  \n",
      "1                2.0          11  Retired    Remote  424.9           Senior  \n",
      "2                NaN           2  Retired  New York  305.8           Junior  \n",
      "3                2.0          13  Retired    Remote  589.5           Senior  \n",
      "4                5.0          16  Retired  New York  431.7           Senior  \n"
     ]
    }
   ],
   "source": [
    "# Delete the 'Session' column\n",
    "df.drop('Session', axis=1, inplace=True)\n",
    "\n",
    "# Print the first 5 rows to confirm the column is deleted\n",
    "print(df.head())"
   ]
  },
  {
   "cell_type": "markdown",
   "id": "f57e3460",
   "metadata": {
    "papermill": {
     "duration": 0.015723,
     "end_time": "2024-12-15T12:14:24.007382",
     "exception": false,
     "start_time": "2024-12-15T12:14:23.991659",
     "status": "completed"
    },
    "tags": []
   },
   "source": [
    "## **Step :20** *Delete rows where the Age is greater than 60*"
   ]
  },
  {
   "cell_type": "code",
   "execution_count": 22,
   "id": "599ef509",
   "metadata": {
    "execution": {
     "iopub.execute_input": "2024-12-15T12:14:24.042149Z",
     "iopub.status.busy": "2024-12-15T12:14:24.041779Z",
     "iopub.status.idle": "2024-12-15T12:14:24.054061Z",
     "shell.execute_reply": "2024-12-15T12:14:24.052828Z"
    },
    "papermill": {
     "duration": 0.032305,
     "end_time": "2024-12-15T12:14:24.056536",
     "exception": false,
     "start_time": "2024-12-15T12:14:24.024231",
     "status": "completed"
    },
    "tags": []
   },
   "outputs": [
    {
     "name": "stdout",
     "output_type": "stream",
     "text": [
      "   ID                Name  Age  Gender Department    Salary Joining Date  \\\n",
      "0   1        Cory Escobar   48  Female         HR  0.454500   2015-05-03   \n",
      "1   2     Timothy Sanchez   25   Other      Sales  0.280020   2020-11-09   \n",
      "2   3        Chad Nichols   57   Other      Sales  0.130735   2019-02-12   \n",
      "3   4  Christine Williams   58  Female         IT  0.486337   2017-09-08   \n",
      "4   5        Amber Harris   35   Other         IT  0.288543   2020-02-15   \n",
      "\n",
      "   Performance Score  Experience   Status  Location  Bonus Experience Level  \n",
      "0                2.0          16   Active    Remote  564.1           Senior  \n",
      "1                2.0          11  Retired    Remote  424.9           Senior  \n",
      "2                NaN           2  Retired  New York  305.8           Junior  \n",
      "3                2.0          13  Retired    Remote  589.5           Senior  \n",
      "4                5.0          16  Retired  New York  431.7           Senior  \n"
     ]
    }
   ],
   "source": [
    "# Delete rows where Age is greater than 60\n",
    "df = df[df['Age'] <= 60]\n",
    "\n",
    "# Print the first 5 rows to confirm the rows are deleted\n",
    "print(df.head())"
   ]
  },
  {
   "cell_type": "markdown",
   "id": "9c85b281",
   "metadata": {
    "papermill": {
     "duration": 0.016256,
     "end_time": "2024-12-15T12:14:24.089785",
     "exception": false,
     "start_time": "2024-12-15T12:14:24.073529",
     "status": "completed"
    },
    "tags": []
   },
   "source": [
    "## **Step :21** *Add a new column Age Group with values \"Young\", \"Middle-aged\", or \"Senior\" based on Age*"
   ]
  },
  {
   "cell_type": "code",
   "execution_count": 23,
   "id": "355fa51d",
   "metadata": {
    "execution": {
     "iopub.execute_input": "2024-12-15T12:14:24.124288Z",
     "iopub.status.busy": "2024-12-15T12:14:24.123927Z",
     "iopub.status.idle": "2024-12-15T12:14:24.137961Z",
     "shell.execute_reply": "2024-12-15T12:14:24.136764Z"
    },
    "papermill": {
     "duration": 0.034547,
     "end_time": "2024-12-15T12:14:24.140428",
     "exception": false,
     "start_time": "2024-12-15T12:14:24.105881",
     "status": "completed"
    },
    "tags": []
   },
   "outputs": [
    {
     "name": "stdout",
     "output_type": "stream",
     "text": [
      "   ID                Name  Age  Gender Department    Salary Joining Date  \\\n",
      "0   1        Cory Escobar   48  Female         HR  0.454500   2015-05-03   \n",
      "1   2     Timothy Sanchez   25   Other      Sales  0.280020   2020-11-09   \n",
      "2   3        Chad Nichols   57   Other      Sales  0.130735   2019-02-12   \n",
      "3   4  Christine Williams   58  Female         IT  0.486337   2017-09-08   \n",
      "4   5        Amber Harris   35   Other         IT  0.288543   2020-02-15   \n",
      "\n",
      "   Performance Score  Experience   Status  Location  Bonus Experience Level  \\\n",
      "0                2.0          16   Active    Remote  564.1           Senior   \n",
      "1                2.0          11  Retired    Remote  424.9           Senior   \n",
      "2                NaN           2  Retired  New York  305.8           Junior   \n",
      "3                2.0          13  Retired    Remote  589.5           Senior   \n",
      "4                5.0          16  Retired  New York  431.7           Senior   \n",
      "\n",
      "     Age Group  \n",
      "0  Middle-aged  \n",
      "1        Young  \n",
      "2       Senior  \n",
      "3       Senior  \n",
      "4  Middle-aged  \n"
     ]
    }
   ],
   "source": [
    "# Add a new column Age Group based on Age\n",
    "def age_group(age):\n",
    "    if age < 30:\n",
    "        return 'Young'\n",
    "    elif 30 <= age < 50:\n",
    "        return 'Middle-aged'\n",
    "    else:\n",
    "        return 'Senior'\n",
    "\n",
    "df['Age Group'] = df['Age'].apply(age_group)\n",
    "\n",
    "# Print the first 5 rows to confirm the new column\n",
    "print(df.head())"
   ]
  },
  {
   "cell_type": "markdown",
   "id": "0b4c9d43",
   "metadata": {
    "papermill": {
     "duration": 0.01619,
     "end_time": "2024-12-15T12:14:24.176366",
     "exception": false,
     "start_time": "2024-12-15T12:14:24.160176",
     "status": "completed"
    },
    "tags": []
   },
   "source": [
    "## **Step :22** *Identify all columns with missing values using the isna() method*"
   ]
  },
  {
   "cell_type": "code",
   "execution_count": 24,
   "id": "839e1ade",
   "metadata": {
    "execution": {
     "iopub.execute_input": "2024-12-15T12:14:24.210812Z",
     "iopub.status.busy": "2024-12-15T12:14:24.210378Z",
     "iopub.status.idle": "2024-12-15T12:14:24.218820Z",
     "shell.execute_reply": "2024-12-15T12:14:24.217506Z"
    },
    "papermill": {
     "duration": 0.028639,
     "end_time": "2024-12-15T12:14:24.221533",
     "exception": false,
     "start_time": "2024-12-15T12:14:24.192894",
     "status": "completed"
    },
    "tags": []
   },
   "outputs": [
    {
     "name": "stdout",
     "output_type": "stream",
     "text": [
      "Performance Score    291\n",
      "Bonus                  1\n",
      "Experience Level       1\n",
      "dtype: int64\n"
     ]
    }
   ],
   "source": [
    "# Identify columns with missing values\n",
    "missing_values = df.isna().sum()\n",
    "\n",
    "# Print the columns with missing values\n",
    "print(missing_values[missing_values > 0])"
   ]
  },
  {
   "cell_type": "markdown",
   "id": "835e483b",
   "metadata": {
    "papermill": {
     "duration": 0.016063,
     "end_time": "2024-12-15T12:14:24.254943",
     "exception": false,
     "start_time": "2024-12-15T12:14:24.238880",
     "status": "completed"
    },
    "tags": []
   },
   "source": [
    "## **Step :23** *Fill the missing values in Performance Score with the average score of that column*"
   ]
  },
  {
   "cell_type": "code",
   "execution_count": 25,
   "id": "fa6d954b",
   "metadata": {
    "execution": {
     "iopub.execute_input": "2024-12-15T12:14:24.292157Z",
     "iopub.status.busy": "2024-12-15T12:14:24.291761Z",
     "iopub.status.idle": "2024-12-15T12:14:24.304727Z",
     "shell.execute_reply": "2024-12-15T12:14:24.303299Z"
    },
    "papermill": {
     "duration": 0.035467,
     "end_time": "2024-12-15T12:14:24.307848",
     "exception": false,
     "start_time": "2024-12-15T12:14:24.272381",
     "status": "completed"
    },
    "tags": []
   },
   "outputs": [
    {
     "name": "stdout",
     "output_type": "stream",
     "text": [
      "   ID                Name  Age  Gender Department    Salary Joining Date  \\\n",
      "0   1        Cory Escobar   48  Female         HR  0.454500   2015-05-03   \n",
      "1   2     Timothy Sanchez   25   Other      Sales  0.280020   2020-11-09   \n",
      "2   3        Chad Nichols   57   Other      Sales  0.130735   2019-02-12   \n",
      "3   4  Christine Williams   58  Female         IT  0.486337   2017-09-08   \n",
      "4   5        Amber Harris   35   Other         IT  0.288543   2020-02-15   \n",
      "\n",
      "   Performance Score  Experience   Status  Location  Bonus Experience Level  \\\n",
      "0           2.000000          16   Active    Remote  564.1           Senior   \n",
      "1           2.000000          11  Retired    Remote  424.9           Senior   \n",
      "2           3.442786           2  Retired  New York  305.8           Junior   \n",
      "3           2.000000          13  Retired    Remote  589.5           Senior   \n",
      "4           5.000000          16  Retired  New York  431.7           Senior   \n",
      "\n",
      "     Age Group  \n",
      "0  Middle-aged  \n",
      "1        Young  \n",
      "2       Senior  \n",
      "3       Senior  \n",
      "4  Middle-aged  \n"
     ]
    }
   ],
   "source": [
    "# Fill missing values in Performance Score with the column mean (without using inplace=True)\n",
    "df['Performance Score'] = df['Performance Score'].fillna(df['Performance Score'].mean())\n",
    "\n",
    "# Print the first 5 rows to confirm the operation\n",
    "print(df.head())"
   ]
  },
  {
   "cell_type": "markdown",
   "id": "dd9f93a9",
   "metadata": {
    "papermill": {
     "duration": 0.01703,
     "end_time": "2024-12-15T12:14:24.341757",
     "exception": false,
     "start_time": "2024-12-15T12:14:24.324727",
     "status": "completed"
    },
    "tags": []
   },
   "source": [
    "## **Step :24** *Drop all rows with missing values using the dropna() method*"
   ]
  },
  {
   "cell_type": "code",
   "execution_count": 26,
   "id": "0b18acdf",
   "metadata": {
    "execution": {
     "iopub.execute_input": "2024-12-15T12:14:24.376525Z",
     "iopub.status.busy": "2024-12-15T12:14:24.376137Z",
     "iopub.status.idle": "2024-12-15T12:14:24.389655Z",
     "shell.execute_reply": "2024-12-15T12:14:24.388532Z"
    },
    "papermill": {
     "duration": 0.033712,
     "end_time": "2024-12-15T12:14:24.391989",
     "exception": false,
     "start_time": "2024-12-15T12:14:24.358277",
     "status": "completed"
    },
    "tags": []
   },
   "outputs": [
    {
     "name": "stdout",
     "output_type": "stream",
     "text": [
      "   ID                Name  Age  Gender Department    Salary Joining Date  \\\n",
      "0   1        Cory Escobar   48  Female         HR  0.454500   2015-05-03   \n",
      "1   2     Timothy Sanchez   25   Other      Sales  0.280020   2020-11-09   \n",
      "2   3        Chad Nichols   57   Other      Sales  0.130735   2019-02-12   \n",
      "3   4  Christine Williams   58  Female         IT  0.486337   2017-09-08   \n",
      "4   5        Amber Harris   35   Other         IT  0.288543   2020-02-15   \n",
      "\n",
      "   Performance Score  Experience   Status  Location  Bonus Experience Level  \\\n",
      "0           2.000000          16   Active    Remote  564.1           Senior   \n",
      "1           2.000000          11  Retired    Remote  424.9           Senior   \n",
      "2           3.442786           2  Retired  New York  305.8           Junior   \n",
      "3           2.000000          13  Retired    Remote  589.5           Senior   \n",
      "4           5.000000          16  Retired  New York  431.7           Senior   \n",
      "\n",
      "     Age Group  \n",
      "0  Middle-aged  \n",
      "1        Young  \n",
      "2       Senior  \n",
      "3       Senior  \n",
      "4  Middle-aged  \n"
     ]
    }
   ],
   "source": [
    "# Drop rows with missing values\n",
    "df = df.dropna()\n",
    "\n",
    "# Print the first 5 rows to confirm the operation\n",
    "print(df.head())"
   ]
  },
  {
   "cell_type": "markdown",
   "id": "0b282d65",
   "metadata": {
    "papermill": {
     "duration": 0.016341,
     "end_time": "2024-12-15T12:14:24.424957",
     "exception": false,
     "start_time": "2024-12-15T12:14:24.408616",
     "status": "completed"
    },
    "tags": []
   },
   "source": [
    "## **Step :25** *Replace missing values in Performance Score with the median of the scores, grouped by Department*"
   ]
  },
  {
   "cell_type": "code",
   "execution_count": 27,
   "id": "e50d8ddc",
   "metadata": {
    "execution": {
     "iopub.execute_input": "2024-12-15T12:14:24.459700Z",
     "iopub.status.busy": "2024-12-15T12:14:24.459179Z",
     "iopub.status.idle": "2024-12-15T12:14:24.484517Z",
     "shell.execute_reply": "2024-12-15T12:14:24.483174Z"
    },
    "papermill": {
     "duration": 0.04604,
     "end_time": "2024-12-15T12:14:24.487356",
     "exception": false,
     "start_time": "2024-12-15T12:14:24.441316",
     "status": "completed"
    },
    "tags": []
   },
   "outputs": [
    {
     "name": "stdout",
     "output_type": "stream",
     "text": [
      "   ID                Name  Age  Gender Department    Salary Joining Date  \\\n",
      "0   1        Cory Escobar   48  Female         HR  0.454500   2015-05-03   \n",
      "1   2     Timothy Sanchez   25   Other      Sales  0.280020   2020-11-09   \n",
      "2   3        Chad Nichols   57   Other      Sales  0.130735   2019-02-12   \n",
      "3   4  Christine Williams   58  Female         IT  0.486337   2017-09-08   \n",
      "4   5        Amber Harris   35   Other         IT  0.288543   2020-02-15   \n",
      "\n",
      "   Performance Score  Experience   Status  Location  Bonus Experience Level  \\\n",
      "0           2.000000          16   Active    Remote  564.1           Senior   \n",
      "1           2.000000          11  Retired    Remote  424.9           Senior   \n",
      "2           3.442786           2  Retired  New York  305.8           Junior   \n",
      "3           2.000000          13  Retired    Remote  589.5           Senior   \n",
      "4           5.000000          16  Retired  New York  431.7           Senior   \n",
      "\n",
      "     Age Group  \n",
      "0  Middle-aged  \n",
      "1        Young  \n",
      "2       Senior  \n",
      "3       Senior  \n",
      "4  Middle-aged  \n"
     ]
    }
   ],
   "source": [
    "# Replace missing Performance Score with the median of the department\n",
    "df['Performance Score'] = df.groupby('Department')['Performance Score'].transform(\n",
    "    lambda x: x.fillna(x.median()))\n",
    "\n",
    "# Print the first 5 rows to confirm the operation\n",
    "print(df.head())"
   ]
  },
  {
   "cell_type": "markdown",
   "id": "fd4c36e5",
   "metadata": {
    "papermill": {
     "duration": 0.016323,
     "end_time": "2024-12-15T12:14:24.520620",
     "exception": false,
     "start_time": "2024-12-15T12:14:24.504297",
     "status": "completed"
    },
    "tags": []
   },
   "source": [
    "## **Step :26** *Identify rows where the employee is in the \"IT\" department and their Age is above the average Age of \"IT\" employees*"
   ]
  },
  {
   "cell_type": "code",
   "execution_count": 28,
   "id": "e0133e70",
   "metadata": {
    "execution": {
     "iopub.execute_input": "2024-12-15T12:14:24.556985Z",
     "iopub.status.busy": "2024-12-15T12:14:24.556586Z",
     "iopub.status.idle": "2024-12-15T12:14:24.572137Z",
     "shell.execute_reply": "2024-12-15T12:14:24.570981Z"
    },
    "papermill": {
     "duration": 0.036114,
     "end_time": "2024-12-15T12:14:24.574684",
     "exception": false,
     "start_time": "2024-12-15T12:14:24.538570",
     "status": "completed"
    },
    "tags": []
   },
   "outputs": [
    {
     "name": "stdout",
     "output_type": "stream",
     "text": [
      "       ID                Name  Age  Gender Department    Salary Joining Date  \\\n",
      "3       4  Christine Williams   58  Female         IT  0.486337   2017-09-08   \n",
      "33     34    Mr. Brian Nelson   42  Female         IT  0.400100   2017-08-17   \n",
      "34     35            Lisa Fry   51  Female         IT  0.907997   2017-09-26   \n",
      "41     42      Charles Mccall   58   Other         IT  0.939709   2024-11-10   \n",
      "47     48        Jake Johnson   48   Other         IT  0.480446   2017-02-03   \n",
      "..    ...                 ...  ...     ...        ...       ...          ...   \n",
      "979   980    Crystal Espinoza   55  Female         IT  0.368137   2023-09-04   \n",
      "984   985        Jeffrey Hall   41   Other         IT  0.846453   2018-08-27   \n",
      "986   987     Melissa Bradley   39  Female         IT  0.952996   2015-07-05   \n",
      "998   999       Ashley Taylor   51  Female         IT  0.428930   2022-02-18   \n",
      "999  1000         Shawn Scott   45    Male         IT  0.670469   2022-07-31   \n",
      "\n",
      "     Performance Score  Experience   Status     Location  Bonus  \\\n",
      "3                  2.0          13  Retired       Remote  589.5   \n",
      "33                 1.0           4   Active       Remote  520.7   \n",
      "34                 4.0          17  Retired  Los Angeles  925.9   \n",
      "41                 5.0           8  Retired  Los Angeles  951.2   \n",
      "47                 3.0           2   Active  Los Angeles  584.8   \n",
      "..                 ...         ...      ...          ...    ...   \n",
      "979                2.0           5   Active       Remote  495.2   \n",
      "984                3.0          16  Retired  Los Angeles  876.8   \n",
      "986                1.0          13   Active       Remote  961.8   \n",
      "998                4.0           9  Retired  Los Angeles  543.7   \n",
      "999                2.0           4   Active       Remote  736.4   \n",
      "\n",
      "    Experience Level    Age Group  \n",
      "3             Senior       Senior  \n",
      "33               Mid  Middle-aged  \n",
      "34            Senior       Senior  \n",
      "41            Senior       Senior  \n",
      "47            Junior  Middle-aged  \n",
      "..               ...          ...  \n",
      "979              Mid       Senior  \n",
      "984           Senior  Middle-aged  \n",
      "986           Senior  Middle-aged  \n",
      "998           Senior       Senior  \n",
      "999              Mid  Middle-aged  \n",
      "\n",
      "[150 rows x 14 columns]\n"
     ]
    }
   ],
   "source": [
    "# Calculate the average age for IT department\n",
    "avg_age_it = df[df['Department'] == 'IT']['Age'].mean()\n",
    "\n",
    "# Identify rows where Age is above the average age in IT department\n",
    "it_above_avg_age = df[(df['Department'] == 'IT') & (df['Age'] > avg_age_it)]\n",
    "\n",
    "# Print the result\n",
    "print(it_above_avg_age)\n"
   ]
  },
  {
   "cell_type": "markdown",
   "id": "366996f6",
   "metadata": {
    "papermill": {
     "duration": 0.016874,
     "end_time": "2024-12-15T12:14:24.608663",
     "exception": false,
     "start_time": "2024-12-15T12:14:24.591789",
     "status": "completed"
    },
    "tags": []
   },
   "source": [
    "## **Step :27** *Identify rows with duplicate Name and Joining Date combinations, and remove duplicates*"
   ]
  },
  {
   "cell_type": "code",
   "execution_count": 29,
   "id": "33cb1c55",
   "metadata": {
    "execution": {
     "iopub.execute_input": "2024-12-15T12:14:24.643864Z",
     "iopub.status.busy": "2024-12-15T12:14:24.643486Z",
     "iopub.status.idle": "2024-12-15T12:14:24.657614Z",
     "shell.execute_reply": "2024-12-15T12:14:24.656326Z"
    },
    "papermill": {
     "duration": 0.034427,
     "end_time": "2024-12-15T12:14:24.659908",
     "exception": false,
     "start_time": "2024-12-15T12:14:24.625481",
     "status": "completed"
    },
    "tags": []
   },
   "outputs": [
    {
     "name": "stdout",
     "output_type": "stream",
     "text": [
      "   ID                Name  Age  Gender Department    Salary Joining Date  \\\n",
      "0   1        Cory Escobar   48  Female         HR  0.454500   2015-05-03   \n",
      "1   2     Timothy Sanchez   25   Other      Sales  0.280020   2020-11-09   \n",
      "2   3        Chad Nichols   57   Other      Sales  0.130735   2019-02-12   \n",
      "3   4  Christine Williams   58  Female         IT  0.486337   2017-09-08   \n",
      "4   5        Amber Harris   35   Other         IT  0.288543   2020-02-15   \n",
      "\n",
      "   Performance Score  Experience   Status  Location  Bonus Experience Level  \\\n",
      "0           2.000000          16   Active    Remote  564.1           Senior   \n",
      "1           2.000000          11  Retired    Remote  424.9           Senior   \n",
      "2           3.442786           2  Retired  New York  305.8           Junior   \n",
      "3           2.000000          13  Retired    Remote  589.5           Senior   \n",
      "4           5.000000          16  Retired  New York  431.7           Senior   \n",
      "\n",
      "     Age Group  \n",
      "0  Middle-aged  \n",
      "1        Young  \n",
      "2       Senior  \n",
      "3       Senior  \n",
      "4  Middle-aged  \n"
     ]
    }
   ],
   "source": [
    "# Remove duplicates based on Name and Joining Date\n",
    "df = df.drop_duplicates(subset=['Name', 'Joining Date'])\n",
    "\n",
    "# Print the first 5 rows to confirm the operation\n",
    "print(df.head())"
   ]
  },
  {
   "cell_type": "markdown",
   "id": "e8f6a4f6",
   "metadata": {
    "papermill": {
     "duration": 0.017213,
     "end_time": "2024-12-15T12:14:24.693715",
     "exception": false,
     "start_time": "2024-12-15T12:14:24.676502",
     "status": "completed"
    },
    "tags": []
   },
   "source": [
    "## **Step :28** *Remove rows where the Experience value is inconsistent with the Age (e.g., Experience > Age - 18)*"
   ]
  },
  {
   "cell_type": "code",
   "execution_count": 30,
   "id": "9c699ab4",
   "metadata": {
    "execution": {
     "iopub.execute_input": "2024-12-15T12:14:24.728816Z",
     "iopub.status.busy": "2024-12-15T12:14:24.728386Z",
     "iopub.status.idle": "2024-12-15T12:14:24.741886Z",
     "shell.execute_reply": "2024-12-15T12:14:24.740543Z"
    },
    "papermill": {
     "duration": 0.034006,
     "end_time": "2024-12-15T12:14:24.744495",
     "exception": false,
     "start_time": "2024-12-15T12:14:24.710489",
     "status": "completed"
    },
    "tags": []
   },
   "outputs": [
    {
     "name": "stdout",
     "output_type": "stream",
     "text": [
      "   ID                Name  Age  Gender Department    Salary Joining Date  \\\n",
      "0   1        Cory Escobar   48  Female         HR  0.454500   2015-05-03   \n",
      "2   3        Chad Nichols   57   Other      Sales  0.130735   2019-02-12   \n",
      "3   4  Christine Williams   58  Female         IT  0.486337   2017-09-08   \n",
      "4   5        Amber Harris   35   Other         IT  0.288543   2020-02-15   \n",
      "5   6         Ashley Howe   29  Female         HR  0.072199   2016-06-24   \n",
      "\n",
      "   Performance Score  Experience   Status  Location  Bonus Experience Level  \\\n",
      "0           2.000000          16   Active    Remote  564.1           Senior   \n",
      "2           3.442786           2  Retired  New York  305.8           Junior   \n",
      "3           2.000000          13  Retired    Remote  589.5           Senior   \n",
      "4           5.000000          16  Retired  New York  431.7           Senior   \n",
      "5           1.000000           6   Active    Remote  259.1              Mid   \n",
      "\n",
      "     Age Group  \n",
      "0  Middle-aged  \n",
      "2       Senior  \n",
      "3       Senior  \n",
      "4  Middle-aged  \n",
      "5        Young  \n"
     ]
    }
   ],
   "source": [
    "# Remove rows where Experience is inconsistent with Age (Experience > Age - 18)\n",
    "df = df[df['Experience'] <= df['Age'] - 18]\n",
    "\n",
    "# Print the first 5 rows to confirm the operation\n",
    "print(df.head())"
   ]
  },
  {
   "cell_type": "markdown",
   "id": "f498a159",
   "metadata": {
    "papermill": {
     "duration": 0.016766,
     "end_time": "2024-12-15T12:14:24.778088",
     "exception": false,
     "start_time": "2024-12-15T12:14:24.761322",
     "status": "completed"
    },
    "tags": []
   },
   "source": [
    "## **Step :29** *Sort the DataFrame by Salary in descending order*"
   ]
  },
  {
   "cell_type": "code",
   "execution_count": 31,
   "id": "b0d63f87",
   "metadata": {
    "execution": {
     "iopub.execute_input": "2024-12-15T12:14:24.813378Z",
     "iopub.status.busy": "2024-12-15T12:14:24.813016Z",
     "iopub.status.idle": "2024-12-15T12:14:24.826418Z",
     "shell.execute_reply": "2024-12-15T12:14:24.825261Z"
    },
    "papermill": {
     "duration": 0.033621,
     "end_time": "2024-12-15T12:14:24.828571",
     "exception": false,
     "start_time": "2024-12-15T12:14:24.794950",
     "status": "completed"
    },
    "tags": []
   },
   "outputs": [
    {
     "name": "stdout",
     "output_type": "stream",
     "text": [
      "      ID                Name  Age  Gender Department    Salary Joining Date  \\\n",
      "811  812        Jesse Miller   52    Male         HR  1.000000   2020-11-27   \n",
      "531  532  Jeffrey Williamson   54   Other         IT  0.999373   2015-12-08   \n",
      "937  938       Gary Mitchell   52  Female      Sales  0.996240   2016-09-22   \n",
      "908  909       Sara Martinez   34   Other         HR  0.994736   2024-02-18   \n",
      "120  121       David Hampton   39  Female         HR  0.993482   2024-07-06   \n",
      "\n",
      "     Performance Score  Experience   Status     Location  Bonus  \\\n",
      "811           3.442786          12   Active      Chicago  999.3   \n",
      "531           5.000000          16  Retired      Chicago  998.8   \n",
      "937           5.000000          20  Retired  Los Angeles  996.3   \n",
      "908           3.442786           6  Retired     New York  995.1   \n",
      "120           3.000000          15  Retired     New York  994.1   \n",
      "\n",
      "    Experience Level    Age Group  \n",
      "811           Senior       Senior  \n",
      "531           Senior       Senior  \n",
      "937           Senior       Senior  \n",
      "908              Mid  Middle-aged  \n",
      "120           Senior  Middle-aged  \n"
     ]
    }
   ],
   "source": [
    "# Sort the DataFrame by Salary in descending order\n",
    "df = df.sort_values(by='Salary', ascending=False)\n",
    "\n",
    "# Print the first 5 rows to confirm the sorting\n",
    "print(df.head())"
   ]
  },
  {
   "cell_type": "markdown",
   "id": "ebaac8ce",
   "metadata": {
    "papermill": {
     "duration": 0.016892,
     "end_time": "2024-12-15T12:14:24.862374",
     "exception": false,
     "start_time": "2024-12-15T12:14:24.845482",
     "status": "completed"
    },
    "tags": []
   },
   "source": [
    "## **Step :30** *Sort the DataFrame by Department and then by Joining Date in ascending order*"
   ]
  },
  {
   "cell_type": "code",
   "execution_count": 32,
   "id": "86fbe8c3",
   "metadata": {
    "execution": {
     "iopub.execute_input": "2024-12-15T12:14:24.897659Z",
     "iopub.status.busy": "2024-12-15T12:14:24.897253Z",
     "iopub.status.idle": "2024-12-15T12:14:24.911690Z",
     "shell.execute_reply": "2024-12-15T12:14:24.910388Z"
    },
    "papermill": {
     "duration": 0.034883,
     "end_time": "2024-12-15T12:14:24.914032",
     "exception": false,
     "start_time": "2024-12-15T12:14:24.879149",
     "status": "completed"
    },
    "tags": []
   },
   "outputs": [
    {
     "name": "stdout",
     "output_type": "stream",
     "text": [
      "      ID               Name  Age  Gender Department    Salary Joining Date  \\\n",
      "514  515  Taylor Williamson   48    Male         HR  0.912259   2015-03-10   \n",
      "11    12  Rodney Richardson   60   Other         HR  0.613312   2015-03-14   \n",
      "7      8       Amanda Baker   52   Other         HR  0.535222   2015-04-01   \n",
      "677  678    Michelle Durham   35    Male         HR  0.486964   2015-04-25   \n",
      "0      1       Cory Escobar   48  Female         HR  0.454500   2015-05-03   \n",
      "\n",
      "     Performance Score  Experience   Status Location  Bonus Experience Level  \\\n",
      "514           3.442786          17  Retired  Chicago  929.3           Senior   \n",
      "11            4.000000          19   Active  Chicago  690.8           Senior   \n",
      "7             3.442786           8  Retired  Chicago  628.5           Senior   \n",
      "677           3.442786          12   Active  Chicago  590.0           Senior   \n",
      "0             2.000000          16   Active   Remote  564.1           Senior   \n",
      "\n",
      "       Age Group  \n",
      "514  Middle-aged  \n",
      "11        Senior  \n",
      "7         Senior  \n",
      "677  Middle-aged  \n",
      "0    Middle-aged  \n"
     ]
    }
   ],
   "source": [
    "# Sort the DataFrame by Department and Joining Date in ascending order\n",
    "df = df.sort_values(by=['Department', 'Joining Date'], ascending=[True, True])\n",
    "\n",
    "# Print the first 5 rows to confirm the sorting\n",
    "print(df.head())"
   ]
  },
  {
   "cell_type": "markdown",
   "id": "c337a369",
   "metadata": {
    "papermill": {
     "duration": 0.016609,
     "end_time": "2024-12-15T12:14:24.947605",
     "exception": false,
     "start_time": "2024-12-15T12:14:24.930996",
     "status": "completed"
    },
    "tags": []
   },
   "source": [
    "## **Step :31** *Rank all employees by Salary within their Department and add the rank as a new column*"
   ]
  },
  {
   "cell_type": "code",
   "execution_count": 33,
   "id": "5ba8a60d",
   "metadata": {
    "execution": {
     "iopub.execute_input": "2024-12-15T12:14:24.983148Z",
     "iopub.status.busy": "2024-12-15T12:14:24.982774Z",
     "iopub.status.idle": "2024-12-15T12:14:25.001170Z",
     "shell.execute_reply": "2024-12-15T12:14:24.999655Z"
    },
    "papermill": {
     "duration": 0.039234,
     "end_time": "2024-12-15T12:14:25.003478",
     "exception": false,
     "start_time": "2024-12-15T12:14:24.964244",
     "status": "completed"
    },
    "tags": []
   },
   "outputs": [
    {
     "name": "stdout",
     "output_type": "stream",
     "text": [
      "      ID               Name Department    Salary  Salary Rank\n",
      "514  515  Taylor Williamson         HR  0.912259         15.0\n",
      "11    12  Rodney Richardson         HR  0.613312         81.0\n",
      "7      8       Amanda Baker         HR  0.535222        103.0\n",
      "677  678    Michelle Durham         HR  0.486964        110.0\n",
      "0      1       Cory Escobar         HR  0.454500        114.0\n"
     ]
    }
   ],
   "source": [
    "# Rank employees by Salary within each Department\n",
    "df['Salary Rank'] = df.groupby('Department')['Salary'].rank(method='min', ascending=False)\n",
    "\n",
    "# Print the updated DataFrame\n",
    "print(df[['ID', 'Name', 'Department', 'Salary', 'Salary Rank']].head())"
   ]
  },
  {
   "cell_type": "markdown",
   "id": "2c36a66a",
   "metadata": {
    "papermill": {
     "duration": 0.016956,
     "end_time": "2024-12-15T12:14:25.037570",
     "exception": false,
     "start_time": "2024-12-15T12:14:25.020614",
     "status": "completed"
    },
    "tags": []
   },
   "source": [
    "## **Step :32** *Sort the dataset by Experience in descending order, but break ties using Performance Score in ascending order*"
   ]
  },
  {
   "cell_type": "code",
   "execution_count": 34,
   "id": "79ee87f5",
   "metadata": {
    "execution": {
     "iopub.execute_input": "2024-12-15T12:14:25.073654Z",
     "iopub.status.busy": "2024-12-15T12:14:25.073233Z",
     "iopub.status.idle": "2024-12-15T12:14:25.085323Z",
     "shell.execute_reply": "2024-12-15T12:14:25.083975Z"
    },
    "papermill": {
     "duration": 0.032813,
     "end_time": "2024-12-15T12:14:25.087620",
     "exception": false,
     "start_time": "2024-12-15T12:14:25.054807",
     "status": "completed"
    },
    "tags": []
   },
   "outputs": [
    {
     "name": "stdout",
     "output_type": "stream",
     "text": [
      "      ID            Name  Experience  Performance Score\n",
      "538  539  Brandon Church          20                1.0\n",
      "355  356  Laura Castillo          20                1.0\n",
      "402  403   Briana Martin          20                1.0\n",
      "828  829  Michael Snyder          20                1.0\n",
      "529  530      Katie Vega          20                2.0\n"
     ]
    }
   ],
   "source": [
    "# Sort by Experience descending, then by Performance Score ascending\n",
    "df_sorted = df.sort_values(by=['Experience', 'Performance Score'], ascending=[False, True])\n",
    "\n",
    "# Print the sorted DataFrame\n",
    "print(df_sorted[['ID', 'Name', 'Experience', 'Performance Score']].head())"
   ]
  },
  {
   "cell_type": "markdown",
   "id": "34cb8059",
   "metadata": {
    "papermill": {
     "duration": 0.01701,
     "end_time": "2024-12-15T12:14:25.121839",
     "exception": false,
     "start_time": "2024-12-15T12:14:25.104829",
     "status": "completed"
    },
    "tags": []
   },
   "source": [
    "## **Step :33** *Create a new DataFrame containing only employees in \"HR\" with a Salary above 5000*"
   ]
  },
  {
   "cell_type": "code",
   "execution_count": 35,
   "id": "9a7518f6",
   "metadata": {
    "execution": {
     "iopub.execute_input": "2024-12-15T12:14:25.160637Z",
     "iopub.status.busy": "2024-12-15T12:14:25.160221Z",
     "iopub.status.idle": "2024-12-15T12:14:25.168733Z",
     "shell.execute_reply": "2024-12-15T12:14:25.167481Z"
    },
    "papermill": {
     "duration": 0.031397,
     "end_time": "2024-12-15T12:14:25.170956",
     "exception": false,
     "start_time": "2024-12-15T12:14:25.139559",
     "status": "completed"
    },
    "tags": []
   },
   "outputs": [
    {
     "name": "stdout",
     "output_type": "stream",
     "text": [
      "Empty DataFrame\n",
      "Columns: [ID, Name, Department, Salary]\n",
      "Index: []\n"
     ]
    }
   ],
   "source": [
    "# Filter for HR employees with Salary > 5000\n",
    "hr_above_5000 = df[(df['Department'] == 'HR') & (df['Salary'] > 5000)]\n",
    "\n",
    "# Print the filtered DataFrame\n",
    "print(hr_above_5000[['ID', 'Name', 'Department', 'Salary']].head())"
   ]
  },
  {
   "cell_type": "markdown",
   "id": "208d68f8",
   "metadata": {
    "papermill": {
     "duration": 0.017038,
     "end_time": "2024-12-15T12:14:25.205671",
     "exception": false,
     "start_time": "2024-12-15T12:14:25.188633",
     "status": "completed"
    },
    "tags": []
   },
   "source": [
    "## **Step :34** *Filter out all rows where the Location is \"Chicago\"*"
   ]
  },
  {
   "cell_type": "code",
   "execution_count": 36,
   "id": "b1339d1e",
   "metadata": {
    "execution": {
     "iopub.execute_input": "2024-12-15T12:14:25.242460Z",
     "iopub.status.busy": "2024-12-15T12:14:25.241273Z",
     "iopub.status.idle": "2024-12-15T12:14:25.253946Z",
     "shell.execute_reply": "2024-12-15T12:14:25.252541Z"
    },
    "papermill": {
     "duration": 0.033411,
     "end_time": "2024-12-15T12:14:25.256272",
     "exception": false,
     "start_time": "2024-12-15T12:14:25.222861",
     "status": "completed"
    },
    "tags": []
   },
   "outputs": [
    {
     "name": "stdout",
     "output_type": "stream",
     "text": [
      "      ID           Name  Age  Gender Department    Salary Joining Date  \\\n",
      "0      1   Cory Escobar   48  Female         HR  0.454500   2015-05-03   \n",
      "728  729  Linda Hawkins   60   Other         HR  0.314490   2015-06-05   \n",
      "330  331      Juan Dean   39    Male         HR  0.603535   2015-06-28   \n",
      "417  418   Angel Fuller   39    Male         HR  0.208323   2015-08-04   \n",
      "367  368      Adam Lane   20   Other         HR  0.685635   2015-09-16   \n",
      "\n",
      "     Performance Score  Experience   Status  Location  Bonus Experience Level  \\\n",
      "0             2.000000          16   Active    Remote  564.1           Senior   \n",
      "728           3.000000           3  Retired  New York  452.4              Mid   \n",
      "330           4.000000          20  Retired  New York  683.0           Senior   \n",
      "417           3.442786           3   Active  New York  367.7              Mid   \n",
      "367           1.000000           2   Active    Remote  748.5           Junior   \n",
      "\n",
      "       Age Group  Salary Rank  \n",
      "0    Middle-aged        114.0  \n",
      "728       Senior        141.0  \n",
      "330  Middle-aged         84.0  \n",
      "417  Middle-aged        157.0  \n",
      "367        Young         61.0  \n"
     ]
    }
   ],
   "source": [
    "# Remove rows where Location is \"Chicago\"\n",
    "df_no_chicago = df[df['Location'] != 'Chicago']\n",
    "\n",
    "# Print the DataFrame after removal\n",
    "print(df_no_chicago.head())"
   ]
  },
  {
   "cell_type": "markdown",
   "id": "d1c75a79",
   "metadata": {
    "papermill": {
     "duration": 0.017742,
     "end_time": "2024-12-15T12:14:25.291706",
     "exception": false,
     "start_time": "2024-12-15T12:14:25.273964",
     "status": "completed"
    },
    "tags": []
   },
   "source": [
    "## **Step :35** *Delete all rows where the Performance Score is below 2*"
   ]
  },
  {
   "cell_type": "code",
   "execution_count": 37,
   "id": "f2519b81",
   "metadata": {
    "execution": {
     "iopub.execute_input": "2024-12-15T12:14:25.328409Z",
     "iopub.status.busy": "2024-12-15T12:14:25.327998Z",
     "iopub.status.idle": "2024-12-15T12:14:25.340263Z",
     "shell.execute_reply": "2024-12-15T12:14:25.339019Z"
    },
    "papermill": {
     "duration": 0.033506,
     "end_time": "2024-12-15T12:14:25.342691",
     "exception": false,
     "start_time": "2024-12-15T12:14:25.309185",
     "status": "completed"
    },
    "tags": []
   },
   "outputs": [
    {
     "name": "stdout",
     "output_type": "stream",
     "text": [
      "      ID               Name  Age  Gender Department    Salary Joining Date  \\\n",
      "514  515  Taylor Williamson   48    Male         HR  0.912259   2015-03-10   \n",
      "11    12  Rodney Richardson   60   Other         HR  0.613312   2015-03-14   \n",
      "7      8       Amanda Baker   52   Other         HR  0.535222   2015-04-01   \n",
      "677  678    Michelle Durham   35    Male         HR  0.486964   2015-04-25   \n",
      "0      1       Cory Escobar   48  Female         HR  0.454500   2015-05-03   \n",
      "\n",
      "     Performance Score  Experience   Status Location  Bonus Experience Level  \\\n",
      "514           3.442786          17  Retired  Chicago  929.3           Senior   \n",
      "11            4.000000          19   Active  Chicago  690.8           Senior   \n",
      "7             3.442786           8  Retired  Chicago  628.5           Senior   \n",
      "677           3.442786          12   Active  Chicago  590.0           Senior   \n",
      "0             2.000000          16   Active   Remote  564.1           Senior   \n",
      "\n",
      "       Age Group  Salary Rank  \n",
      "514  Middle-aged         15.0  \n",
      "11        Senior         81.0  \n",
      "7         Senior        103.0  \n",
      "677  Middle-aged        110.0  \n",
      "0    Middle-aged        114.0  \n"
     ]
    }
   ],
   "source": [
    "# Remove rows where Performance Score is below 2\n",
    "df_high_performance = df[df['Performance Score'] >= 2]\n",
    "\n",
    "# Print the updated DataFrame\n",
    "print(df_high_performance.head())"
   ]
  },
  {
   "cell_type": "markdown",
   "id": "0666e696",
   "metadata": {
    "papermill": {
     "duration": 0.017246,
     "end_time": "2024-12-15T12:14:25.377486",
     "exception": false,
     "start_time": "2024-12-15T12:14:25.360240",
     "status": "completed"
    },
    "tags": []
   },
   "source": [
    "## **Step :36** *Find the average Salary for each Department*"
   ]
  },
  {
   "cell_type": "code",
   "execution_count": 38,
   "id": "c4d8f7f2",
   "metadata": {
    "execution": {
     "iopub.execute_input": "2024-12-15T12:14:25.413987Z",
     "iopub.status.busy": "2024-12-15T12:14:25.413537Z",
     "iopub.status.idle": "2024-12-15T12:14:25.422480Z",
     "shell.execute_reply": "2024-12-15T12:14:25.421466Z"
    },
    "papermill": {
     "duration": 0.030591,
     "end_time": "2024-12-15T12:14:25.425369",
     "exception": false,
     "start_time": "2024-12-15T12:14:25.394778",
     "status": "completed"
    },
    "tags": []
   },
   "outputs": [
    {
     "name": "stdout",
     "output_type": "stream",
     "text": [
      "Department\n",
      "HR       0.493042\n",
      "IT       0.491439\n",
      "Sales    0.485476\n",
      "Name: Salary, dtype: float64\n"
     ]
    }
   ],
   "source": [
    "# Calculate the average Salary for each Department\n",
    "avg_salary_by_dept = df.groupby('Department')['Salary'].mean()\n",
    "\n",
    "# Print the average salary by department\n",
    "print(avg_salary_by_dept)"
   ]
  },
  {
   "cell_type": "markdown",
   "id": "a73723f6",
   "metadata": {
    "papermill": {
     "duration": 0.017499,
     "end_time": "2024-12-15T12:14:25.460464",
     "exception": false,
     "start_time": "2024-12-15T12:14:25.442965",
     "status": "completed"
    },
    "tags": []
   },
   "source": [
    "## **Step :37** *Calculate the total Salary of all employees grouped by Status*"
   ]
  },
  {
   "cell_type": "code",
   "execution_count": 39,
   "id": "d470bf96",
   "metadata": {
    "execution": {
     "iopub.execute_input": "2024-12-15T12:14:25.497129Z",
     "iopub.status.busy": "2024-12-15T12:14:25.496734Z",
     "iopub.status.idle": "2024-12-15T12:14:25.508046Z",
     "shell.execute_reply": "2024-12-15T12:14:25.506943Z"
    },
    "papermill": {
     "duration": 0.032229,
     "end_time": "2024-12-15T12:14:25.510367",
     "exception": false,
     "start_time": "2024-12-15T12:14:25.478138",
     "status": "completed"
    },
    "tags": []
   },
   "outputs": [
    {
     "name": "stdout",
     "output_type": "stream",
     "text": [
      "Status\n",
      "Active     156.175483\n",
      "Retired    166.678867\n",
      "Name: Salary, dtype: float64\n"
     ]
    }
   ],
   "source": [
    "# Calculate the total Salary grouped by Status\n",
    "total_salary_by_status = df.groupby('Status')['Salary'].sum()\n",
    "\n",
    "# Print the total salary by status\n",
    "print(total_salary_by_status)"
   ]
  },
  {
   "cell_type": "markdown",
   "id": "0389bb31",
   "metadata": {
    "papermill": {
     "duration": 0.017496,
     "end_time": "2024-12-15T12:14:25.545489",
     "exception": false,
     "start_time": "2024-12-15T12:14:25.527993",
     "status": "completed"
    },
    "tags": []
   },
   "source": [
    "## **Step :38** *Find the maximum Performance Score for employees in each Location*"
   ]
  },
  {
   "cell_type": "code",
   "execution_count": 40,
   "id": "df09ddc9",
   "metadata": {
    "execution": {
     "iopub.execute_input": "2024-12-15T12:14:25.582207Z",
     "iopub.status.busy": "2024-12-15T12:14:25.581788Z",
     "iopub.status.idle": "2024-12-15T12:14:25.594138Z",
     "shell.execute_reply": "2024-12-15T12:14:25.592886Z"
    },
    "papermill": {
     "duration": 0.03351,
     "end_time": "2024-12-15T12:14:25.596362",
     "exception": false,
     "start_time": "2024-12-15T12:14:25.562852",
     "status": "completed"
    },
    "tags": []
   },
   "outputs": [
    {
     "name": "stdout",
     "output_type": "stream",
     "text": [
      "Location\n",
      "Chicago        5.0\n",
      "Los Angeles    5.0\n",
      "New York       5.0\n",
      "Remote         2.0\n",
      "Name: Performance Score, dtype: float64\n"
     ]
    }
   ],
   "source": [
    "# Find the maximum Performance Score for each Location\n",
    "max_performance_by_location = df.groupby('Location')['Performance Score'].max()\n",
    "\n",
    "# Print the maximum performance score by location\n",
    "print(max_performance_by_location)\n"
   ]
  },
  {
   "cell_type": "markdown",
   "id": "ae9af66a",
   "metadata": {
    "papermill": {
     "duration": 0.017334,
     "end_time": "2024-12-15T12:14:25.631354",
     "exception": false,
     "start_time": "2024-12-15T12:14:25.614020",
     "status": "completed"
    },
    "tags": []
   },
   "source": [
    "## **Step 39:** *Calculate the total Salary paid to employees who joined in each year*"
   ]
  },
  {
   "cell_type": "code",
   "execution_count": 41,
   "id": "76ce75ef",
   "metadata": {
    "execution": {
     "iopub.execute_input": "2024-12-15T12:14:25.668148Z",
     "iopub.status.busy": "2024-12-15T12:14:25.667730Z",
     "iopub.status.idle": "2024-12-15T12:14:25.682360Z",
     "shell.execute_reply": "2024-12-15T12:14:25.681161Z"
    },
    "papermill": {
     "duration": 0.036171,
     "end_time": "2024-12-15T12:14:25.684832",
     "exception": false,
     "start_time": "2024-12-15T12:14:25.648661",
     "status": "completed"
    },
    "tags": []
   },
   "outputs": [
    {
     "name": "stdout",
     "output_type": "stream",
     "text": [
      "Join Year\n",
      "2014     1.391953\n",
      "2015    24.429055\n",
      "2016    31.497117\n",
      "2017    30.965405\n",
      "2018    33.857232\n",
      "2019    30.577964\n",
      "2020    30.566683\n",
      "2021    38.256079\n",
      "2022    29.696415\n",
      "2023    38.964903\n",
      "2024    32.651542\n",
      "Name: Salary, dtype: float64\n"
     ]
    }
   ],
   "source": [
    "# Convert 'Joining Date' to datetime format (if it's not already)\n",
    "df['Joining Date'] = pd.to_datetime(df['Joining Date'])\n",
    "\n",
    "# Extract the year from the 'Joining Date'\n",
    "df['Join Year'] = df['Joining Date'].dt.year\n",
    "\n",
    "# Calculate the total Salary by Join Year\n",
    "total_salary_by_year = df.groupby('Join Year')['Salary'].sum()\n",
    "\n",
    "# Print the total salary by join year\n",
    "print(total_salary_by_year)"
   ]
  },
  {
   "cell_type": "markdown",
   "id": "42dc3d81",
   "metadata": {
    "papermill": {
     "duration": 0.017309,
     "end_time": "2024-12-15T12:14:25.719770",
     "exception": false,
     "start_time": "2024-12-15T12:14:25.702461",
     "status": "completed"
    },
    "tags": []
   },
   "source": [
    "## **Step :40** *Find the department with the highest average Performance Score*"
   ]
  },
  {
   "cell_type": "code",
   "execution_count": 42,
   "id": "27c7c88b",
   "metadata": {
    "execution": {
     "iopub.execute_input": "2024-12-15T12:14:25.756320Z",
     "iopub.status.busy": "2024-12-15T12:14:25.755954Z",
     "iopub.status.idle": "2024-12-15T12:14:25.762857Z",
     "shell.execute_reply": "2024-12-15T12:14:25.761794Z"
    },
    "papermill": {
     "duration": 0.02816,
     "end_time": "2024-12-15T12:14:25.765330",
     "exception": false,
     "start_time": "2024-12-15T12:14:25.737170",
     "status": "completed"
    },
    "tags": []
   },
   "outputs": [
    {
     "name": "stdout",
     "output_type": "stream",
     "text": [
      "IT\n"
     ]
    }
   ],
   "source": [
    "# Find the department with the highest average Performance Score\n",
    "highest_avg_performance_dept = df.groupby('Department')['Performance Score'].mean().idxmax()\n",
    "\n",
    "# Print the department with the highest average performance score\n",
    "print(highest_avg_performance_dept)"
   ]
  },
  {
   "cell_type": "markdown",
   "id": "07383856",
   "metadata": {
    "papermill": {
     "duration": 0.017154,
     "end_time": "2024-12-15T12:14:25.800347",
     "exception": false,
     "start_time": "2024-12-15T12:14:25.783193",
     "status": "completed"
    },
    "tags": []
   },
   "source": [
    "## **Step :41** *Count the number of employees in each Location grouped by their Status*"
   ]
  },
  {
   "cell_type": "code",
   "execution_count": 43,
   "id": "d7586fd4",
   "metadata": {
    "execution": {
     "iopub.execute_input": "2024-12-15T12:14:25.836808Z",
     "iopub.status.busy": "2024-12-15T12:14:25.836394Z",
     "iopub.status.idle": "2024-12-15T12:14:25.846337Z",
     "shell.execute_reply": "2024-12-15T12:14:25.845086Z"
    },
    "papermill": {
     "duration": 0.030669,
     "end_time": "2024-12-15T12:14:25.848467",
     "exception": false,
     "start_time": "2024-12-15T12:14:25.817798",
     "status": "completed"
    },
    "tags": []
   },
   "outputs": [
    {
     "name": "stdout",
     "output_type": "stream",
     "text": [
      "Location     Status \n",
      "Chicago      Active     85\n",
      "             Retired    82\n",
      "Los Angeles  Active     85\n",
      "             Retired    86\n",
      "New York     Active     78\n",
      "             Retired    87\n",
      "Remote       Active     76\n",
      "             Retired    80\n",
      "dtype: int64\n"
     ]
    }
   ],
   "source": [
    "employee_count_by_location = df.groupby(['Location', 'Status']).size()\n",
    "print(employee_count_by_location)"
   ]
  },
  {
   "cell_type": "markdown",
   "id": "af96979c",
   "metadata": {
    "papermill": {
     "duration": 0.018158,
     "end_time": "2024-12-15T12:14:25.884540",
     "exception": false,
     "start_time": "2024-12-15T12:14:25.866382",
     "status": "completed"
    },
    "tags": []
   },
   "source": [
    "## **Step 42:** *Group employees by Status and calculate the sum, mean, and standard deviation of their Salary*"
   ]
  },
  {
   "cell_type": "code",
   "execution_count": 44,
   "id": "bd751893",
   "metadata": {
    "execution": {
     "iopub.execute_input": "2024-12-15T12:14:25.922916Z",
     "iopub.status.busy": "2024-12-15T12:14:25.922537Z",
     "iopub.status.idle": "2024-12-15T12:14:25.932259Z",
     "shell.execute_reply": "2024-12-15T12:14:25.931078Z"
    },
    "papermill": {
     "duration": 0.031945,
     "end_time": "2024-12-15T12:14:25.934728",
     "exception": false,
     "start_time": "2024-12-15T12:14:25.902783",
     "status": "completed"
    },
    "tags": []
   },
   "outputs": [
    {
     "name": "stdout",
     "output_type": "stream",
     "text": [
      "                sum      mean       std\n",
      "Status                                 \n",
      "Active   156.175483  0.482023  0.294442\n",
      "Retired  166.678867  0.497549  0.292181\n"
     ]
    }
   ],
   "source": [
    "# Group by 'Status' and calculate the sum, mean, and standard deviation of 'Salary'\n",
    "salary_stats_by_status = df.groupby('Status')['Salary'].agg(['sum', 'mean', 'std'])\n",
    "\n",
    "# Print the result\n",
    "print(salary_stats_by_status)"
   ]
  },
  {
   "cell_type": "markdown",
   "id": "5ed81254",
   "metadata": {
    "papermill": {
     "duration": 0.017859,
     "end_time": "2024-12-15T12:14:25.970736",
     "exception": false,
     "start_time": "2024-12-15T12:14:25.952877",
     "status": "completed"
    },
    "tags": []
   },
   "source": [
    "## **Step :43** *Use the apply() method to create a new column Monthly Salary by dividing the Salary by 12*"
   ]
  },
  {
   "cell_type": "code",
   "execution_count": 45,
   "id": "d6a7eb37",
   "metadata": {
    "execution": {
     "iopub.execute_input": "2024-12-15T12:14:26.008478Z",
     "iopub.status.busy": "2024-12-15T12:14:26.008040Z",
     "iopub.status.idle": "2024-12-15T12:14:26.019145Z",
     "shell.execute_reply": "2024-12-15T12:14:26.017961Z"
    },
    "papermill": {
     "duration": 0.032685,
     "end_time": "2024-12-15T12:14:26.021340",
     "exception": false,
     "start_time": "2024-12-15T12:14:25.988655",
     "status": "completed"
    },
    "tags": []
   },
   "outputs": [
    {
     "name": "stdout",
     "output_type": "stream",
     "text": [
      "      ID               Name    Salary  Monthly Salary\n",
      "514  515  Taylor Williamson  0.912259        0.076022\n",
      "11    12  Rodney Richardson  0.613312        0.051109\n",
      "7      8       Amanda Baker  0.535222        0.044602\n",
      "677  678    Michelle Durham  0.486964        0.040580\n",
      "0      1       Cory Escobar  0.454500        0.037875\n"
     ]
    }
   ],
   "source": [
    "# Create a new column Monthly Salary by dividing Salary by 12\n",
    "df['Monthly Salary'] = df['Salary'].apply(lambda x: x / 12)\n",
    "\n",
    "# Print the updated DataFrame with Monthly Salary\n",
    "print(df[['ID', 'Name', 'Salary', 'Monthly Salary']].head())"
   ]
  },
  {
   "cell_type": "markdown",
   "id": "1e74766e",
   "metadata": {
    "papermill": {
     "duration": 0.017641,
     "end_time": "2024-12-15T12:14:26.057121",
     "exception": false,
     "start_time": "2024-12-15T12:14:26.039480",
     "status": "completed"
    },
    "tags": []
   },
   "source": [
    "## **Step :44** *Use the applymap() method to convert all string values in the DataFrame to uppercase*"
   ]
  },
  {
   "cell_type": "code",
   "execution_count": 46,
   "id": "cc7e8ba7",
   "metadata": {
    "execution": {
     "iopub.execute_input": "2024-12-15T12:14:26.094794Z",
     "iopub.status.busy": "2024-12-15T12:14:26.094307Z",
     "iopub.status.idle": "2024-12-15T12:14:26.117704Z",
     "shell.execute_reply": "2024-12-15T12:14:26.115963Z"
    },
    "papermill": {
     "duration": 0.045587,
     "end_time": "2024-12-15T12:14:26.120346",
     "exception": false,
     "start_time": "2024-12-15T12:14:26.074759",
     "status": "completed"
    },
    "tags": []
   },
   "outputs": [
    {
     "name": "stdout",
     "output_type": "stream",
     "text": [
      "      ID               Name  Age  Gender Department    Salary Joining Date  \\\n",
      "514  515  TAYLOR WILLIAMSON   48    MALE         HR  0.912259   2015-03-10   \n",
      "11    12  RODNEY RICHARDSON   60   OTHER         HR  0.613312   2015-03-14   \n",
      "7      8       AMANDA BAKER   52   OTHER         HR  0.535222   2015-04-01   \n",
      "677  678    MICHELLE DURHAM   35    MALE         HR  0.486964   2015-04-25   \n",
      "0      1       CORY ESCOBAR   48  FEMALE         HR  0.454500   2015-05-03   \n",
      "\n",
      "     Performance Score  Experience   Status Location  Bonus Experience Level  \\\n",
      "514           3.442786          17  RETIRED  CHICAGO  929.3           SENIOR   \n",
      "11            4.000000          19   ACTIVE  CHICAGO  690.8           SENIOR   \n",
      "7             3.442786           8  RETIRED  CHICAGO  628.5           SENIOR   \n",
      "677           3.442786          12   ACTIVE  CHICAGO  590.0           SENIOR   \n",
      "0             2.000000          16   ACTIVE   REMOTE  564.1           SENIOR   \n",
      "\n",
      "       Age Group  Salary Rank  Join Year  Monthly Salary  \n",
      "514  MIDDLE-AGED         15.0       2015        0.076022  \n",
      "11        SENIOR         81.0       2015        0.051109  \n",
      "7         SENIOR        103.0       2015        0.044602  \n",
      "677  MIDDLE-AGED        110.0       2015        0.040580  \n",
      "0    MIDDLE-AGED        114.0       2015        0.037875  \n"
     ]
    }
   ],
   "source": [
    "# Apply the transformation using applymap()\n",
    "df_upper = df.applymap(lambda x: x.upper() if isinstance(x, str) else x)\n",
    "\n",
    "# Print the DataFrame with uppercase string values\n",
    "print(df_upper.head())"
   ]
  },
  {
   "cell_type": "markdown",
   "id": "4c8fb910",
   "metadata": {
    "papermill": {
     "duration": 0.02038,
     "end_time": "2024-12-15T12:14:26.159582",
     "exception": false,
     "start_time": "2024-12-15T12:14:26.139202",
     "status": "completed"
    },
    "tags": []
   },
   "source": [
    "## **Step :45** *Create a second dataset containing Department and Budget. Perform an inner join with the original dataset*"
   ]
  },
  {
   "cell_type": "code",
   "execution_count": 47,
   "id": "4701b8dd",
   "metadata": {
    "execution": {
     "iopub.execute_input": "2024-12-15T12:14:26.197607Z",
     "iopub.status.busy": "2024-12-15T12:14:26.197158Z",
     "iopub.status.idle": "2024-12-15T12:14:26.212948Z",
     "shell.execute_reply": "2024-12-15T12:14:26.211809Z"
    },
    "papermill": {
     "duration": 0.037348,
     "end_time": "2024-12-15T12:14:26.215154",
     "exception": false,
     "start_time": "2024-12-15T12:14:26.177806",
     "status": "completed"
    },
    "tags": []
   },
   "outputs": [
    {
     "name": "stdout",
     "output_type": "stream",
     "text": [
      "    ID               Name Department  Budget\n",
      "0  515  Taylor Williamson         HR  500000\n",
      "1   12  Rodney Richardson         HR  500000\n",
      "2    8       Amanda Baker         HR  500000\n",
      "3  678    Michelle Durham         HR  500000\n",
      "4    1       Cory Escobar         HR  500000\n"
     ]
    }
   ],
   "source": [
    "# Create a second dataset with Department and Budget\n",
    "budget_data = pd.DataFrame({\n",
    "    'Department': ['HR', 'IT', 'Finance', 'Sales'],\n",
    "    'Budget': [500000, 1000000, 700000, 300000]\n",
    "})\n",
    "\n",
    "# Perform an inner join with the original dataset on 'Department'\n",
    "df_with_budget = pd.merge(df, budget_data, on='Department', how='inner')\n",
    "\n",
    "# Print the resulting DataFrame with the Budget column\n",
    "print(df_with_budget[['ID', 'Name', 'Department', 'Budget']].head())"
   ]
  },
  {
   "cell_type": "markdown",
   "id": "9c3c60b5",
   "metadata": {
    "papermill": {
     "duration": 0.017965,
     "end_time": "2024-12-15T12:14:26.251215",
     "exception": false,
     "start_time": "2024-12-15T12:14:26.233250",
     "status": "completed"
    },
    "tags": []
   },
   "source": [
    "## **Step :46** *Merge the dataset with another dataset that includes additional information about employee ID and their recent Projects*"
   ]
  },
  {
   "cell_type": "code",
   "execution_count": 48,
   "id": "5b2cc11e",
   "metadata": {
    "execution": {
     "iopub.execute_input": "2024-12-15T12:14:26.290015Z",
     "iopub.status.busy": "2024-12-15T12:14:26.289602Z",
     "iopub.status.idle": "2024-12-15T12:14:26.302908Z",
     "shell.execute_reply": "2024-12-15T12:14:26.301711Z"
    },
    "papermill": {
     "duration": 0.035874,
     "end_time": "2024-12-15T12:14:26.305408",
     "exception": false,
     "start_time": "2024-12-15T12:14:26.269534",
     "status": "completed"
    },
    "tags": []
   },
   "outputs": [
    {
     "name": "stdout",
     "output_type": "stream",
     "text": [
      "              Name Recent Projects\n",
      "0  Jennifer Hansen       Project B\n",
      "1      Jose Henson       Project D\n",
      "2   James Saunders       Project C\n",
      "3    Bryan Navarro       Project A\n"
     ]
    }
   ],
   "source": [
    "# Create a dataset with 'ID' and 'Recent Projects'\n",
    "recent_projects = pd.DataFrame({\n",
    "    'ID': [101, 102, 103, 104],\n",
    "    'Recent Projects': ['Project A', 'Project B', 'Project C', 'Project D']\n",
    "})\n",
    "\n",
    "# Merge with the original dataset based on 'ID'\n",
    "df_merged_projects = pd.merge(df, recent_projects, on='ID', how='inner')\n",
    "\n",
    "# Print the result\n",
    "print(df_merged_projects[['Name', 'Recent Projects']].head())"
   ]
  },
  {
   "cell_type": "markdown",
   "id": "acb1e09b",
   "metadata": {
    "papermill": {
     "duration": 0.017888,
     "end_time": "2024-12-15T12:14:26.341910",
     "exception": false,
     "start_time": "2024-12-15T12:14:26.324022",
     "status": "completed"
    },
    "tags": []
   },
   "source": [
    "## **Step :47** *Perform a left join with a dataset containing Department and Team Lead details, adding Team Lead to the DataFrame*"
   ]
  },
  {
   "cell_type": "code",
   "execution_count": 49,
   "id": "664ae142",
   "metadata": {
    "execution": {
     "iopub.execute_input": "2024-12-15T12:14:26.379674Z",
     "iopub.status.busy": "2024-12-15T12:14:26.379276Z",
     "iopub.status.idle": "2024-12-15T12:14:26.394189Z",
     "shell.execute_reply": "2024-12-15T12:14:26.392894Z"
    },
    "papermill": {
     "duration": 0.036628,
     "end_time": "2024-12-15T12:14:26.396562",
     "exception": false,
     "start_time": "2024-12-15T12:14:26.359934",
     "status": "completed"
    },
    "tags": []
   },
   "outputs": [
    {
     "name": "stdout",
     "output_type": "stream",
     "text": [
      "                Name Department Team Lead\n",
      "0  Taylor Williamson         HR      John\n",
      "1  Rodney Richardson         HR      John\n",
      "2       Amanda Baker         HR      John\n",
      "3    Michelle Durham         HR      John\n",
      "4       Cory Escobar         HR      John\n"
     ]
    }
   ],
   "source": [
    "# Create a dataset with 'Department' and 'Team Lead'\n",
    "department_team_lead = pd.DataFrame({\n",
    "    'Department': ['HR', 'IT', 'Finance', 'Sales'],\n",
    "    'Team Lead': ['John', 'Sarah', 'Michael', 'Emma']\n",
    "})\n",
    "\n",
    "# Perform a left join with the original dataset\n",
    "df_with_team_lead = pd.merge(df, department_team_lead, on='Department', how='left')\n",
    "\n",
    "# Print the result\n",
    "print(df_with_team_lead[['Name', 'Department', 'Team Lead']].head())"
   ]
  },
  {
   "cell_type": "markdown",
   "id": "6344e8a5",
   "metadata": {
    "papermill": {
     "duration": 0.021167,
     "end_time": "2024-12-15T12:14:26.436086",
     "exception": false,
     "start_time": "2024-12-15T12:14:26.414919",
     "status": "completed"
    },
    "tags": []
   },
   "source": [
    "## **Step :48** *Create a DataFrame with employee ID and Project Count, then merge it with the original dataset. Calculate the average Salary per project*"
   ]
  },
  {
   "cell_type": "code",
   "execution_count": 50,
   "id": "d14be1b2",
   "metadata": {
    "execution": {
     "iopub.execute_input": "2024-12-15T12:14:26.478489Z",
     "iopub.status.busy": "2024-12-15T12:14:26.478032Z",
     "iopub.status.idle": "2024-12-15T12:14:26.493749Z",
     "shell.execute_reply": "2024-12-15T12:14:26.492533Z"
    },
    "papermill": {
     "duration": 0.038748,
     "end_time": "2024-12-15T12:14:26.495978",
     "exception": false,
     "start_time": "2024-12-15T12:14:26.457230",
     "status": "completed"
    },
    "tags": []
   },
   "outputs": [
    {
     "name": "stdout",
     "output_type": "stream",
     "text": [
      "              Name    Salary  Project Count  Avg Salary per Project\n",
      "0  Jennifer Hansen  0.112434              2                0.056217\n",
      "1      Jose Henson  0.556906              4                0.139227\n",
      "2   James Saunders  0.592504              5                0.118501\n",
      "3    Bryan Navarro  0.942968              3                0.314323\n"
     ]
    }
   ],
   "source": [
    "# Create a DataFrame with employee ID and Project Count\n",
    "project_count = pd.DataFrame({\n",
    "    'ID': [101, 102, 103, 104],\n",
    "    'Project Count': [3, 2, 5, 4]\n",
    "})\n",
    "\n",
    "# Merge it with the original dataset\n",
    "df_project_count = pd.merge(df, project_count, on='ID', how='inner')\n",
    "\n",
    "# Calculate the average Salary per project\n",
    "df_project_count['Avg Salary per Project'] = df_project_count['Salary'] / df_project_count['Project Count']\n",
    "\n",
    "# Print the result\n",
    "print(df_project_count[['Name', 'Salary', 'Project Count', 'Avg Salary per Project']].head())"
   ]
  },
  {
   "cell_type": "markdown",
   "id": "00c37ea2",
   "metadata": {
    "papermill": {
     "duration": 0.018663,
     "end_time": "2024-12-15T12:14:26.533242",
     "exception": false,
     "start_time": "2024-12-15T12:14:26.514579",
     "status": "completed"
    },
    "tags": []
   },
   "source": [
    "## **Step :49** *Calculate the percentage increase in Salary for each employee compared to the average Salary in their Department*"
   ]
  },
  {
   "cell_type": "code",
   "execution_count": 51,
   "id": "7a4fc727",
   "metadata": {
    "execution": {
     "iopub.execute_input": "2024-12-15T12:14:26.571631Z",
     "iopub.status.busy": "2024-12-15T12:14:26.571221Z",
     "iopub.status.idle": "2024-12-15T12:14:26.583835Z",
     "shell.execute_reply": "2024-12-15T12:14:26.582639Z"
    },
    "papermill": {
     "duration": 0.034822,
     "end_time": "2024-12-15T12:14:26.586005",
     "exception": false,
     "start_time": "2024-12-15T12:14:26.551183",
     "status": "completed"
    },
    "tags": []
   },
   "outputs": [
    {
     "name": "stdout",
     "output_type": "stream",
     "text": [
      "                  Name Department    Salary  Salary Increase (%)\n",
      "514  Taylor Williamson         HR  0.912259            85.026626\n",
      "11   Rodney Richardson         HR  0.613312            24.393416\n",
      "7         Amanda Baker         HR  0.535222             8.555056\n",
      "677    Michelle Durham         HR  0.486964            -1.232695\n",
      "0         Cory Escobar         HR  0.454500            -7.817182\n"
     ]
    }
   ],
   "source": [
    "# Calculate the average Salary by Department\n",
    "avg_salary_by_department = df.groupby('Department')['Salary'].transform('mean')\n",
    "\n",
    "# Calculate the percentage increase in Salary for each employee\n",
    "df['Salary Increase (%)'] = ((df['Salary'] - avg_salary_by_department) / avg_salary_by_department) * 100\n",
    "\n",
    "# Print the result\n",
    "print(df[['Name', 'Department', 'Salary', 'Salary Increase (%)']].head())"
   ]
  },
  {
   "cell_type": "markdown",
   "id": "62f8b608",
   "metadata": {
    "papermill": {
     "duration": 0.018109,
     "end_time": "2024-12-15T12:14:26.623044",
     "exception": false,
     "start_time": "2024-12-15T12:14:26.604935",
     "status": "completed"
    },
    "tags": []
   },
   "source": [
    "# Thanks!"
   ]
  }
 ],
 "metadata": {
  "kaggle": {
   "accelerator": "none",
   "dataSources": [
    {
     "datasetId": 6273583,
     "sourceId": 10160144,
     "sourceType": "datasetVersion"
    }
   ],
   "dockerImageVersionId": 30804,
   "isGpuEnabled": false,
   "isInternetEnabled": true,
   "language": "python",
   "sourceType": "notebook"
  },
  "kernelspec": {
   "display_name": "Python 3",
   "language": "python",
   "name": "python3"
  },
  "language_info": {
   "codemirror_mode": {
    "name": "ipython",
    "version": 3
   },
   "file_extension": ".py",
   "mimetype": "text/x-python",
   "name": "python",
   "nbconvert_exporter": "python",
   "pygments_lexer": "ipython3",
   "version": "3.10.14"
  },
  "papermill": {
   "default_parameters": {},
   "duration": 8.582975,
   "end_time": "2024-12-15T12:14:27.163619",
   "environment_variables": {},
   "exception": null,
   "input_path": "__notebook__.ipynb",
   "output_path": "__notebook__.ipynb",
   "parameters": {},
   "start_time": "2024-12-15T12:14:18.580644",
   "version": "2.6.0"
  }
 },
 "nbformat": 4,
 "nbformat_minor": 5
}
